{
  "nbformat": 4,
  "nbformat_minor": 0,
  "metadata": {
    "colab": {
      "name": "rlscope_tutorial.ipynb",
      "provenance": [],
      "collapsed_sections": []
    },
    "kernelspec": {
      "name": "python3",
      "display_name": "Python 3"
    },
    "accelerator": "GPU"
  },
  "cells": [
    {
      "cell_type": "markdown",
      "metadata": {
        "id": "hyyN-2qyK_T2"
      },
      "source": [
        "# Stable Baselines3 Tutorial - Getting Started\n",
        "\n",
        "Github repo: https://github.com/araffin/rl-tutorial-jnrr19/tree/sb3/\n",
        "\n",
        "Stable-Baselines3: https://github.com/DLR-RM/stable-baselines3\n",
        "\n",
        "Documentation: https://stable-baselines3.readthedocs.io/en/master/\n",
        "\n",
        "RL Baselines3 zoo: https://github.com/DLR-RM/rl-baselines3-zoo\n",
        "\n",
        "[RL Baselines3 Zoo](https://github.com/DLR-RM/rl-baselines3-zoo) is a collection of pre-trained Reinforcement Learning agents using Stable-Baselines3.\n",
        "\n",
        "It also provides basic scripts for training, evaluating agents, tuning hyperparameters and recording videos.\n",
        "\n",
        "\n",
        "## Introduction\n",
        "\n",
        "In this notebook, you will learn the basics for using stable baselines library: how to create a RL model, train it and evaluate it. Because all algorithms share the same interface, we will see how simple it is to switch from one algorithm to another.\n",
        "\n",
        "\n",
        "## Install Dependencies and Stable Baselines3 Using Pip\n",
        "\n",
        "List of full dependencies can be found in the [README](https://github.com/DLR-RM/stable-baselines3).\n",
        "\n",
        "\n",
        "```\n",
        "pip install stable-baselines3[extra]\n",
        "```"
      ]
    },
    {
      "cell_type": "code",
      "metadata": {
        "id": "gWskDE2c9WoN",
        "colab": {
          "base_uri": "https://localhost:8080/"
        },
        "outputId": "f3cdb7c7-bbb4-4eed-c6e1-2e24497f05f8"
      },
      "source": [
        "!apt-get install ffmpeg freeglut3-dev xvfb  # For visualization\n",
        "!pip install stable-baselines3[extra]"
      ],
      "execution_count": 1,
      "outputs": [
        {
          "output_type": "stream",
          "text": [
            "Reading package lists... Done\n",
            "Building dependency tree       \n",
            "Reading state information... Done\n",
            "freeglut3-dev is already the newest version (2.8.1-3).\n",
            "freeglut3-dev set to manually installed.\n",
            "ffmpeg is already the newest version (7:3.4.8-0ubuntu0.2).\n",
            "The following NEW packages will be installed:\n",
            "  xvfb\n",
            "0 upgraded, 1 newly installed, 0 to remove and 13 not upgraded.\n",
            "Need to get 784 kB of archives.\n",
            "After this operation, 2,270 kB of additional disk space will be used.\n",
            "Get:1 http://archive.ubuntu.com/ubuntu bionic-updates/universe amd64 xvfb amd64 2:1.19.6-1ubuntu4.8 [784 kB]\n",
            "Fetched 784 kB in 1s (712 kB/s)\n",
            "Selecting previously unselected package xvfb.\n",
            "(Reading database ... 146374 files and directories currently installed.)\n",
            "Preparing to unpack .../xvfb_2%3a1.19.6-1ubuntu4.8_amd64.deb ...\n",
            "Unpacking xvfb (2:1.19.6-1ubuntu4.8) ...\n",
            "Setting up xvfb (2:1.19.6-1ubuntu4.8) ...\n",
            "Processing triggers for man-db (2.8.3-2ubuntu0.1) ...\n",
            "Collecting stable-baselines3[extra]\n",
            "\u001b[?25l  Downloading https://files.pythonhosted.org/packages/76/7c/ec89fd9a51c2ff640f150479069be817136c02f02349b5dd27a6e3bb8b3d/stable_baselines3-0.10.0-py3-none-any.whl (145kB)\n",
            "\u001b[K     |████████████████████████████████| 153kB 8.8MB/s \n",
            "\u001b[?25hRequirement already satisfied: torch>=1.4.0 in /usr/local/lib/python3.6/dist-packages (from stable-baselines3[extra]) (1.7.0+cu101)\n",
            "Requirement already satisfied: numpy in /usr/local/lib/python3.6/dist-packages (from stable-baselines3[extra]) (1.19.5)\n",
            "Requirement already satisfied: pandas in /usr/local/lib/python3.6/dist-packages (from stable-baselines3[extra]) (1.1.5)\n",
            "Requirement already satisfied: cloudpickle in /usr/local/lib/python3.6/dist-packages (from stable-baselines3[extra]) (1.3.0)\n",
            "Requirement already satisfied: gym>=0.17 in /usr/local/lib/python3.6/dist-packages (from stable-baselines3[extra]) (0.17.3)\n",
            "Requirement already satisfied: matplotlib in /usr/local/lib/python3.6/dist-packages (from stable-baselines3[extra]) (3.2.2)\n",
            "Requirement already satisfied: atari-py~=0.2.0; extra == \"extra\" in /usr/local/lib/python3.6/dist-packages (from stable-baselines3[extra]) (0.2.6)\n",
            "Requirement already satisfied: psutil; extra == \"extra\" in /usr/local/lib/python3.6/dist-packages (from stable-baselines3[extra]) (5.4.8)\n",
            "Requirement already satisfied: opencv-python; extra == \"extra\" in /usr/local/lib/python3.6/dist-packages (from stable-baselines3[extra]) (4.1.2.30)\n",
            "Requirement already satisfied: pillow; extra == \"extra\" in /usr/local/lib/python3.6/dist-packages (from stable-baselines3[extra]) (7.0.0)\n",
            "Requirement already satisfied: tensorboard; extra == \"extra\" in /usr/local/lib/python3.6/dist-packages (from stable-baselines3[extra]) (2.4.1)\n",
            "Requirement already satisfied: future in /usr/local/lib/python3.6/dist-packages (from torch>=1.4.0->stable-baselines3[extra]) (0.16.0)\n",
            "Requirement already satisfied: typing-extensions in /usr/local/lib/python3.6/dist-packages (from torch>=1.4.0->stable-baselines3[extra]) (3.7.4.3)\n",
            "Requirement already satisfied: dataclasses in /usr/local/lib/python3.6/dist-packages (from torch>=1.4.0->stable-baselines3[extra]) (0.8)\n",
            "Requirement already satisfied: python-dateutil>=2.7.3 in /usr/local/lib/python3.6/dist-packages (from pandas->stable-baselines3[extra]) (2.8.1)\n",
            "Requirement already satisfied: pytz>=2017.2 in /usr/local/lib/python3.6/dist-packages (from pandas->stable-baselines3[extra]) (2018.9)\n",
            "Requirement already satisfied: scipy in /usr/local/lib/python3.6/dist-packages (from gym>=0.17->stable-baselines3[extra]) (1.4.1)\n",
            "Requirement already satisfied: pyglet<=1.5.0,>=1.4.0 in /usr/local/lib/python3.6/dist-packages (from gym>=0.17->stable-baselines3[extra]) (1.5.0)\n",
            "Requirement already satisfied: kiwisolver>=1.0.1 in /usr/local/lib/python3.6/dist-packages (from matplotlib->stable-baselines3[extra]) (1.3.1)\n",
            "Requirement already satisfied: cycler>=0.10 in /usr/local/lib/python3.6/dist-packages (from matplotlib->stable-baselines3[extra]) (0.10.0)\n",
            "Requirement already satisfied: pyparsing!=2.0.4,!=2.1.2,!=2.1.6,>=2.0.1 in /usr/local/lib/python3.6/dist-packages (from matplotlib->stable-baselines3[extra]) (2.4.7)\n",
            "Requirement already satisfied: six in /usr/local/lib/python3.6/dist-packages (from atari-py~=0.2.0; extra == \"extra\"->stable-baselines3[extra]) (1.15.0)\n",
            "Requirement already satisfied: protobuf>=3.6.0 in /usr/local/lib/python3.6/dist-packages (from tensorboard; extra == \"extra\"->stable-baselines3[extra]) (3.12.4)\n",
            "Requirement already satisfied: werkzeug>=0.11.15 in /usr/local/lib/python3.6/dist-packages (from tensorboard; extra == \"extra\"->stable-baselines3[extra]) (1.0.1)\n",
            "Requirement already satisfied: absl-py>=0.4 in /usr/local/lib/python3.6/dist-packages (from tensorboard; extra == \"extra\"->stable-baselines3[extra]) (0.10.0)\n",
            "Requirement already satisfied: google-auth<2,>=1.6.3 in /usr/local/lib/python3.6/dist-packages (from tensorboard; extra == \"extra\"->stable-baselines3[extra]) (1.17.2)\n",
            "Requirement already satisfied: wheel>=0.26; python_version >= \"3\" in /usr/local/lib/python3.6/dist-packages (from tensorboard; extra == \"extra\"->stable-baselines3[extra]) (0.36.2)\n",
            "Requirement already satisfied: google-auth-oauthlib<0.5,>=0.4.1 in /usr/local/lib/python3.6/dist-packages (from tensorboard; extra == \"extra\"->stable-baselines3[extra]) (0.4.2)\n",
            "Requirement already satisfied: tensorboard-plugin-wit>=1.6.0 in /usr/local/lib/python3.6/dist-packages (from tensorboard; extra == \"extra\"->stable-baselines3[extra]) (1.8.0)\n",
            "Requirement already satisfied: setuptools>=41.0.0 in /usr/local/lib/python3.6/dist-packages (from tensorboard; extra == \"extra\"->stable-baselines3[extra]) (51.3.3)\n",
            "Requirement already satisfied: markdown>=2.6.8 in /usr/local/lib/python3.6/dist-packages (from tensorboard; extra == \"extra\"->stable-baselines3[extra]) (3.3.3)\n",
            "Requirement already satisfied: requests<3,>=2.21.0 in /usr/local/lib/python3.6/dist-packages (from tensorboard; extra == \"extra\"->stable-baselines3[extra]) (2.23.0)\n",
            "Requirement already satisfied: grpcio>=1.24.3 in /usr/local/lib/python3.6/dist-packages (from tensorboard; extra == \"extra\"->stable-baselines3[extra]) (1.32.0)\n",
            "Requirement already satisfied: cachetools<5.0,>=2.0.0 in /usr/local/lib/python3.6/dist-packages (from google-auth<2,>=1.6.3->tensorboard; extra == \"extra\"->stable-baselines3[extra]) (4.2.1)\n",
            "Requirement already satisfied: rsa<5,>=3.1.4; python_version >= \"3\" in /usr/local/lib/python3.6/dist-packages (from google-auth<2,>=1.6.3->tensorboard; extra == \"extra\"->stable-baselines3[extra]) (4.7)\n",
            "Requirement already satisfied: pyasn1-modules>=0.2.1 in /usr/local/lib/python3.6/dist-packages (from google-auth<2,>=1.6.3->tensorboard; extra == \"extra\"->stable-baselines3[extra]) (0.2.8)\n",
            "Requirement already satisfied: requests-oauthlib>=0.7.0 in /usr/local/lib/python3.6/dist-packages (from google-auth-oauthlib<0.5,>=0.4.1->tensorboard; extra == \"extra\"->stable-baselines3[extra]) (1.3.0)\n",
            "Requirement already satisfied: importlib-metadata; python_version < \"3.8\" in /usr/local/lib/python3.6/dist-packages (from markdown>=2.6.8->tensorboard; extra == \"extra\"->stable-baselines3[extra]) (3.4.0)\n",
            "Requirement already satisfied: idna<3,>=2.5 in /usr/local/lib/python3.6/dist-packages (from requests<3,>=2.21.0->tensorboard; extra == \"extra\"->stable-baselines3[extra]) (2.10)\n",
            "Requirement already satisfied: chardet<4,>=3.0.2 in /usr/local/lib/python3.6/dist-packages (from requests<3,>=2.21.0->tensorboard; extra == \"extra\"->stable-baselines3[extra]) (3.0.4)\n",
            "Requirement already satisfied: certifi>=2017.4.17 in /usr/local/lib/python3.6/dist-packages (from requests<3,>=2.21.0->tensorboard; extra == \"extra\"->stable-baselines3[extra]) (2020.12.5)\n",
            "Requirement already satisfied: urllib3!=1.25.0,!=1.25.1,<1.26,>=1.21.1 in /usr/local/lib/python3.6/dist-packages (from requests<3,>=2.21.0->tensorboard; extra == \"extra\"->stable-baselines3[extra]) (1.24.3)\n",
            "Requirement already satisfied: pyasn1>=0.1.3 in /usr/local/lib/python3.6/dist-packages (from rsa<5,>=3.1.4; python_version >= \"3\"->google-auth<2,>=1.6.3->tensorboard; extra == \"extra\"->stable-baselines3[extra]) (0.4.8)\n",
            "Requirement already satisfied: oauthlib>=3.0.0 in /usr/local/lib/python3.6/dist-packages (from requests-oauthlib>=0.7.0->google-auth-oauthlib<0.5,>=0.4.1->tensorboard; extra == \"extra\"->stable-baselines3[extra]) (3.1.0)\n",
            "Requirement already satisfied: zipp>=0.5 in /usr/local/lib/python3.6/dist-packages (from importlib-metadata; python_version < \"3.8\"->markdown>=2.6.8->tensorboard; extra == \"extra\"->stable-baselines3[extra]) (3.4.0)\n",
            "Installing collected packages: stable-baselines3\n",
            "Successfully installed stable-baselines3-0.10.0\n"
          ],
          "name": "stdout"
        }
      ]
    },
    {
      "cell_type": "code",
      "metadata": {
        "colab": {
          "base_uri": "https://localhost:8080/"
        },
        "id": "d-lz2a7ugOQt",
        "outputId": "4e822cac-84a4-439d-d9e6-77209958607e"
      },
      "source": [
        "!lsb_release -a"
      ],
      "execution_count": 2,
      "outputs": [
        {
          "output_type": "stream",
          "text": [
            "No LSB modules are available.\n",
            "Distributor ID:\tUbuntu\n",
            "Description:\tUbuntu 18.04.5 LTS\n",
            "Release:\t18.04\n",
            "Codename:\tbionic\n"
          ],
          "name": "stdout"
        }
      ]
    },
    {
      "cell_type": "code",
      "metadata": {
        "colab": {
          "base_uri": "https://localhost:8080/"
        },
        "id": "SvjXPUvBgSXs",
        "outputId": "feb1111b-74de-4a8f-8d51-f3e4f77400a4"
      },
      "source": [
        "!ls -ld /usr/local/cuda*"
      ],
      "execution_count": 5,
      "outputs": [
        {
          "output_type": "stream",
          "text": [
            "lrwxrwxrwx  1 root root    9 Jan 20 17:22 /usr/local/cuda -> cuda-10.1\n",
            "drwxr-xr-x 16 root root 4096 Jan 20 17:19 /usr/local/cuda-10.0\n",
            "drwxr-xr-x  1 root root 4096 Jan 20 17:21 /usr/local/cuda-10.1\n"
          ],
          "name": "stdout"
        }
      ]
    },
    {
      "cell_type": "code",
      "metadata": {
        "colab": {
          "base_uri": "https://localhost:8080/",
          "height": 1000
        },
        "id": "rbJblQ0ogYlQ",
        "outputId": "74930f4c-7645-4a0f-9bbf-ebdd88011b23"
      },
      "source": [
        "!pip uninstall -y rlscope || true\n",
        "!pip install rlscope==0.0.1+cu101 -f https://uoft-ecosystem.github.io/rlscope/whl"
      ],
      "execution_count": 20,
      "outputs": [
        {
          "output_type": "stream",
          "text": [
            "Uninstalling rlscope-0.0.1+cu101:\n",
            "  Successfully uninstalled rlscope-0.0.1+cu101\n",
            "Looking in links: https://uoft-ecosystem.github.io/rlscope/whl\n",
            "Collecting rlscope==0.0.1+cu101\n",
            "\u001b[?25l  Downloading https://github.com/UofT-EcoSystem/rlscope/releases/download/v0.0.1/rlscope-0.0.1%2Bcu101-py3-none-manylinux1_x86_64.whl (26.6MB)\n",
            "\u001b[K     |████████████████████████████████| 26.6MB 123kB/s \n",
            "\u001b[?25hRequirement already satisfied: pdbpp>=0.10.0 in /usr/local/lib/python3.6/dist-packages (from rlscope==0.0.1+cu101) (0.10.2)\n",
            "Requirement already satisfied: ipdb>=0.12 in /usr/local/lib/python3.6/dist-packages (from rlscope==0.0.1+cu101) (0.13.4)\n",
            "Requirement already satisfied: matplotlib in /usr/local/lib/python3.6/dist-packages (from rlscope==0.0.1+cu101) (3.2.2)\n",
            "Requirement already satisfied: PyYAML>=5.1 in /usr/local/lib/python3.6/dist-packages (from rlscope==0.0.1+cu101) (5.4.1)\n",
            "Requirement already satisfied: absl-py>=0.6.1 in /usr/local/lib/python3.6/dist-packages (from rlscope==0.0.1+cu101) (0.10.0)\n",
            "Requirement already satisfied: sphinx-rtd-theme>=0.5.0 in /usr/local/lib/python3.6/dist-packages (from rlscope==0.0.1+cu101) (0.5.1)\n",
            "Requirement already satisfied: pytest>=4.4.1 in /usr/local/lib/python3.6/dist-packages (from rlscope==0.0.1+cu101) (6.2.2)\n",
            "Requirement already satisfied: wheel>=0.26 in /usr/local/lib/python3.6/dist-packages (from rlscope==0.0.1+cu101) (0.36.2)\n",
            "Requirement already satisfied: psutil>=5.6.2 in /usr/local/lib/python3.6/dist-packages (from rlscope==0.0.1+cu101) (5.8.0)\n",
            "Requirement already satisfied: numpy>=1.13.3 in /usr/local/lib/python3.6/dist-packages (from rlscope==0.0.1+cu101) (1.19.5)\n",
            "Requirement already satisfied: progressbar2>=3.39.2 in /usr/local/lib/python3.6/dist-packages (from rlscope==0.0.1+cu101) (3.53.1)\n",
            "Requirement already satisfied: sphinx>=3.2.1 in /usr/local/lib/python3.6/dist-packages (from rlscope==0.0.1+cu101) (3.4.3)\n",
            "Requirement already satisfied: pandas>=0.24.2 in /usr/local/lib/python3.6/dist-packages (from rlscope==0.0.1+cu101) (1.1.5)\n",
            "Requirement already satisfied: docker>=4.0.1 in /usr/local/lib/python3.6/dist-packages (from rlscope==0.0.1+cu101) (4.4.1)\n",
            "Requirement already satisfied: py-cpuinfo>=4.0.0 in /usr/local/lib/python3.6/dist-packages (from rlscope==0.0.1+cu101) (7.0.0)\n",
            "Requirement already satisfied: colorlog>=4.2.1 in /usr/local/lib/python3.6/dist-packages (from rlscope==0.0.1+cu101) (4.7.2)\n",
            "Requirement already satisfied: tqdm>=4.31.1 in /usr/local/lib/python3.6/dist-packages (from rlscope==0.0.1+cu101) (4.41.1)\n",
            "Requirement already satisfied: luigi>=2.8.6 in /usr/local/lib/python3.6/dist-packages (from rlscope==0.0.1+cu101) (3.0.2)\n",
            "Requirement already satisfied: scipy>=1.2.1 in /usr/local/lib/python3.6/dist-packages (from rlscope==0.0.1+cu101) (1.4.1)\n",
            "Requirement already satisfied: Cerberus>=1.3.1 in /usr/local/lib/python3.6/dist-packages (from rlscope==0.0.1+cu101) (1.3.2)\n",
            "Requirement already satisfied: protobuf>=3.6.1 in /usr/local/lib/python3.6/dist-packages (from rlscope==0.0.1+cu101) (3.12.4)\n",
            "Requirement already satisfied: seaborn>=0.9.0 in /usr/local/lib/python3.6/dist-packages (from rlscope==0.0.1+cu101) (0.11.1)\n",
            "Requirement already satisfied: pygments in /usr/local/lib/python3.6/dist-packages (from pdbpp>=0.10.0->rlscope==0.0.1+cu101) (2.6.1)\n",
            "Requirement already satisfied: wmctrl in /usr/local/lib/python3.6/dist-packages (from pdbpp>=0.10.0->rlscope==0.0.1+cu101) (0.3)\n",
            "Requirement already satisfied: fancycompleter>=0.8 in /usr/local/lib/python3.6/dist-packages (from pdbpp>=0.10.0->rlscope==0.0.1+cu101) (0.9.1)\n",
            "Requirement already satisfied: ipython>=5.1.0; python_version >= \"3.4\" in /usr/local/lib/python3.6/dist-packages (from ipdb>=0.12->rlscope==0.0.1+cu101) (5.5.0)\n",
            "Requirement already satisfied: setuptools in /usr/local/lib/python3.6/dist-packages (from ipdb>=0.12->rlscope==0.0.1+cu101) (51.3.3)\n",
            "Requirement already satisfied: kiwisolver>=1.0.1 in /usr/local/lib/python3.6/dist-packages (from matplotlib->rlscope==0.0.1+cu101) (1.3.1)\n",
            "Requirement already satisfied: cycler>=0.10 in /usr/local/lib/python3.6/dist-packages (from matplotlib->rlscope==0.0.1+cu101) (0.10.0)\n",
            "Requirement already satisfied: pyparsing!=2.0.4,!=2.1.2,!=2.1.6,>=2.0.1 in /usr/local/lib/python3.6/dist-packages (from matplotlib->rlscope==0.0.1+cu101) (2.4.7)\n",
            "Requirement already satisfied: python-dateutil>=2.1 in /usr/local/lib/python3.6/dist-packages (from matplotlib->rlscope==0.0.1+cu101) (2.8.1)\n",
            "Requirement already satisfied: six in /usr/local/lib/python3.6/dist-packages (from absl-py>=0.6.1->rlscope==0.0.1+cu101) (1.15.0)\n",
            "Requirement already satisfied: attrs>=19.2.0 in /usr/local/lib/python3.6/dist-packages (from pytest>=4.4.1->rlscope==0.0.1+cu101) (20.3.0)\n",
            "Requirement already satisfied: py>=1.8.2 in /usr/local/lib/python3.6/dist-packages (from pytest>=4.4.1->rlscope==0.0.1+cu101) (1.10.0)\n",
            "Requirement already satisfied: pluggy<1.0.0a1,>=0.12 in /usr/local/lib/python3.6/dist-packages (from pytest>=4.4.1->rlscope==0.0.1+cu101) (0.13.1)\n",
            "Requirement already satisfied: packaging in /usr/local/lib/python3.6/dist-packages (from pytest>=4.4.1->rlscope==0.0.1+cu101) (20.8)\n",
            "Requirement already satisfied: iniconfig in /usr/local/lib/python3.6/dist-packages (from pytest>=4.4.1->rlscope==0.0.1+cu101) (1.1.1)\n",
            "Requirement already satisfied: importlib-metadata>=0.12; python_version < \"3.8\" in /usr/local/lib/python3.6/dist-packages (from pytest>=4.4.1->rlscope==0.0.1+cu101) (3.4.0)\n",
            "Requirement already satisfied: toml in /usr/local/lib/python3.6/dist-packages (from pytest>=4.4.1->rlscope==0.0.1+cu101) (0.10.2)\n",
            "Requirement already satisfied: python-utils>=2.3.0 in /usr/local/lib/python3.6/dist-packages (from progressbar2>=3.39.2->rlscope==0.0.1+cu101) (2.5.3)\n",
            "Requirement already satisfied: sphinxcontrib-qthelp in /usr/local/lib/python3.6/dist-packages (from sphinx>=3.2.1->rlscope==0.0.1+cu101) (1.0.3)\n",
            "Requirement already satisfied: sphinxcontrib-applehelp in /usr/local/lib/python3.6/dist-packages (from sphinx>=3.2.1->rlscope==0.0.1+cu101) (1.0.2)\n",
            "Requirement already satisfied: docutils>=0.12 in /usr/local/lib/python3.6/dist-packages (from sphinx>=3.2.1->rlscope==0.0.1+cu101) (0.16)\n",
            "Requirement already satisfied: snowballstemmer>=1.1 in /usr/local/lib/python3.6/dist-packages (from sphinx>=3.2.1->rlscope==0.0.1+cu101) (2.1.0)\n",
            "Requirement already satisfied: sphinxcontrib-devhelp in /usr/local/lib/python3.6/dist-packages (from sphinx>=3.2.1->rlscope==0.0.1+cu101) (1.0.2)\n",
            "Requirement already satisfied: Jinja2>=2.3 in /usr/local/lib/python3.6/dist-packages (from sphinx>=3.2.1->rlscope==0.0.1+cu101) (2.11.2)\n",
            "Requirement already satisfied: sphinxcontrib-serializinghtml in /usr/local/lib/python3.6/dist-packages (from sphinx>=3.2.1->rlscope==0.0.1+cu101) (1.1.4)\n",
            "Requirement already satisfied: requests>=2.5.0 in /usr/local/lib/python3.6/dist-packages (from sphinx>=3.2.1->rlscope==0.0.1+cu101) (2.23.0)\n",
            "Requirement already satisfied: sphinxcontrib-jsmath in /usr/local/lib/python3.6/dist-packages (from sphinx>=3.2.1->rlscope==0.0.1+cu101) (1.0.1)\n",
            "Requirement already satisfied: imagesize in /usr/local/lib/python3.6/dist-packages (from sphinx>=3.2.1->rlscope==0.0.1+cu101) (1.2.0)\n",
            "Requirement already satisfied: sphinxcontrib-htmlhelp in /usr/local/lib/python3.6/dist-packages (from sphinx>=3.2.1->rlscope==0.0.1+cu101) (1.0.3)\n",
            "Requirement already satisfied: alabaster<0.8,>=0.7 in /usr/local/lib/python3.6/dist-packages (from sphinx>=3.2.1->rlscope==0.0.1+cu101) (0.7.12)\n",
            "Requirement already satisfied: babel>=1.3 in /usr/local/lib/python3.6/dist-packages (from sphinx>=3.2.1->rlscope==0.0.1+cu101) (2.9.0)\n",
            "Requirement already satisfied: pytz>=2017.2 in /usr/local/lib/python3.6/dist-packages (from pandas>=0.24.2->rlscope==0.0.1+cu101) (2018.9)\n",
            "Requirement already satisfied: websocket-client>=0.32.0 in /usr/local/lib/python3.6/dist-packages (from docker>=4.0.1->rlscope==0.0.1+cu101) (0.57.0)\n",
            "Requirement already satisfied: python-daemon in /usr/local/lib/python3.6/dist-packages (from luigi>=2.8.6->rlscope==0.0.1+cu101) (2.2.4)\n",
            "Requirement already satisfied: tornado<7,>=5.0 in /usr/local/lib/python3.6/dist-packages (from luigi>=2.8.6->rlscope==0.0.1+cu101) (5.1.1)\n",
            "Requirement already satisfied: pyrepl>=0.8.2 in /usr/local/lib/python3.6/dist-packages (from fancycompleter>=0.8->pdbpp>=0.10.0->rlscope==0.0.1+cu101) (0.9.0)\n",
            "Requirement already satisfied: decorator in /usr/local/lib/python3.6/dist-packages (from ipython>=5.1.0; python_version >= \"3.4\"->ipdb>=0.12->rlscope==0.0.1+cu101) (4.4.2)\n",
            "Requirement already satisfied: pexpect; sys_platform != \"win32\" in /usr/local/lib/python3.6/dist-packages (from ipython>=5.1.0; python_version >= \"3.4\"->ipdb>=0.12->rlscope==0.0.1+cu101) (4.8.0)\n",
            "Requirement already satisfied: pickleshare in /usr/local/lib/python3.6/dist-packages (from ipython>=5.1.0; python_version >= \"3.4\"->ipdb>=0.12->rlscope==0.0.1+cu101) (0.7.5)\n",
            "Requirement already satisfied: simplegeneric>0.8 in /usr/local/lib/python3.6/dist-packages (from ipython>=5.1.0; python_version >= \"3.4\"->ipdb>=0.12->rlscope==0.0.1+cu101) (0.8.1)\n",
            "Requirement already satisfied: traitlets>=4.2 in /usr/local/lib/python3.6/dist-packages (from ipython>=5.1.0; python_version >= \"3.4\"->ipdb>=0.12->rlscope==0.0.1+cu101) (4.3.3)\n",
            "Requirement already satisfied: prompt-toolkit<2.0.0,>=1.0.4 in /usr/local/lib/python3.6/dist-packages (from ipython>=5.1.0; python_version >= \"3.4\"->ipdb>=0.12->rlscope==0.0.1+cu101) (1.0.18)\n",
            "Requirement already satisfied: zipp>=0.5 in /usr/local/lib/python3.6/dist-packages (from importlib-metadata>=0.12; python_version < \"3.8\"->pytest>=4.4.1->rlscope==0.0.1+cu101) (3.4.0)\n",
            "Requirement already satisfied: typing-extensions>=3.6.4; python_version < \"3.8\" in /usr/local/lib/python3.6/dist-packages (from importlib-metadata>=0.12; python_version < \"3.8\"->pytest>=4.4.1->rlscope==0.0.1+cu101) (3.7.4.3)\n",
            "Requirement already satisfied: MarkupSafe>=0.23 in /usr/local/lib/python3.6/dist-packages (from Jinja2>=2.3->sphinx>=3.2.1->rlscope==0.0.1+cu101) (1.1.1)\n",
            "Requirement already satisfied: urllib3!=1.25.0,!=1.25.1,<1.26,>=1.21.1 in /usr/local/lib/python3.6/dist-packages (from requests>=2.5.0->sphinx>=3.2.1->rlscope==0.0.1+cu101) (1.24.3)\n",
            "Requirement already satisfied: idna<3,>=2.5 in /usr/local/lib/python3.6/dist-packages (from requests>=2.5.0->sphinx>=3.2.1->rlscope==0.0.1+cu101) (2.10)\n",
            "Requirement already satisfied: chardet<4,>=3.0.2 in /usr/local/lib/python3.6/dist-packages (from requests>=2.5.0->sphinx>=3.2.1->rlscope==0.0.1+cu101) (3.0.4)\n",
            "Requirement already satisfied: certifi>=2017.4.17 in /usr/local/lib/python3.6/dist-packages (from requests>=2.5.0->sphinx>=3.2.1->rlscope==0.0.1+cu101) (2020.12.5)\n",
            "Requirement already satisfied: lockfile>=0.10 in /usr/local/lib/python3.6/dist-packages (from python-daemon->luigi>=2.8.6->rlscope==0.0.1+cu101) (0.12.2)\n",
            "Requirement already satisfied: ptyprocess>=0.5 in /usr/local/lib/python3.6/dist-packages (from pexpect; sys_platform != \"win32\"->ipython>=5.1.0; python_version >= \"3.4\"->ipdb>=0.12->rlscope==0.0.1+cu101) (0.7.0)\n",
            "Requirement already satisfied: ipython-genutils in /usr/local/lib/python3.6/dist-packages (from traitlets>=4.2->ipython>=5.1.0; python_version >= \"3.4\"->ipdb>=0.12->rlscope==0.0.1+cu101) (0.2.0)\n",
            "Requirement already satisfied: wcwidth in /usr/local/lib/python3.6/dist-packages (from prompt-toolkit<2.0.0,>=1.0.4->ipython>=5.1.0; python_version >= \"3.4\"->ipdb>=0.12->rlscope==0.0.1+cu101) (0.2.5)\n",
            "Installing collected packages: rlscope\n",
            "Successfully installed rlscope-0.0.1+cu101\n"
          ],
          "name": "stdout"
        },
        {
          "output_type": "display_data",
          "data": {
            "application/vnd.colab-display-data+json": {
              "pip_warning": {
                "packages": [
                  "rlscope"
                ]
              }
            }
          },
          "metadata": {
            "tags": []
          }
        }
      ]
    },
    {
      "cell_type": "code",
      "metadata": {
        "colab": {
          "base_uri": "https://localhost:8080/"
        },
        "id": "VwaK7WR5okS2",
        "outputId": "b54d4163-7f0c-41f2-a979-4d89ff142e06"
      },
      "source": [
        "!apt install texlive-extra-utils"
      ],
      "execution_count": 11,
      "outputs": [
        {
          "output_type": "stream",
          "text": [
            "Reading package lists... Done\n",
            "Building dependency tree       \n",
            "Reading state information... Done\n",
            "The following additional packages will be installed:\n",
            "  fonts-droid-fallback fonts-lato fonts-lmodern fonts-noto-mono ghostscript\n",
            "  gsfonts javascript-common libcupsfilters1 libcupsimage2 libfile-homedir-perl\n",
            "  libfile-which-perl libgs9 libgs9-common libijs-0.35 libjbig2dec0 libjs-jquery\n",
            "  libkpathsea6 libmime-charset-perl libpotrace0 libptexenc1 libruby2.5\n",
            "  libsombok3 libsynctex1 libtexlua52 libtexluajit2 libunicode-linebreak-perl\n",
            "  libyaml-tiny-perl libzzip-0-13 lmodern poppler-data rake ruby\n",
            "  ruby-did-you-mean ruby-minitest ruby-net-telnet ruby-power-assert\n",
            "  ruby-test-unit ruby2.5 rubygems-integration t1utils tex-common texlive-base\n",
            "  texlive-binaries texlive-latex-base texlive-latex-recommended\n",
            "Suggested packages:\n",
            "  fonts-noto ghostscript-x apache2 | lighttpd | httpd libencode-hanextra-perl\n",
            "  libpod2-base-perl poppler-utils fonts-japanese-mincho | fonts-ipafont-mincho\n",
            "  fonts-japanese-gothic | fonts-ipafont-gothic fonts-arphic-ukai\n",
            "  fonts-arphic-uming fonts-nanum ri ruby-dev bundler debhelper perl-tk\n",
            "  xpdf-reader | pdf-viewer chktex dvidvi dvipng fragmaster lacheck latexdiff\n",
            "  latexmk purifyeps xindy texlive-latex-base-doc texlive-latex-recommended-doc\n",
            "  texlive-pstricks\n",
            "The following NEW packages will be installed:\n",
            "  fonts-droid-fallback fonts-lato fonts-lmodern fonts-noto-mono ghostscript\n",
            "  gsfonts javascript-common libcupsfilters1 libcupsimage2 libfile-homedir-perl\n",
            "  libfile-which-perl libgs9 libgs9-common libijs-0.35 libjbig2dec0 libjs-jquery\n",
            "  libkpathsea6 libmime-charset-perl libpotrace0 libptexenc1 libruby2.5\n",
            "  libsombok3 libsynctex1 libtexlua52 libtexluajit2 libunicode-linebreak-perl\n",
            "  libyaml-tiny-perl libzzip-0-13 lmodern poppler-data rake ruby\n",
            "  ruby-did-you-mean ruby-minitest ruby-net-telnet ruby-power-assert\n",
            "  ruby-test-unit ruby2.5 rubygems-integration t1utils tex-common texlive-base\n",
            "  texlive-binaries texlive-extra-utils texlive-latex-base\n",
            "  texlive-latex-recommended\n",
            "0 upgraded, 46 newly installed, 0 to remove and 13 not upgraded.\n",
            "Need to get 98.8 MB of archives.\n",
            "After this operation, 282 MB of additional disk space will be used.\n",
            "Get:1 http://archive.ubuntu.com/ubuntu bionic/main amd64 fonts-droid-fallback all 1:6.0.1r16-1.1 [1,805 kB]\n",
            "Get:2 http://archive.ubuntu.com/ubuntu bionic/main amd64 fonts-lato all 2.0-2 [2,698 kB]\n",
            "Get:3 http://archive.ubuntu.com/ubuntu bionic/main amd64 poppler-data all 0.4.8-2 [1,479 kB]\n",
            "Get:4 http://archive.ubuntu.com/ubuntu bionic/main amd64 tex-common all 6.09 [33.0 kB]\n",
            "Get:5 http://archive.ubuntu.com/ubuntu bionic/main amd64 fonts-lmodern all 2.004.5-3 [4,551 kB]\n",
            "Get:6 http://archive.ubuntu.com/ubuntu bionic/main amd64 fonts-noto-mono all 20171026-2 [75.5 kB]\n",
            "Get:7 http://archive.ubuntu.com/ubuntu bionic-updates/main amd64 libcupsimage2 amd64 2.2.7-1ubuntu2.8 [18.6 kB]\n",
            "Get:8 http://archive.ubuntu.com/ubuntu bionic/main amd64 libijs-0.35 amd64 0.35-13 [15.5 kB]\n",
            "Get:9 http://archive.ubuntu.com/ubuntu bionic/main amd64 libjbig2dec0 amd64 0.13-6 [55.9 kB]\n",
            "Get:10 http://archive.ubuntu.com/ubuntu bionic-updates/main amd64 libgs9-common all 9.26~dfsg+0-0ubuntu0.18.04.14 [5,092 kB]\n",
            "Get:11 http://archive.ubuntu.com/ubuntu bionic-updates/main amd64 libgs9 amd64 9.26~dfsg+0-0ubuntu0.18.04.14 [2,265 kB]\n",
            "Get:12 http://archive.ubuntu.com/ubuntu bionic-updates/main amd64 ghostscript amd64 9.26~dfsg+0-0ubuntu0.18.04.14 [51.3 kB]\n",
            "Get:13 http://archive.ubuntu.com/ubuntu bionic/main amd64 gsfonts all 1:8.11+urwcyr1.0.7~pre44-4.4 [3,120 kB]\n",
            "Get:14 http://archive.ubuntu.com/ubuntu bionic/main amd64 javascript-common all 11 [6,066 B]\n",
            "Get:15 http://archive.ubuntu.com/ubuntu bionic-updates/main amd64 libcupsfilters1 amd64 1.20.2-0ubuntu3.1 [108 kB]\n",
            "Get:16 http://archive.ubuntu.com/ubuntu bionic/main amd64 libfile-which-perl all 1.21-1 [11.8 kB]\n",
            "Get:17 http://archive.ubuntu.com/ubuntu bionic/main amd64 libfile-homedir-perl all 1.002-1 [37.1 kB]\n",
            "Get:18 http://archive.ubuntu.com/ubuntu bionic/main amd64 libjs-jquery all 3.2.1-1 [152 kB]\n",
            "Get:19 http://archive.ubuntu.com/ubuntu bionic-updates/main amd64 libkpathsea6 amd64 2017.20170613.44572-8ubuntu0.1 [54.9 kB]\n",
            "Get:20 http://archive.ubuntu.com/ubuntu bionic/universe amd64 libmime-charset-perl all 1.012.2-1 [30.9 kB]\n",
            "Get:21 http://archive.ubuntu.com/ubuntu bionic/main amd64 libpotrace0 amd64 1.14-2 [17.4 kB]\n",
            "Get:22 http://archive.ubuntu.com/ubuntu bionic-updates/main amd64 libptexenc1 amd64 2017.20170613.44572-8ubuntu0.1 [34.5 kB]\n",
            "Get:23 http://archive.ubuntu.com/ubuntu bionic/main amd64 rubygems-integration all 1.11 [4,994 B]\n",
            "Get:24 http://archive.ubuntu.com/ubuntu bionic-updates/main amd64 ruby2.5 amd64 2.5.1-1ubuntu1.7 [48.6 kB]\n",
            "Get:25 http://archive.ubuntu.com/ubuntu bionic/main amd64 ruby amd64 1:2.5.1 [5,712 B]\n",
            "Get:26 http://archive.ubuntu.com/ubuntu bionic-updates/main amd64 rake all 12.3.1-1ubuntu0.1 [44.9 kB]\n",
            "Get:27 http://archive.ubuntu.com/ubuntu bionic/main amd64 ruby-did-you-mean all 1.2.0-2 [9,700 B]\n",
            "Get:28 http://archive.ubuntu.com/ubuntu bionic/main amd64 ruby-minitest all 5.10.3-1 [38.6 kB]\n",
            "Get:29 http://archive.ubuntu.com/ubuntu bionic/main amd64 ruby-net-telnet all 0.1.1-2 [12.6 kB]\n",
            "Get:30 http://archive.ubuntu.com/ubuntu bionic/main amd64 ruby-power-assert all 0.3.0-1 [7,952 B]\n",
            "Get:31 http://archive.ubuntu.com/ubuntu bionic/main amd64 ruby-test-unit all 3.2.5-1 [61.1 kB]\n",
            "Get:32 http://archive.ubuntu.com/ubuntu bionic-updates/main amd64 libruby2.5 amd64 2.5.1-1ubuntu1.7 [3,068 kB]\n",
            "Get:33 http://archive.ubuntu.com/ubuntu bionic/universe amd64 libsombok3 amd64 2.4.0-1 [27.2 kB]\n",
            "Get:34 http://archive.ubuntu.com/ubuntu bionic-updates/main amd64 libsynctex1 amd64 2017.20170613.44572-8ubuntu0.1 [41.4 kB]\n",
            "Get:35 http://archive.ubuntu.com/ubuntu bionic-updates/main amd64 libtexlua52 amd64 2017.20170613.44572-8ubuntu0.1 [91.2 kB]\n",
            "Get:36 http://archive.ubuntu.com/ubuntu bionic-updates/main amd64 libtexluajit2 amd64 2017.20170613.44572-8ubuntu0.1 [230 kB]\n",
            "Get:37 http://archive.ubuntu.com/ubuntu bionic/universe amd64 libunicode-linebreak-perl amd64 0.0.20160702-1build2 [96.6 kB]\n",
            "Get:38 http://archive.ubuntu.com/ubuntu bionic/main amd64 libyaml-tiny-perl all 1.70-1 [25.1 kB]\n",
            "Get:39 http://archive.ubuntu.com/ubuntu bionic-updates/main amd64 libzzip-0-13 amd64 0.13.62-3.1ubuntu0.18.04.1 [26.0 kB]\n",
            "Get:40 http://archive.ubuntu.com/ubuntu bionic/main amd64 lmodern all 2.004.5-3 [9,631 kB]\n",
            "Get:41 http://archive.ubuntu.com/ubuntu bionic/main amd64 t1utils amd64 1.41-2 [56.0 kB]\n",
            "Get:42 http://archive.ubuntu.com/ubuntu bionic-updates/main amd64 texlive-binaries amd64 2017.20170613.44572-8ubuntu0.1 [8,179 kB]\n",
            "Get:43 http://archive.ubuntu.com/ubuntu bionic/main amd64 texlive-base all 2017.20180305-1 [18.7 MB]\n",
            "Get:44 http://archive.ubuntu.com/ubuntu bionic/main amd64 texlive-latex-base all 2017.20180305-1 [951 kB]\n",
            "Get:45 http://archive.ubuntu.com/ubuntu bionic/universe amd64 texlive-extra-utils all 2017.20180305-2 [20.9 MB]\n",
            "Get:46 http://archive.ubuntu.com/ubuntu bionic/main amd64 texlive-latex-recommended all 2017.20180305-1 [14.9 MB]\n",
            "Fetched 98.8 MB in 6s (15.8 MB/s)\n",
            "Extracting templates from packages: 100%\n",
            "Preconfiguring packages ...\n",
            "Selecting previously unselected package fonts-droid-fallback.\n",
            "(Reading database ... 146381 files and directories currently installed.)\n",
            "Preparing to unpack .../00-fonts-droid-fallback_1%3a6.0.1r16-1.1_all.deb ...\n",
            "Unpacking fonts-droid-fallback (1:6.0.1r16-1.1) ...\n",
            "Selecting previously unselected package fonts-lato.\n",
            "Preparing to unpack .../01-fonts-lato_2.0-2_all.deb ...\n",
            "Unpacking fonts-lato (2.0-2) ...\n",
            "Selecting previously unselected package poppler-data.\n",
            "Preparing to unpack .../02-poppler-data_0.4.8-2_all.deb ...\n",
            "Unpacking poppler-data (0.4.8-2) ...\n",
            "Selecting previously unselected package tex-common.\n",
            "Preparing to unpack .../03-tex-common_6.09_all.deb ...\n",
            "Unpacking tex-common (6.09) ...\n",
            "Selecting previously unselected package fonts-lmodern.\n",
            "Preparing to unpack .../04-fonts-lmodern_2.004.5-3_all.deb ...\n",
            "Unpacking fonts-lmodern (2.004.5-3) ...\n",
            "Selecting previously unselected package fonts-noto-mono.\n",
            "Preparing to unpack .../05-fonts-noto-mono_20171026-2_all.deb ...\n",
            "Unpacking fonts-noto-mono (20171026-2) ...\n",
            "Selecting previously unselected package libcupsimage2:amd64.\n",
            "Preparing to unpack .../06-libcupsimage2_2.2.7-1ubuntu2.8_amd64.deb ...\n",
            "Unpacking libcupsimage2:amd64 (2.2.7-1ubuntu2.8) ...\n",
            "Selecting previously unselected package libijs-0.35:amd64.\n",
            "Preparing to unpack .../07-libijs-0.35_0.35-13_amd64.deb ...\n",
            "Unpacking libijs-0.35:amd64 (0.35-13) ...\n",
            "Selecting previously unselected package libjbig2dec0:amd64.\n",
            "Preparing to unpack .../08-libjbig2dec0_0.13-6_amd64.deb ...\n",
            "Unpacking libjbig2dec0:amd64 (0.13-6) ...\n",
            "Selecting previously unselected package libgs9-common.\n",
            "Preparing to unpack .../09-libgs9-common_9.26~dfsg+0-0ubuntu0.18.04.14_all.deb ...\n",
            "Unpacking libgs9-common (9.26~dfsg+0-0ubuntu0.18.04.14) ...\n",
            "Selecting previously unselected package libgs9:amd64.\n",
            "Preparing to unpack .../10-libgs9_9.26~dfsg+0-0ubuntu0.18.04.14_amd64.deb ...\n",
            "Unpacking libgs9:amd64 (9.26~dfsg+0-0ubuntu0.18.04.14) ...\n",
            "Selecting previously unselected package ghostscript.\n",
            "Preparing to unpack .../11-ghostscript_9.26~dfsg+0-0ubuntu0.18.04.14_amd64.deb ...\n",
            "Unpacking ghostscript (9.26~dfsg+0-0ubuntu0.18.04.14) ...\n",
            "Selecting previously unselected package gsfonts.\n",
            "Preparing to unpack .../12-gsfonts_1%3a8.11+urwcyr1.0.7~pre44-4.4_all.deb ...\n",
            "Unpacking gsfonts (1:8.11+urwcyr1.0.7~pre44-4.4) ...\n",
            "Selecting previously unselected package javascript-common.\n",
            "Preparing to unpack .../13-javascript-common_11_all.deb ...\n",
            "Unpacking javascript-common (11) ...\n",
            "Selecting previously unselected package libcupsfilters1:amd64.\n",
            "Preparing to unpack .../14-libcupsfilters1_1.20.2-0ubuntu3.1_amd64.deb ...\n",
            "Unpacking libcupsfilters1:amd64 (1.20.2-0ubuntu3.1) ...\n",
            "Selecting previously unselected package libfile-which-perl.\n",
            "Preparing to unpack .../15-libfile-which-perl_1.21-1_all.deb ...\n",
            "Unpacking libfile-which-perl (1.21-1) ...\n",
            "Selecting previously unselected package libfile-homedir-perl.\n",
            "Preparing to unpack .../16-libfile-homedir-perl_1.002-1_all.deb ...\n",
            "Unpacking libfile-homedir-perl (1.002-1) ...\n",
            "Selecting previously unselected package libjs-jquery.\n",
            "Preparing to unpack .../17-libjs-jquery_3.2.1-1_all.deb ...\n",
            "Unpacking libjs-jquery (3.2.1-1) ...\n",
            "Selecting previously unselected package libkpathsea6:amd64.\n",
            "Preparing to unpack .../18-libkpathsea6_2017.20170613.44572-8ubuntu0.1_amd64.deb ...\n",
            "Unpacking libkpathsea6:amd64 (2017.20170613.44572-8ubuntu0.1) ...\n",
            "Selecting previously unselected package libmime-charset-perl.\n",
            "Preparing to unpack .../19-libmime-charset-perl_1.012.2-1_all.deb ...\n",
            "Unpacking libmime-charset-perl (1.012.2-1) ...\n",
            "Selecting previously unselected package libpotrace0.\n",
            "Preparing to unpack .../20-libpotrace0_1.14-2_amd64.deb ...\n",
            "Unpacking libpotrace0 (1.14-2) ...\n",
            "Selecting previously unselected package libptexenc1:amd64.\n",
            "Preparing to unpack .../21-libptexenc1_2017.20170613.44572-8ubuntu0.1_amd64.deb ...\n",
            "Unpacking libptexenc1:amd64 (2017.20170613.44572-8ubuntu0.1) ...\n",
            "Selecting previously unselected package rubygems-integration.\n",
            "Preparing to unpack .../22-rubygems-integration_1.11_all.deb ...\n",
            "Unpacking rubygems-integration (1.11) ...\n",
            "Selecting previously unselected package ruby2.5.\n",
            "Preparing to unpack .../23-ruby2.5_2.5.1-1ubuntu1.7_amd64.deb ...\n",
            "Unpacking ruby2.5 (2.5.1-1ubuntu1.7) ...\n",
            "Selecting previously unselected package ruby.\n",
            "Preparing to unpack .../24-ruby_1%3a2.5.1_amd64.deb ...\n",
            "Unpacking ruby (1:2.5.1) ...\n",
            "Selecting previously unselected package rake.\n",
            "Preparing to unpack .../25-rake_12.3.1-1ubuntu0.1_all.deb ...\n",
            "Unpacking rake (12.3.1-1ubuntu0.1) ...\n",
            "Selecting previously unselected package ruby-did-you-mean.\n",
            "Preparing to unpack .../26-ruby-did-you-mean_1.2.0-2_all.deb ...\n",
            "Unpacking ruby-did-you-mean (1.2.0-2) ...\n",
            "Selecting previously unselected package ruby-minitest.\n",
            "Preparing to unpack .../27-ruby-minitest_5.10.3-1_all.deb ...\n",
            "Unpacking ruby-minitest (5.10.3-1) ...\n",
            "Selecting previously unselected package ruby-net-telnet.\n",
            "Preparing to unpack .../28-ruby-net-telnet_0.1.1-2_all.deb ...\n",
            "Unpacking ruby-net-telnet (0.1.1-2) ...\n",
            "Selecting previously unselected package ruby-power-assert.\n",
            "Preparing to unpack .../29-ruby-power-assert_0.3.0-1_all.deb ...\n",
            "Unpacking ruby-power-assert (0.3.0-1) ...\n",
            "Selecting previously unselected package ruby-test-unit.\n",
            "Preparing to unpack .../30-ruby-test-unit_3.2.5-1_all.deb ...\n",
            "Unpacking ruby-test-unit (3.2.5-1) ...\n",
            "Selecting previously unselected package libruby2.5:amd64.\n",
            "Preparing to unpack .../31-libruby2.5_2.5.1-1ubuntu1.7_amd64.deb ...\n",
            "Unpacking libruby2.5:amd64 (2.5.1-1ubuntu1.7) ...\n",
            "Selecting previously unselected package libsombok3:amd64.\n",
            "Preparing to unpack .../32-libsombok3_2.4.0-1_amd64.deb ...\n",
            "Unpacking libsombok3:amd64 (2.4.0-1) ...\n",
            "Selecting previously unselected package libsynctex1:amd64.\n",
            "Preparing to unpack .../33-libsynctex1_2017.20170613.44572-8ubuntu0.1_amd64.deb ...\n",
            "Unpacking libsynctex1:amd64 (2017.20170613.44572-8ubuntu0.1) ...\n",
            "Selecting previously unselected package libtexlua52:amd64.\n",
            "Preparing to unpack .../34-libtexlua52_2017.20170613.44572-8ubuntu0.1_amd64.deb ...\n",
            "Unpacking libtexlua52:amd64 (2017.20170613.44572-8ubuntu0.1) ...\n",
            "Selecting previously unselected package libtexluajit2:amd64.\n",
            "Preparing to unpack .../35-libtexluajit2_2017.20170613.44572-8ubuntu0.1_amd64.deb ...\n",
            "Unpacking libtexluajit2:amd64 (2017.20170613.44572-8ubuntu0.1) ...\n",
            "Selecting previously unselected package libunicode-linebreak-perl.\n",
            "Preparing to unpack .../36-libunicode-linebreak-perl_0.0.20160702-1build2_amd64.deb ...\n",
            "Unpacking libunicode-linebreak-perl (0.0.20160702-1build2) ...\n",
            "Selecting previously unselected package libyaml-tiny-perl.\n",
            "Preparing to unpack .../37-libyaml-tiny-perl_1.70-1_all.deb ...\n",
            "Unpacking libyaml-tiny-perl (1.70-1) ...\n",
            "Selecting previously unselected package libzzip-0-13:amd64.\n",
            "Preparing to unpack .../38-libzzip-0-13_0.13.62-3.1ubuntu0.18.04.1_amd64.deb ...\n",
            "Unpacking libzzip-0-13:amd64 (0.13.62-3.1ubuntu0.18.04.1) ...\n",
            "Selecting previously unselected package lmodern.\n",
            "Preparing to unpack .../39-lmodern_2.004.5-3_all.deb ...\n",
            "Unpacking lmodern (2.004.5-3) ...\n",
            "Selecting previously unselected package t1utils.\n",
            "Preparing to unpack .../40-t1utils_1.41-2_amd64.deb ...\n",
            "Unpacking t1utils (1.41-2) ...\n",
            "Selecting previously unselected package texlive-binaries.\n",
            "Preparing to unpack .../41-texlive-binaries_2017.20170613.44572-8ubuntu0.1_amd64.deb ...\n",
            "Unpacking texlive-binaries (2017.20170613.44572-8ubuntu0.1) ...\n",
            "Selecting previously unselected package texlive-base.\n",
            "Preparing to unpack .../42-texlive-base_2017.20180305-1_all.deb ...\n",
            "Unpacking texlive-base (2017.20180305-1) ...\n",
            "Selecting previously unselected package texlive-latex-base.\n",
            "Preparing to unpack .../43-texlive-latex-base_2017.20180305-1_all.deb ...\n",
            "Unpacking texlive-latex-base (2017.20180305-1) ...\n",
            "Selecting previously unselected package texlive-extra-utils.\n",
            "Preparing to unpack .../44-texlive-extra-utils_2017.20180305-2_all.deb ...\n",
            "Unpacking texlive-extra-utils (2017.20180305-2) ...\n",
            "Selecting previously unselected package texlive-latex-recommended.\n",
            "Preparing to unpack .../45-texlive-latex-recommended_2017.20180305-1_all.deb ...\n",
            "Unpacking texlive-latex-recommended (2017.20180305-1) ...\n",
            "Setting up libgs9-common (9.26~dfsg+0-0ubuntu0.18.04.14) ...\n",
            "Setting up libkpathsea6:amd64 (2017.20170613.44572-8ubuntu0.1) ...\n",
            "Setting up libjs-jquery (3.2.1-1) ...\n",
            "Setting up libtexlua52:amd64 (2017.20170613.44572-8ubuntu0.1) ...\n",
            "Setting up fonts-droid-fallback (1:6.0.1r16-1.1) ...\n",
            "Setting up libsynctex1:amd64 (2017.20170613.44572-8ubuntu0.1) ...\n",
            "Setting up libptexenc1:amd64 (2017.20170613.44572-8ubuntu0.1) ...\n",
            "Setting up tex-common (6.09) ...\n",
            "update-language: texlive-base not installed and configured, doing nothing!\n",
            "Setting up gsfonts (1:8.11+urwcyr1.0.7~pre44-4.4) ...\n",
            "Setting up libfile-which-perl (1.21-1) ...\n",
            "Setting up poppler-data (0.4.8-2) ...\n",
            "Setting up libfile-homedir-perl (1.002-1) ...\n",
            "Setting up libyaml-tiny-perl (1.70-1) ...\n",
            "Setting up fonts-noto-mono (20171026-2) ...\n",
            "Setting up fonts-lato (2.0-2) ...\n",
            "Setting up libcupsfilters1:amd64 (1.20.2-0ubuntu3.1) ...\n",
            "Setting up libcupsimage2:amd64 (2.2.7-1ubuntu2.8) ...\n",
            "Setting up libjbig2dec0:amd64 (0.13-6) ...\n",
            "Setting up ruby-did-you-mean (1.2.0-2) ...\n",
            "Setting up libmime-charset-perl (1.012.2-1) ...\n",
            "Setting up t1utils (1.41-2) ...\n",
            "Setting up ruby-net-telnet (0.1.1-2) ...\n",
            "Setting up libijs-0.35:amd64 (0.35-13) ...\n",
            "Setting up rubygems-integration (1.11) ...\n",
            "Setting up libpotrace0 (1.14-2) ...\n",
            "Setting up javascript-common (11) ...\n",
            "Setting up ruby-minitest (5.10.3-1) ...\n",
            "Setting up libzzip-0-13:amd64 (0.13.62-3.1ubuntu0.18.04.1) ...\n",
            "Setting up libgs9:amd64 (9.26~dfsg+0-0ubuntu0.18.04.14) ...\n",
            "Setting up libtexluajit2:amd64 (2017.20170613.44572-8ubuntu0.1) ...\n",
            "Setting up libsombok3:amd64 (2.4.0-1) ...\n",
            "Setting up fonts-lmodern (2.004.5-3) ...\n",
            "Setting up ruby-power-assert (0.3.0-1) ...\n",
            "Setting up ghostscript (9.26~dfsg+0-0ubuntu0.18.04.14) ...\n",
            "Setting up texlive-binaries (2017.20170613.44572-8ubuntu0.1) ...\n",
            "update-alternatives: using /usr/bin/xdvi-xaw to provide /usr/bin/xdvi.bin (xdvi.bin) in auto mode\n",
            "update-alternatives: using /usr/bin/bibtex.original to provide /usr/bin/bibtex (bibtex) in auto mode\n",
            "Setting up libunicode-linebreak-perl (0.0.20160702-1build2) ...\n",
            "Setting up texlive-base (2017.20180305-1) ...\n",
            "mktexlsr: Updating /var/lib/texmf/ls-R-TEXLIVEDIST... \n",
            "mktexlsr: Updating /var/lib/texmf/ls-R-TEXMFMAIN... \n",
            "mktexlsr: Updating /var/lib/texmf/ls-R... \n",
            "mktexlsr: Done.\n",
            "tl-paper: setting paper size for dvips to a4: /var/lib/texmf/dvips/config/config-paper.ps\n",
            "tl-paper: setting paper size for dvipdfmx to a4: /var/lib/texmf/dvipdfmx/dvipdfmx-paper.cfg\n",
            "tl-paper: setting paper size for xdvi to a4: /var/lib/texmf/xdvi/XDvi-paper\n",
            "tl-paper: setting paper size for pdftex to a4: /var/lib/texmf/tex/generic/config/pdftexconfig.tex\n",
            "Setting up texlive-latex-base (2017.20180305-1) ...\n",
            "Setting up lmodern (2.004.5-3) ...\n",
            "Setting up texlive-latex-recommended (2017.20180305-1) ...\n",
            "Setting up texlive-extra-utils (2017.20180305-2) ...\n",
            "Setting up rake (12.3.1-1ubuntu0.1) ...\n",
            "Setting up ruby-test-unit (3.2.5-1) ...\n",
            "Setting up libruby2.5:amd64 (2.5.1-1ubuntu1.7) ...\n",
            "Setting up ruby2.5 (2.5.1-1ubuntu1.7) ...\n",
            "Setting up ruby (1:2.5.1) ...\n",
            "Processing triggers for fontconfig (2.12.6-0ubuntu2) ...\n",
            "Processing triggers for mime-support (3.60ubuntu1) ...\n",
            "Processing triggers for libc-bin (2.27-3ubuntu1.3) ...\n",
            "/sbin/ldconfig.real: /usr/local/lib/python3.6/dist-packages/ideep4py/lib/libmkldnn.so.0 is not a symbolic link\n",
            "\n",
            "Processing triggers for man-db (2.8.3-2ubuntu0.1) ...\n",
            "Processing triggers for tex-common (6.09) ...\n",
            "Running updmap-sys. This may take some time... done.\n",
            "Running mktexlsr /var/lib/texmf ... done.\n",
            "Building format(s) --all.\n",
            "\tThis may take some time... done.\n"
          ],
          "name": "stdout"
        }
      ]
    },
    {
      "cell_type": "markdown",
      "metadata": {
        "id": "FtY8FhliLsGm"
      },
      "source": [
        "## Imports"
      ]
    },
    {
      "cell_type": "markdown",
      "metadata": {
        "id": "gcX8hEcaUpR0"
      },
      "source": [
        "Stable-Baselines3 works on environments that follow the [gym interface](https://stable-baselines3.readthedocs.io/en/master/guide/custom_env.html).\n",
        "You can find a list of available environment [here](https://gym.openai.com/envs/#classic_control).\n",
        "\n",
        "It is also recommended to check the [source code](https://github.com/openai/gym) to learn more about the observation and action space of each env, as gym does not have a proper documentation.\n",
        "Not all algorithms can work with all action spaces, you can find more in this [recap table](https://stable-baselines3.readthedocs.io/en/master/guide/algos.html)"
      ]
    },
    {
      "cell_type": "code",
      "metadata": {
        "id": "BIedd7Pz9sOs"
      },
      "source": [
        "import gym\n",
        "import numpy as np"
      ],
      "execution_count": 1,
      "outputs": []
    },
    {
      "cell_type": "markdown",
      "metadata": {
        "id": "Ae32CtgzTG3R"
      },
      "source": [
        "The first thing you need to import is the RL model, check the documentation to know what you can use on which problem"
      ]
    },
    {
      "cell_type": "code",
      "metadata": {
        "id": "R7tKaBFrTR0a"
      },
      "source": [
        "from stable_baselines3 import PPO"
      ],
      "execution_count": 2,
      "outputs": []
    },
    {
      "cell_type": "markdown",
      "metadata": {
        "id": "-0_8OQbOTTNT"
      },
      "source": [
        "The next thing you need to import is the policy class that will be used to create the networks (for the policy/value functions).\n",
        "This step is optional as you can directly use strings in the constructor: \n",
        "\n",
        "```PPO('MlpPolicy', env)``` instead of ```PPO(MlpPolicy, env)```\n",
        "\n",
        "Note that some algorithms like `SAC` have their own `MlpPolicy`, that's why using string for the policy is the recommened option."
      ]
    },
    {
      "cell_type": "code",
      "metadata": {
        "id": "ROUJr675TT01"
      },
      "source": [
        "from stable_baselines3.ppo.policies import MlpPolicy"
      ],
      "execution_count": 3,
      "outputs": []
    },
    {
      "cell_type": "markdown",
      "metadata": {
        "id": "RapkYvTXL7Cd"
      },
      "source": [
        "## Create the Gym env and instantiate the agent\n",
        "\n",
        "For this example, we will use CartPole environment, a classic control problem.\n",
        "\n",
        "\"A pole is attached by an un-actuated joint to a cart, which moves along a frictionless track. The system is controlled by applying a force of +1 or -1 to the cart. The pendulum starts upright, and the goal is to prevent it from falling over. A reward of +1 is provided for every timestep that the pole remains upright. \"\n",
        "\n",
        "Cartpole environment: [https://gym.openai.com/envs/CartPole-v1/](https://gym.openai.com/envs/CartPole-v1/)\n",
        "\n",
        "![Cartpole](https://cdn-images-1.medium.com/max/1143/1*h4WTQNVIsvMXJTCpXm_TAw.gif)\n",
        "\n",
        "\n",
        "We chose the MlpPolicy because the observation of the CartPole task is a feature vector, not images.\n",
        "\n",
        "The type of action to use (discrete/continuous) will be automatically deduced from the environment action space\n",
        "\n",
        "Here we are using the [Proximal Policy Optimization](https://stable-baselines3.readthedocs.io/en/master/modules/ppo2.html) algorithm, which is an Actor-Critic method: it uses a value function to improve the policy gradient descent (by reducing the variance).\n",
        "\n",
        "It combines ideas from [A2C](https://stable-baselines3.readthedocs.io/en/master/modules/a2c.html) (having multiple workers and using an entropy bonus for exploration) and [TRPO](https://stable-baselines.readthedocs.io/en/master/modules/trpo.html) (it uses a trust region to improve stability and avoid catastrophic drops in performance).\n",
        "\n",
        "PPO is an on-policy algorithm, which means that the trajectories used to update the networks must be collected using the latest policy.\n",
        "It is usually less sample efficient than off-policy alorithms like [DQN](https://stable-baselines.readthedocs.io/en/master/modules/dqn.html), [SAC](https://stable-baselines3.readthedocs.io/en/master/modules/sac.html) or [TD3](https://stable-baselines3.readthedocs.io/en/master/modules/td3.html), but is much faster regarding wall-clock time.\n"
      ]
    },
    {
      "cell_type": "code",
      "metadata": {
        "id": "pUWGZp3i9wyf"
      },
      "source": [
        "env = gym.make('CartPole-v1')\n",
        "\n",
        "model = PPO(MlpPolicy, env, verbose=0)"
      ],
      "execution_count": 4,
      "outputs": []
    },
    {
      "cell_type": "markdown",
      "metadata": {
        "id": "4efFdrQ7MBvl"
      },
      "source": [
        "We create a helper function to evaluate the agent:"
      ]
    },
    {
      "cell_type": "code",
      "metadata": {
        "id": "63M8mSKR-6Zt"
      },
      "source": [
        "def evaluate(model, num_episodes=100):\n",
        "    \"\"\"\n",
        "    Evaluate a RL agent\n",
        "    :param model: (BaseRLModel object) the RL Agent\n",
        "    :param num_episodes: (int) number of episodes to evaluate it\n",
        "    :return: (float) Mean reward for the last num_episodes\n",
        "    \"\"\"\n",
        "    # This function will only work for a single Environment\n",
        "    env = model.get_env()\n",
        "    all_episode_rewards = []\n",
        "    for i in range(num_episodes):\n",
        "        episode_rewards = []\n",
        "        done = False\n",
        "        obs = env.reset()\n",
        "        while not done:\n",
        "            # _states are only useful when using LSTM policies\n",
        "            action, _states = model.predict(obs)\n",
        "            # here, action, rewards and dones are arrays\n",
        "            # because we are using vectorized env\n",
        "            obs, reward, done, info = env.step(action)\n",
        "            episode_rewards.append(reward)\n",
        "\n",
        "        all_episode_rewards.append(sum(episode_rewards))\n",
        "\n",
        "    mean_episode_reward = np.mean(all_episode_rewards)\n",
        "    print(\"Mean reward:\", mean_episode_reward, \"Num episodes:\", num_episodes)\n",
        "\n",
        "    return mean_episode_reward"
      ],
      "execution_count": 5,
      "outputs": []
    },
    {
      "cell_type": "markdown",
      "metadata": {
        "id": "zjEVOIY8NVeK"
      },
      "source": [
        "Let's evaluate the un-trained agent, this should be a random agent."
      ]
    },
    {
      "cell_type": "code",
      "metadata": {
        "id": "xDHLMA6NFk95",
        "colab": {
          "base_uri": "https://localhost:8080/"
        },
        "outputId": "7b32ec9c-187e-4fa9-94e8-003624682e84"
      },
      "source": [
        "# Random Agent, before training\n",
        "mean_reward_before_train = evaluate(model, num_episodes=100)"
      ],
      "execution_count": 6,
      "outputs": [
        {
          "output_type": "stream",
          "text": [
            "Mean reward: 24.04 Num episodes: 100\n"
          ],
          "name": "stdout"
        }
      ]
    },
    {
      "cell_type": "markdown",
      "metadata": {
        "id": "QjjPxrwkYJ2i"
      },
      "source": [
        "Stable-Baselines already provides you with that helper:"
      ]
    },
    {
      "cell_type": "code",
      "metadata": {
        "id": "8z6K9YImYJEx"
      },
      "source": [
        "from stable_baselines3.common.evaluation import evaluate_policy"
      ],
      "execution_count": 7,
      "outputs": []
    },
    {
      "cell_type": "code",
      "metadata": {
        "id": "4oPTHjxyZSOL",
        "colab": {
          "base_uri": "https://localhost:8080/"
        },
        "outputId": "3de4a13a-c7d5-4ca5-9426-ac1268dd93e0"
      },
      "source": [
        "mean_reward, std_reward = evaluate_policy(model, env, n_eval_episodes=100)\n",
        "\n",
        "print(f\"mean_reward:{mean_reward:.2f} +/- {std_reward:.2f}\")"
      ],
      "execution_count": 8,
      "outputs": [
        {
          "output_type": "stream",
          "text": [
            "mean_reward:476.74 +/- 43.89\n"
          ],
          "name": "stdout"
        }
      ]
    },
    {
      "cell_type": "markdown",
      "metadata": {
        "id": "r5UoXTZPNdFE"
      },
      "source": [
        "## Train the agent and evaluate it"
      ]
    },
    {
      "cell_type": "code",
      "metadata": {
        "id": "e4cfSXIB-pTF",
        "colab": {
          "base_uri": "https://localhost:8080/"
        },
        "outputId": "dcaf91d2-9fc0-4300-9079-5c4ef163e53b"
      },
      "source": [
        "# Train the agent for 10000 steps\n",
        "model.learn(total_timesteps=10000)"
      ],
      "execution_count": 9,
      "outputs": [
        {
          "output_type": "execute_result",
          "data": {
            "text/plain": [
              "<stable_baselines3.ppo.ppo.PPO at 0x7f4413813be0>"
            ]
          },
          "metadata": {
            "tags": []
          },
          "execution_count": 9
        }
      ]
    },
    {
      "cell_type": "code",
      "metadata": {
        "id": "ygl_gVmV_QP7",
        "colab": {
          "base_uri": "https://localhost:8080/"
        },
        "outputId": "90e47582-4427-4813-995f-82ca87012794"
      },
      "source": [
        "# Evaluate the trained agent\n",
        "mean_reward, std_reward = evaluate_policy(model, env, n_eval_episodes=100)\n",
        "\n",
        "print(f\"mean_reward:{mean_reward:.2f} +/- {std_reward:.2f}\")"
      ],
      "execution_count": 10,
      "outputs": [
        {
          "output_type": "stream",
          "text": [
            "mean_reward:443.32 +/- 73.54\n"
          ],
          "name": "stdout"
        }
      ]
    },
    {
      "cell_type": "markdown",
      "metadata": {
        "id": "A00W6yY3NkHG"
      },
      "source": [
        "Apparently the training went well, the mean reward increased a lot ! "
      ]
    },
    {
      "cell_type": "markdown",
      "metadata": {
        "id": "_NmTPtsOhzHZ"
      },
      "source": [
        "#RL-Scope\n",
        "Lets annotate the evaluation inference loop with RL-Scope annotations to understand where time is spent."
      ]
    },
    {
      "cell_type": "code",
      "metadata": {
        "colab": {
          "base_uri": "https://localhost:8080/"
        },
        "id": "TYgeSyVoma-m",
        "outputId": "057479a9-f75a-496b-820b-550593503e60"
      },
      "source": [
        "# !rls-prof --help\n",
        "!pip freeze | grep torch"
      ],
      "execution_count": 4,
      "outputs": [
        {
          "output_type": "stream",
          "text": [
            "torch==1.7.0+cu101\n",
            "torchsummary==1.5.1\n",
            "torchtext==0.3.1\n",
            "torchvision==0.8.1+cu101\n"
          ],
          "name": "stdout"
        }
      ]
    },
    {
      "cell_type": "code",
      "metadata": {
        "colab": {
          "base_uri": "https://localhost:8080/"
        },
        "id": "DgUupt6AiwZj",
        "outputId": "c1bdddf7-793f-4db1-a949-d26cc83db6fd"
      },
      "source": [
        "%%writefile test_writefile.py\n",
        "\n",
        "import rlscope.api as rlscope\n",
        "\n",
        "rlscope.handle_rlscope_args(\n",
        "    parser=None, args=None, \n",
        "    directory=\"./rlscope_traces\",\n",
        "    # paths['rlscope_directory']\n",
        ")\n",
        "rlscope.prof.set_metadata({\n",
        "    'algo': 'PPO',\n",
        "    'env': 'CartPole-v1',\n",
        "})\n",
        "process_name = 'PPO_CartPole'\n",
        "phase_name = process_name\n",
        "\n",
        "def evaluate_rlscope(model, num_episodes=100):\n",
        "    \"\"\"\n",
        "    Evaluate a RL agent\n",
        "    :param model: (BaseRLModel object) the RL Agent\n",
        "    :param num_episodes: (int) number of episodes to evaluate it\n",
        "    :return: (float) Mean reward for the last num_episodes\n",
        "    \"\"\"\n",
        "    with rlscope.prof.profile(process_name=process_name, phase_name=phase_name):\n",
        "      # This function will only work for a single Environment\n",
        "      env = model.get_env()\n",
        "      all_episode_rewards = []\n",
        "\n",
        "      rlscope.prof\n",
        "\n",
        "      with rlscope.prof.operation('training_loop'):\n",
        "        for i in range(num_episodes):\n",
        "            episode_rewards = []\n",
        "            done = False\n",
        "            obs = env.reset()\n",
        "            while not done:\n",
        "                with rlscope.prof.operation('inference'):\n",
        "                  # _states are only useful when using LSTM policies\n",
        "                  action, _states = model.predict(obs)\n",
        "                with rlscope.prof.operation('step'):\n",
        "                  # here, action, rewards and dones are arrays\n",
        "                  # because we are using vectorized env\n",
        "                  obs, reward, done, info = env.step(action)\n",
        "                  episode_rewards.append(reward)\n",
        "\n",
        "            all_episode_rewards.append(sum(episode_rewards))\n",
        "\n",
        "      mean_episode_reward = np.mean(all_episode_rewards)\n",
        "      print(\"Mean reward:\", mean_episode_reward, \"Num episodes:\", num_episodes)\n",
        "\n",
        "      return mean_episode_reward"
      ],
      "execution_count": 22,
      "outputs": [
        {
          "output_type": "stream",
          "text": [
            "Overwriting test_writefile.py\n"
          ],
          "name": "stdout"
        }
      ]
    },
    {
      "cell_type": "code",
      "metadata": {
        "colab": {
          "base_uri": "https://localhost:8080/"
        },
        "id": "zPWFgqwbpBec",
        "outputId": "5f89470f-e6ca-43c0-d3f4-1eb7edf947c3"
      },
      "source": [
        "!pip freeze"
      ],
      "execution_count": 24,
      "outputs": [
        {
          "output_type": "stream",
          "text": [
            "absl-py==0.10.0\n",
            "alabaster==0.7.12\n",
            "albumentations==0.1.12\n",
            "altair==4.1.0\n",
            "appdirs==1.4.4\n",
            "argon2-cffi==20.1.0\n",
            "asgiref==3.3.1\n",
            "astor==0.8.1\n",
            "astropy==4.1\n",
            "astunparse==1.6.3\n",
            "async-generator==1.10\n",
            "atari-py==0.2.6\n",
            "atomicwrites==1.4.0\n",
            "attrs==20.3.0\n",
            "audioread==2.1.9\n",
            "autograd==1.3\n",
            "Babel==2.9.0\n",
            "backcall==0.2.0\n",
            "beautifulsoup4==4.6.3\n",
            "bleach==3.2.2\n",
            "blis==0.4.1\n",
            "bokeh==2.1.1\n",
            "Bottleneck==1.3.2\n",
            "branca==0.4.2\n",
            "bs4==0.0.1\n",
            "CacheControl==0.12.6\n",
            "cachetools==4.2.1\n",
            "catalogue==1.0.0\n",
            "Cerberus==1.3.2\n",
            "certifi==2020.12.5\n",
            "cffi==1.14.4\n",
            "chainer==7.4.0\n",
            "chardet==3.0.4\n",
            "click==7.1.2\n",
            "cloudpickle==1.3.0\n",
            "cmake==3.12.0\n",
            "cmdstanpy==0.9.5\n",
            "colorlog==4.7.2\n",
            "colorlover==0.3.0\n",
            "community==1.0.0b1\n",
            "contextlib2==0.5.5\n",
            "convertdate==2.2.0\n",
            "coverage==3.7.1\n",
            "coveralls==0.5\n",
            "crcmod==1.7\n",
            "cufflinks==0.17.3\n",
            "cupy-cuda101==7.4.0\n",
            "cvxopt==1.2.5\n",
            "cvxpy==1.0.31\n",
            "cycler==0.10.0\n",
            "cymem==2.0.5\n",
            "Cython==0.29.21\n",
            "daft==0.0.4\n",
            "dask==2.12.0\n",
            "dataclasses==0.8\n",
            "datascience==0.10.6\n",
            "debugpy==1.0.0\n",
            "decorator==4.4.2\n",
            "defusedxml==0.6.0\n",
            "descartes==1.1.0\n",
            "dill==0.3.3\n",
            "distributed==1.25.3\n",
            "Django==3.1.5\n",
            "dlib==19.18.0\n",
            "dm-tree==0.1.5\n",
            "docker==4.4.1\n",
            "docopt==0.6.2\n",
            "docutils==0.16\n",
            "dopamine-rl==1.0.5\n",
            "earthengine-api==0.1.238\n",
            "easydict==1.9\n",
            "ecos==2.0.7.post1\n",
            "editdistance==0.5.3\n",
            "en-core-web-sm==2.2.5\n",
            "entrypoints==0.3\n",
            "ephem==3.7.7.1\n",
            "et-xmlfile==1.0.1\n",
            "fa2==0.3.5\n",
            "fancycompleter==0.9.1\n",
            "fancyimpute==0.4.3\n",
            "fastai==1.0.61\n",
            "fastdtw==0.3.4\n",
            "fastprogress==1.0.0\n",
            "fastrlock==0.5\n",
            "fbprophet==0.7.1\n",
            "feather-format==0.4.1\n",
            "filelock==3.0.12\n",
            "firebase-admin==4.4.0\n",
            "fix-yahoo-finance==0.0.22\n",
            "Flask==1.1.2\n",
            "flatbuffers==1.12\n",
            "folium==0.8.3\n",
            "future==0.16.0\n",
            "gast==0.3.3\n",
            "GDAL==2.2.2\n",
            "gdown==3.6.4\n",
            "gensim==3.6.0\n",
            "geographiclib==1.50\n",
            "geopy==1.17.0\n",
            "gin-config==0.4.0\n",
            "glob2==0.7\n",
            "google==2.0.3\n",
            "google-api-core==1.16.0\n",
            "google-api-python-client==1.7.12\n",
            "google-auth==1.17.2\n",
            "google-auth-httplib2==0.0.4\n",
            "google-auth-oauthlib==0.4.2\n",
            "google-cloud-bigquery==1.21.0\n",
            "google-cloud-bigquery-storage==1.1.0\n",
            "google-cloud-core==1.0.3\n",
            "google-cloud-datastore==1.8.0\n",
            "google-cloud-firestore==1.7.0\n",
            "google-cloud-language==1.2.0\n",
            "google-cloud-storage==1.18.1\n",
            "google-cloud-translate==1.5.0\n",
            "google-colab==1.0.0\n",
            "google-pasta==0.2.0\n",
            "google-resumable-media==0.4.1\n",
            "googleapis-common-protos==1.52.0\n",
            "googledrivedownloader==0.4\n",
            "graphviz==0.10.1\n",
            "grpcio==1.32.0\n",
            "gspread==3.0.1\n",
            "gspread-dataframe==3.0.8\n",
            "gym==0.17.3\n",
            "h5py==2.10.0\n",
            "HeapDict==1.0.1\n",
            "holidays==0.10.4\n",
            "holoviews==1.13.5\n",
            "html5lib==1.0.1\n",
            "httpimport==0.5.18\n",
            "httplib2==0.17.4\n",
            "httplib2shim==0.0.3\n",
            "humanize==0.5.1\n",
            "hyperopt==0.1.2\n",
            "ideep4py==2.0.0.post3\n",
            "idna==2.10\n",
            "image==1.5.33\n",
            "imageio==2.4.1\n",
            "imagesize==1.2.0\n",
            "imbalanced-learn==0.4.3\n",
            "imblearn==0.0\n",
            "imgaug==0.2.9\n",
            "importlib-metadata==3.4.0\n",
            "importlib-resources==5.1.0\n",
            "imutils==0.5.4\n",
            "inflect==2.1.0\n",
            "iniconfig==1.1.1\n",
            "intel-openmp==2021.1.2\n",
            "intervaltree==2.1.0\n",
            "ipdb==0.13.4\n",
            "ipykernel==4.10.1\n",
            "ipython==5.5.0\n",
            "ipython-genutils==0.2.0\n",
            "ipython-sql==0.3.9\n",
            "ipywidgets==7.6.3\n",
            "itsdangerous==1.1.0\n",
            "jax==0.2.7\n",
            "jaxlib==0.1.57+cuda101\n",
            "jdcal==1.4.1\n",
            "jedi==0.18.0\n",
            "jieba==0.42.1\n",
            "Jinja2==2.11.2\n",
            "joblib==1.0.0\n",
            "jpeg4py==0.1.4\n",
            "jsonschema==2.6.0\n",
            "jupyter==1.0.0\n",
            "jupyter-client==5.3.5\n",
            "jupyter-console==5.2.0\n",
            "jupyter-core==4.7.0\n",
            "jupyterlab-pygments==0.1.2\n",
            "jupyterlab-widgets==1.0.0\n",
            "kaggle==1.5.10\n",
            "kapre==0.1.3.1\n",
            "Keras==2.4.3\n",
            "Keras-Preprocessing==1.1.2\n",
            "keras-vis==0.4.1\n",
            "kiwisolver==1.3.1\n",
            "knnimpute==0.1.0\n",
            "korean-lunar-calendar==0.2.1\n",
            "librosa==0.8.0\n",
            "lightgbm==2.2.3\n",
            "llvmlite==0.34.0\n",
            "lmdb==0.99\n",
            "lockfile==0.12.2\n",
            "lucid==0.3.8\n",
            "luigi==3.0.2\n",
            "LunarCalendar==0.0.9\n",
            "lxml==4.2.6\n",
            "Markdown==3.3.3\n",
            "MarkupSafe==1.1.1\n",
            "matplotlib==3.2.2\n",
            "matplotlib-venn==0.11.6\n",
            "missingno==0.4.2\n",
            "mistune==0.8.4\n",
            "mizani==0.6.0\n",
            "mkl==2019.0\n",
            "mlxtend==0.14.0\n",
            "more-itertools==8.6.0\n",
            "moviepy==0.2.3.5\n",
            "mpmath==1.1.0\n",
            "msgpack==1.0.2\n",
            "multiprocess==0.70.11.1\n",
            "multitasking==0.0.9\n",
            "murmurhash==1.0.5\n",
            "music21==5.5.0\n",
            "natsort==5.5.0\n",
            "nbclient==0.5.1\n",
            "nbconvert==5.6.1\n",
            "nbformat==5.1.2\n",
            "nest-asyncio==1.4.3\n",
            "networkx==2.5\n",
            "nibabel==3.0.2\n",
            "nltk==3.2.5\n",
            "notebook==5.3.1\n",
            "np-utils==0.5.12.1\n",
            "numba==0.51.2\n",
            "numexpr==2.7.2\n",
            "numpy==1.19.5\n",
            "nvidia-ml-py3==7.352.0\n",
            "oauth2client==4.1.3\n",
            "oauthlib==3.1.0\n",
            "okgrade==0.4.3\n",
            "opencv-contrib-python==4.1.2.30\n",
            "opencv-python==4.1.2.30\n",
            "openpyxl==2.5.9\n",
            "opt-einsum==3.3.0\n",
            "osqp==0.6.2.post0\n",
            "packaging==20.8\n",
            "palettable==3.3.0\n",
            "pandas==1.1.5\n",
            "pandas-datareader==0.9.0\n",
            "pandas-gbq==0.13.3\n",
            "pandas-profiling==1.4.1\n",
            "pandocfilters==1.4.3\n",
            "panel==0.9.7\n",
            "param==1.10.1\n",
            "parso==0.8.1\n",
            "pathlib==1.0.1\n",
            "patsy==0.5.1\n",
            "pdbpp==0.10.2\n",
            "pexpect==4.8.0\n",
            "pickleshare==0.7.5\n",
            "Pillow==7.0.0\n",
            "pip-tools==4.5.1\n",
            "plac==1.1.3\n",
            "plotly==4.4.1\n",
            "plotnine==0.6.0\n",
            "pluggy==0.13.1\n",
            "pooch==1.3.0\n",
            "portpicker==1.3.1\n",
            "prefetch-generator==1.0.1\n",
            "preshed==3.0.5\n",
            "prettytable==2.0.0\n",
            "progressbar2==3.53.1\n",
            "prometheus-client==0.9.0\n",
            "promise==2.3\n",
            "prompt-toolkit==1.0.18\n",
            "protobuf==3.12.4\n",
            "psutil==5.8.0\n",
            "psycopg2==2.7.6.1\n",
            "ptyprocess==0.7.0\n",
            "py==1.10.0\n",
            "py-cpuinfo==7.0.0\n",
            "pyarrow==0.14.1\n",
            "pyasn1==0.4.8\n",
            "pyasn1-modules==0.2.8\n",
            "pycocotools==2.0.2\n",
            "pycparser==2.20\n",
            "pyct==0.4.8\n",
            "pydata-google-auth==1.1.0\n",
            "pydot==1.3.0\n",
            "pydot-ng==2.0.0\n",
            "pydotplus==2.0.2\n",
            "PyDrive==1.3.1\n",
            "pyemd==0.5.1\n",
            "pyglet==1.5.0\n",
            "Pygments==2.6.1\n",
            "pygobject==3.26.1\n",
            "pymc3==3.7\n",
            "PyMeeus==0.3.7\n",
            "pymongo==3.11.2\n",
            "pymystem3==0.2.0\n",
            "pynndescent==0.5.1\n",
            "PyOpenGL==3.1.5\n",
            "pyparsing==2.4.7\n",
            "pyrepl==0.9.0\n",
            "pyrsistent==0.17.3\n",
            "pysndfile==1.3.8\n",
            "PySocks==1.7.1\n",
            "pystan==2.19.1.1\n",
            "pytest==6.2.2\n",
            "python-apt==1.6.5+ubuntu0.5\n",
            "python-chess==0.23.11\n",
            "python-daemon==2.2.4\n",
            "python-dateutil==2.8.1\n",
            "python-louvain==0.15\n",
            "python-slugify==4.0.1\n",
            "python-utils==2.5.3\n",
            "pytz==2018.9\n",
            "pyviz-comms==2.0.1\n",
            "PyWavelets==1.1.1\n",
            "PyYAML==5.4.1\n",
            "pyzmq==21.0.1\n",
            "qdldl==0.1.5.post0\n",
            "qtconsole==5.0.2\n",
            "QtPy==1.9.0\n",
            "regex==2019.12.20\n",
            "requests==2.23.0\n",
            "requests-oauthlib==1.3.0\n",
            "resampy==0.2.2\n",
            "retrying==1.3.3\n",
            "rlscope==0.0.1+cu101\n",
            "rpy2==3.2.7\n",
            "rsa==4.7\n",
            "scikit-image==0.16.2\n",
            "scikit-learn==0.22.2.post1\n",
            "scipy==1.4.1\n",
            "screen-resolution-extra==0.0.0\n",
            "scs==2.1.2\n",
            "seaborn==0.11.1\n",
            "Send2Trash==1.5.0\n",
            "setuptools-git==1.2\n",
            "Shapely==1.7.1\n",
            "simplegeneric==0.8.1\n",
            "six==1.15.0\n",
            "sklearn==0.0\n",
            "sklearn-pandas==1.8.0\n",
            "smart-open==4.1.2\n",
            "snowballstemmer==2.1.0\n",
            "sortedcontainers==2.3.0\n",
            "SoundFile==0.10.3.post1\n",
            "spacy==2.2.4\n",
            "Sphinx==3.4.3\n",
            "sphinx-rtd-theme==0.5.1\n",
            "sphinxcontrib-applehelp==1.0.2\n",
            "sphinxcontrib-devhelp==1.0.2\n",
            "sphinxcontrib-htmlhelp==1.0.3\n",
            "sphinxcontrib-jsmath==1.0.1\n",
            "sphinxcontrib-qthelp==1.0.3\n",
            "sphinxcontrib-serializinghtml==1.1.4\n",
            "sphinxcontrib-websupport==1.2.4\n",
            "SQLAlchemy==1.3.22\n",
            "sqlparse==0.4.1\n",
            "srsly==1.0.5\n",
            "stable-baselines3==0.10.0\n",
            "statsmodels==0.10.2\n",
            "sympy==1.1.1\n",
            "tables==3.4.4\n",
            "tabulate==0.8.7\n",
            "tblib==1.7.0\n",
            "tensorboard==2.4.1\n",
            "tensorboard-plugin-wit==1.8.0\n",
            "tensorboardcolab==0.0.22\n",
            "tensorflow==2.4.1\n",
            "tensorflow-addons==0.8.3\n",
            "tensorflow-datasets==4.0.1\n",
            "tensorflow-estimator==2.4.0\n",
            "tensorflow-gcs-config==2.4.0\n",
            "tensorflow-hub==0.11.0\n",
            "tensorflow-metadata==0.27.0\n",
            "tensorflow-privacy==0.2.2\n",
            "tensorflow-probability==0.12.1\n",
            "termcolor==1.1.0\n",
            "terminado==0.9.2\n",
            "testpath==0.4.4\n",
            "text-unidecode==1.3\n",
            "textblob==0.15.3\n",
            "textgenrnn==1.4.1\n",
            "Theano==1.0.5\n",
            "thinc==7.4.0\n",
            "tifffile==2020.9.3\n",
            "toml==0.10.2\n",
            "toolz==0.11.1\n",
            "torch==1.7.0+cu101\n",
            "torchsummary==1.5.1\n",
            "torchtext==0.3.1\n",
            "torchvision==0.8.1+cu101\n",
            "tornado==5.1.1\n",
            "tqdm==4.41.1\n",
            "traitlets==4.3.3\n",
            "tweepy==3.6.0\n",
            "typeguard==2.7.1\n",
            "typing-extensions==3.7.4.3\n",
            "tzlocal==1.5.1\n",
            "umap-learn==0.5.0\n",
            "uritemplate==3.0.1\n",
            "urllib3==1.24.3\n",
            "vega-datasets==0.9.0\n",
            "wasabi==0.8.1\n",
            "wcwidth==0.2.5\n",
            "webencodings==0.5.1\n",
            "websocket-client==0.57.0\n",
            "Werkzeug==1.0.1\n",
            "widgetsnbextension==3.5.1\n",
            "wmctrl==0.3\n",
            "wordcloud==1.5.0\n",
            "wrapt==1.12.1\n",
            "xarray==0.15.1\n",
            "xgboost==0.90\n",
            "xkit==0.0.0\n",
            "xlrd==1.1.0\n",
            "xlwt==1.3.0\n",
            "yellowbrick==0.9.1\n",
            "zict==2.0.0\n",
            "zipp==3.4.0\n"
          ],
          "name": "stdout"
        }
      ]
    },
    {
      "cell_type": "code",
      "metadata": {
        "colab": {
          "base_uri": "https://localhost:8080/"
        },
        "id": "dnph6enooRgu",
        "outputId": "0fa4d184-e2cd-4618-97fa-8d07caf13176"
      },
      "source": [
        "!rls-prof python test_writefile.py"
      ],
      "execution_count": 23,
      "outputs": [
        {
          "output_type": "stream",
          "text": [
            "> CMD:\n",
            "  $ /usr/local/bin/python test_writefile.py\n",
            "  PWD=/content\n",
            "  Environment:\n",
            "    LD_LIBRARY_PATH=/usr/lib64-nvidia:/usr/local/lib/python3.6/dist-packages/rlscope/cpp/lib\n",
            "    LD_PRELOAD=/usr/lib/x86_64-linux-gnu/libtcmalloc.so.4:librlscope.so\n",
            "    RLSCOPE_CONFIG=full\n",
            "    RLSCOPE_CUDA_ACTIVITIES=yes\n",
            "    RLSCOPE_CUDA_API_CALLS=yes\n",
            "    RLSCOPE_CUDA_API_EVENTS=yes\n",
            "    RLSCOPE_FUZZ_CUDA_API=no\n",
            "    RLSCOPE_GPU_HW=no\n",
            "    RLSCOPE_PC_SAMPLING=no\n",
            "    RLSCOPE_STREAM_SAMPLING=no\n",
            "    RLSCOPE_TRACE_AT_START=no\n",
            "Stack trace (most recent call last):\n",
            "#31   Object \"/bin/bash\", at 0x55cd24281bf1, in execute_command\n",
            "#30   Object \"/bin/bash\", at 0x55cd2427ffd6, in execute_command_internal\n",
            "#29   Object \"/bin/bash\", at 0x55cd24281bf1, in execute_command\n",
            "#28   Object \"/bin/bash\", at 0x55cd2427ffd6, in execute_command_internal\n",
            "#27   Object \"/bin/bash\", at 0x55cd24281bf1, in execute_command\n",
            "#26   Object \"/bin/bash\", at 0x55cd2427ffd6, in execute_command_internal\n",
            "#25   Object \"/bin/bash\", at 0x55cd24281bf1, in execute_command\n",
            "#24   Object \"/bin/bash\", at 0x55cd2427ffd6, in execute_command_internal\n",
            "#23   Object \"/bin/bash\", at 0x55cd24281bf1, in execute_command\n",
            "#22   Object \"/bin/bash\", at 0x55cd2427ffd6, in execute_command_internal\n",
            "#21   Object \"/bin/bash\", at 0x55cd24281bf1, in execute_command\n",
            "#20   Object \"/bin/bash\", at 0x55cd2428000b, in execute_command_internal\n",
            "#19   Object \"/bin/bash\", at 0x55cd242800d7, in execute_command_internal\n",
            "#18   Object \"/bin/bash\", at 0x55cd24267a9a, in \n",
            "#17   Object \"/bin/bash\", at 0x55cd242a5229, in \n",
            "#16   Object \"/bin/bash\", at 0x55cd2429cc98, in \n",
            "#15   Object \"/bin/bash\", at 0x55cd2429c7ad, in \n",
            "#14   Object \"/bin/bash\", at 0x55cd242a34c9, in expand_string_assignment\n",
            "#13   Object \"/bin/bash\", at 0x55cd242a336b, in \n",
            "#12   Object \"/bin/bash\", at 0x55cd242a1885, in \n",
            "#11   Object \"/bin/bash\", at 0x55cd242a05c2, in \n",
            "#10   Object \"/bin/bash\", at 0x55cd2429bc75, in command_substitute\n",
            "#9    Object \"/lib/x86_64-linux-gnu/libc.so.6\", at 0x7fed6ac1d259, in exit\n",
            "#8    Object \"/lib/x86_64-linux-gnu/libc.so.6\", at 0x7fed6ac1d160, in \n",
            "#7    Object \"/lib64/ld-linux-x86-64.so.2\", at 0x7fed6bcbad12, in \n",
            "#6    Object \"/usr/local/lib/python3.6/dist-packages/rlscope/cpp/lib/librlscope.so\", at 0x7fed6b430a12, in \n",
            "#5    Object \"/lib/x86_64-linux-gnu/libc.so.6\", at 0x7fed6ac1d734, in __cxa_finalize\n",
            "#4    Object \"/usr/local/lib/python3.6/dist-packages/rlscope/cpp/lib/librlscope.so\", at 0x7fed6b4a7405, in \n",
            "#3    Object \"/usr/local/lib/python3.6/dist-packages/rlscope/cpp/lib/librlscope.so\", at 0x7fed6b4946c8, in \n",
            "#2    Object \"/usr/local/lib/python3.6/dist-packages/rlscope/cpp/lib/librlscope.so\", at 0x7fed6b494415, in \n",
            "#1    Object \"/usr/local/lib/python3.6/dist-packages/rlscope/cpp/lib/librlscope.so\", at 0x7fed6b501b4a, in \n",
            "#0    Object \"/lib/x86_64-linux-gnu/libpthread.so.0\", at 0x7fed6a7a8bd8, in \n",
            "Segmentation fault (Address not mapped to object [0x7fed5d6109d0])\n",
            "PID=3906/MainProcess @ patch_environ, glbl.py:85 2021-01-28 15:39:49,147 \u001b[32mINFO    \u001b[0m | \u001b[32mRemove librlscope.so from LD_PRELOAD:\n",
            "  LD_PRELOAD=/usr/lib/x86_64-linux-gnu/libtcmalloc.so.4\u001b[0m\n",
            "2021-01-28 15:39:50.521695: I tensorflow/stream_executor/platform/default/dso_loader.cc:49] Successfully opened dynamic library libcudart.so.10.1\n",
            "DEBUG:tensorflow:Falling back to TensorFlow client; we recommended you install the Cloud TPU client directly with pip install cloud-tpu-client.\n",
            "PID=3906/MainProcess @ load_library, rlscope_api.py:245 2021-01-28 15:39:51,926 \u001b[32mINFO    \u001b[0m | \u001b[32mLoaded symbols from librlscope.so\u001b[0m\n",
            "PID=3906/MainProcess @ wrap_tensorflow_v2, clib_wrap.py:384 2021-01-28 15:39:51,931 \u001b[32mINFO    \u001b[0m | \u001b[32m> RL-Scope: Wrapping module=tensorflow.python.pywrap_tfe call with category=Framework API C annotations\u001b[0m\n",
            "PID=3906/MainProcess @ wrap_func, wrap_util.py:96 2021-01-28 15:39:51,932 \u001b[33mWARNING \u001b[0m | \u001b[33mCannot wrap tensorflow.python.client.pywrap_tf_session.TF_ApiDefMap since it's not a function: <class 'tensorflow.python._pywrap_tf_session.TF_ApiDefMap'>\u001b[0m\n",
            "PID=3906/MainProcess @ wrap_func, wrap_util.py:96 2021-01-28 15:39:51,932 \u001b[33mWARNING \u001b[0m | \u001b[33mCannot wrap tensorflow.python.client.pywrap_tf_session.TF_Buffer since it's not a function: <class 'tensorflow.python._pywrap_tf_session.TF_Buffer'>\u001b[0m\n",
            "PID=3906/MainProcess @ wrap_func, wrap_util.py:96 2021-01-28 15:39:51,932 \u001b[33mWARNING \u001b[0m | \u001b[33mCannot wrap tensorflow.python.client.pywrap_tf_session.TF_Code since it's not a function: <class 'tensorflow.python._pywrap_tf_session.TF_Code'>\u001b[0m\n",
            "PID=3906/MainProcess @ wrap_func, wrap_util.py:96 2021-01-28 15:39:51,932 \u001b[33mWARNING \u001b[0m | \u001b[33mCannot wrap tensorflow.python.client.pywrap_tf_session.TF_DataType since it's not a function: <class 'tensorflow.python._pywrap_tf_session.TF_DataType'>\u001b[0m\n",
            "PID=3906/MainProcess @ wrap_func, wrap_util.py:96 2021-01-28 15:39:51,932 \u001b[33mWARNING \u001b[0m | \u001b[33mCannot wrap tensorflow.python.client.pywrap_tf_session.TF_DeprecatedSession since it's not a function: <class 'tensorflow.python._pywrap_tf_session.TF_DeprecatedSession'>\u001b[0m\n",
            "PID=3906/MainProcess @ wrap_func, wrap_util.py:96 2021-01-28 15:39:51,932 \u001b[33mWARNING \u001b[0m | \u001b[33mCannot wrap tensorflow.python.client.pywrap_tf_session.TF_Graph since it's not a function: <class 'tensorflow.python._pywrap_tf_session.TF_Graph'>\u001b[0m\n",
            "PID=3906/MainProcess @ wrap_func, wrap_util.py:96 2021-01-28 15:39:51,932 \u001b[33mWARNING \u001b[0m | \u001b[33mCannot wrap tensorflow.python.client.pywrap_tf_session.TF_ImportGraphDefOptions since it's not a function: <class 'tensorflow.python._pywrap_tf_session.TF_ImportGraphDefOptions'>\u001b[0m\n",
            "PID=3906/MainProcess @ wrap_func, wrap_util.py:96 2021-01-28 15:39:51,933 \u001b[33mWARNING \u001b[0m | \u001b[33mCannot wrap tensorflow.python.client.pywrap_tf_session.TF_ImportGraphDefResults since it's not a function: <class 'tensorflow.python._pywrap_tf_session.TF_ImportGraphDefResults'>\u001b[0m\n",
            "PID=3906/MainProcess @ wrap_func, wrap_util.py:96 2021-01-28 15:39:51,933 \u001b[33mWARNING \u001b[0m | \u001b[33mCannot wrap tensorflow.python.client.pywrap_tf_session.TF_Input since it's not a function: <class 'tensorflow.python._pywrap_tf_session.TF_Input'>\u001b[0m\n",
            "PID=3906/MainProcess @ wrap_func, wrap_util.py:96 2021-01-28 15:39:51,933 \u001b[33mWARNING \u001b[0m | \u001b[33mCannot wrap tensorflow.python.client.pywrap_tf_session.TF_Library since it's not a function: <class 'tensorflow.python._pywrap_tf_session.TF_Library'>\u001b[0m\n",
            "PID=3906/MainProcess @ wrap_func, wrap_util.py:96 2021-01-28 15:39:51,933 \u001b[33mWARNING \u001b[0m | \u001b[33mCannot wrap tensorflow.python.client.pywrap_tf_session.TF_Operation since it's not a function: <class 'tensorflow.python._pywrap_tf_session.TF_Operation'>\u001b[0m\n",
            "PID=3906/MainProcess @ wrap_func, wrap_util.py:96 2021-01-28 15:39:51,933 \u001b[33mWARNING \u001b[0m | \u001b[33mCannot wrap tensorflow.python.client.pywrap_tf_session.TF_OperationDescription since it's not a function: <class 'tensorflow.python._pywrap_tf_session.TF_OperationDescription'>\u001b[0m\n",
            "PID=3906/MainProcess @ wrap_func, wrap_util.py:96 2021-01-28 15:39:51,933 \u001b[33mWARNING \u001b[0m | \u001b[33mCannot wrap tensorflow.python.client.pywrap_tf_session.TF_Output since it's not a function: <class 'tensorflow.python._pywrap_tf_session.TF_Output'>\u001b[0m\n",
            "PID=3906/MainProcess @ wrap_func, wrap_util.py:96 2021-01-28 15:39:51,933 \u001b[33mWARNING \u001b[0m | \u001b[33mCannot wrap tensorflow.python.client.pywrap_tf_session.TF_Server since it's not a function: <class 'tensorflow.python._pywrap_tf_session.TF_Server'>\u001b[0m\n",
            "PID=3906/MainProcess @ wrap_func, wrap_util.py:96 2021-01-28 15:39:51,933 \u001b[33mWARNING \u001b[0m | \u001b[33mCannot wrap tensorflow.python.client.pywrap_tf_session.TF_Session since it's not a function: <class 'tensorflow.python._pywrap_tf_session.TF_Session'>\u001b[0m\n",
            "PID=3906/MainProcess @ wrap_func, wrap_util.py:96 2021-01-28 15:39:51,933 \u001b[33mWARNING \u001b[0m | \u001b[33mCannot wrap tensorflow.python.client.pywrap_tf_session.TF_SessionOptions since it's not a function: <class 'tensorflow.python._pywrap_tf_session.TF_SessionOptions'>\u001b[0m\n",
            "PID=3906/MainProcess @ wrap_func, wrap_util.py:96 2021-01-28 15:39:51,934 \u001b[33mWARNING \u001b[0m | \u001b[33mCannot wrap tensorflow.python.client.pywrap_tf_session.TF_Status since it's not a function: <class 'tensorflow.python._pywrap_tf_session.TF_Status'>\u001b[0m\n"
          ],
          "name": "stdout"
        }
      ]
    },
    {
      "cell_type": "markdown",
      "metadata": {
        "id": "xVm9QPNVwKXN"
      },
      "source": [
        "### Prepare video recording"
      ]
    },
    {
      "cell_type": "code",
      "metadata": {
        "id": "MPyfQxD5z26J"
      },
      "source": [
        "# Set up fake display; otherwise rendering will fail\n",
        "import os\n",
        "os.system(\"Xvfb :1 -screen 0 1024x768x24 &\")\n",
        "os.environ['DISPLAY'] = ':1'"
      ],
      "execution_count": 11,
      "outputs": []
    },
    {
      "cell_type": "code",
      "metadata": {
        "id": "SLzXxO8VMD6N"
      },
      "source": [
        "import base64\n",
        "from pathlib import Path\n",
        "\n",
        "from IPython import display as ipythondisplay\n",
        "\n",
        "def show_videos(video_path='', prefix=''):\n",
        "  \"\"\"\n",
        "  Taken from https://github.com/eleurent/highway-env\n",
        "\n",
        "  :param video_path: (str) Path to the folder containing videos\n",
        "  :param prefix: (str) Filter the video, showing only the only starting with this prefix\n",
        "  \"\"\"\n",
        "  html = []\n",
        "  for mp4 in Path(video_path).glob(\"{}*.mp4\".format(prefix)):\n",
        "      video_b64 = base64.b64encode(mp4.read_bytes())\n",
        "      html.append('''<video alt=\"{}\" autoplay \n",
        "                    loop controls style=\"height: 400px;\">\n",
        "                    <source src=\"data:video/mp4;base64,{}\" type=\"video/mp4\" />\n",
        "                </video>'''.format(mp4, video_b64.decode('ascii')))\n",
        "  ipythondisplay.display(ipythondisplay.HTML(data=\"<br>\".join(html)))"
      ],
      "execution_count": 12,
      "outputs": []
    },
    {
      "cell_type": "markdown",
      "metadata": {
        "id": "LTRNUfulOGaF"
      },
      "source": [
        "We will record a video using the [VecVideoRecorder](https://stable-baselines3.readthedocs.io/en/master/guide/vec_envs.html#vecvideorecorder) wrapper, you will learn about those wrapper in the next notebook."
      ]
    },
    {
      "cell_type": "code",
      "metadata": {
        "id": "Trag9dQpOIhx"
      },
      "source": [
        "from stable_baselines3.common.vec_env import VecVideoRecorder, DummyVecEnv\n",
        "\n",
        "def record_video(env_id, model, video_length=500, prefix='', video_folder='videos/'):\n",
        "  \"\"\"\n",
        "  :param env_id: (str)\n",
        "  :param model: (RL model)\n",
        "  :param video_length: (int)\n",
        "  :param prefix: (str)\n",
        "  :param video_folder: (str)\n",
        "  \"\"\"\n",
        "  eval_env = DummyVecEnv([lambda: gym.make(env_id)])\n",
        "  # Start the video at step=0 and record 500 steps\n",
        "  eval_env = VecVideoRecorder(eval_env, video_folder=video_folder,\n",
        "                              record_video_trigger=lambda step: step == 0, video_length=video_length,\n",
        "                              name_prefix=prefix)\n",
        "\n",
        "  obs = eval_env.reset()\n",
        "  for _ in range(video_length):\n",
        "    action, _ = model.predict(obs)\n",
        "    obs, _, _, _ = eval_env.step(action)\n",
        "\n",
        "  # Close the video recorder\n",
        "  eval_env.close()"
      ],
      "execution_count": 13,
      "outputs": []
    },
    {
      "cell_type": "markdown",
      "metadata": {
        "id": "KOObbeu5MMlR"
      },
      "source": [
        "### Visualize trained agent\n",
        "\n"
      ]
    },
    {
      "cell_type": "code",
      "metadata": {
        "id": "iATu7AiyMQW2"
      },
      "source": [
        "record_video('CartPole-v1', model, video_length=500, prefix='ppo2-cartpole')"
      ],
      "execution_count": 14,
      "outputs": []
    },
    {
      "cell_type": "code",
      "metadata": {
        "id": "-n4i-fW3NojZ",
        "colab": {
          "base_uri": "https://localhost:8080/",
          "height": 421
        },
        "outputId": "97ab2fd5-e71b-417b-af29-0d04a9d96c4a"
      },
      "source": [
        "show_videos('videos', prefix='ppo2')"
      ],
      "execution_count": 15,
      "outputs": [
        {
          "output_type": "display_data",
          "data": {
            "text/html": [
              "<video alt=\"videos/ppo2-cartpole-step-0-to-step-500.mp4\" autoplay \n",
              "                    loop controls style=\"height: 400px;\">\n",
              "                    <source src=\"data:video/mp4;base64,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\" type=\"video/mp4\" />\n",
              "                </video>"
            ],
            "text/plain": [
              "<IPython.core.display.HTML object>"
            ]
          },
          "metadata": {
            "tags": []
          }
        }
      ]
    },
    {
      "cell_type": "markdown",
      "metadata": {
        "id": "9Y8zg4V566qD"
      },
      "source": [
        "## Bonus: Train a RL Model in One Line\n",
        "\n",
        "The policy class to use will be inferred and the environment will be automatically created. This works because both are [registered](https://stable-baselines3.readthedocs.io/en/master/guide/quickstart.html)."
      ]
    },
    {
      "cell_type": "code",
      "metadata": {
        "id": "iaOPfOrwWEP4"
      },
      "source": [
        "model = PPO('MlpPolicy', \"CartPole-v1\", verbose=1).learn(1000)"
      ],
      "execution_count": null,
      "outputs": []
    },
    {
      "cell_type": "markdown",
      "metadata": {
        "id": "FrI6f5fWnzp-"
      },
      "source": [
        "## Conclusion\n",
        "\n",
        "In this notebook we have seen:\n",
        "- how to define and train a RL model using stable baselines3, it takes only one line of code ;)"
      ]
    },
    {
      "cell_type": "code",
      "metadata": {
        "id": "73ji3gbNDkf7"
      },
      "source": [
        ""
      ],
      "execution_count": null,
      "outputs": []
    }
  ]
}