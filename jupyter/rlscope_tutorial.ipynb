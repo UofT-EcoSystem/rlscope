{
  "nbformat": 4,
  "nbformat_minor": 0,
  "metadata": {
    "accelerator": "GPU",
    "colab": {
      "name": "rlscope_tutorial.ipynb",
      "provenance": [],
      "collapsed_sections": []
    },
    "kernelspec": {
      "display_name": "Python 3",
      "language": "python",
      "name": "python3"
    },
    "language_info": {
      "codemirror_mode": {
        "name": "ipython",
        "version": 3
      },
      "file_extension": ".py",
      "mimetype": "text/x-python",
      "name": "python",
      "nbconvert_exporter": "python",
      "pygments_lexer": "ipython3",
      "version": "3.6.9"
    }
  },
  "cells": [
    {
      "cell_type": "markdown",
      "metadata": {
        "id": "hyyN-2qyK_T2"
      },
      "source": [
        "# Stable Baselines3 Tutorial - Getting Started\n",
        "\n",
        "Github repo: https://github.com/araffin/rl-tutorial-jnrr19/tree/sb3/\n",
        "\n",
        "Stable-Baselines3: https://github.com/DLR-RM/stable-baselines3\n",
        "\n",
        "Documentation: https://stable-baselines3.readthedocs.io/en/master/\n",
        "\n",
        "RL Baselines3 zoo: https://github.com/DLR-RM/rl-baselines3-zoo\n",
        "\n",
        "[RL Baselines3 Zoo](https://github.com/DLR-RM/rl-baselines3-zoo) is a collection of pre-trained Reinforcement Learning agents using Stable-Baselines3.\n",
        "\n",
        "It also provides basic scripts for training, evaluating agents, tuning hyperparameters and recording videos.\n",
        "\n",
        "\n",
        "## Introduction\n",
        "\n",
        "In this notebook, you will learn the basics for using stable baselines library: how to create a RL model, train it and evaluate it. Because all algorithms share the same interface, we will see how simple it is to switch from one algorithm to another.\n",
        "\n",
        "\n",
        "## Install Dependencies and Stable Baselines3 Using Pip\n",
        "\n",
        "List of full dependencies can be found in the [README](https://github.com/DLR-RM/stable-baselines3).\n",
        "\n",
        "\n",
        "```\n",
        "pip install stable-baselines3[extra]\n",
        "```"
      ]
    },
    {
      "cell_type": "code",
      "metadata": {
        "colab": {
          "base_uri": "https://localhost:8080/"
        },
        "id": "CtJ3ewjf211W",
        "outputId": "4778105d-c63d-4416-c9da-82917ac172b3"
      },
      "source": [
        "!sudo apt-get install -y ffmpeg freeglut3-dev xvfb  # For visualization"
      ],
      "execution_count": 1,
      "outputs": [
        {
          "output_type": "stream",
          "text": [
            "Reading package lists... Done\n",
            "Building dependency tree       \n",
            "Reading state information... Done\n",
            "freeglut3-dev is already the newest version (2.8.1-3).\n",
            "freeglut3-dev set to manually installed.\n",
            "ffmpeg is already the newest version (7:3.4.8-0ubuntu0.2).\n",
            "The following NEW packages will be installed:\n",
            "  xvfb\n",
            "0 upgraded, 1 newly installed, 0 to remove and 13 not upgraded.\n",
            "Need to get 784 kB of archives.\n",
            "After this operation, 2,270 kB of additional disk space will be used.\n",
            "Get:1 http://archive.ubuntu.com/ubuntu bionic-updates/universe amd64 xvfb amd64 2:1.19.6-1ubuntu4.8 [784 kB]\n",
            "Fetched 784 kB in 1s (657 kB/s)\n",
            "debconf: unable to initialize frontend: Dialog\n",
            "debconf: (No usable dialog-like program is installed, so the dialog based frontend cannot be used. at /usr/share/perl5/Debconf/FrontEnd/Dialog.pm line 76, <> line 1.)\n",
            "debconf: falling back to frontend: Readline\n",
            "debconf: unable to initialize frontend: Readline\n",
            "debconf: (This frontend requires a controlling tty.)\n",
            "debconf: falling back to frontend: Teletype\n",
            "dpkg-preconfigure: unable to re-open stdin: \n",
            "Selecting previously unselected package xvfb.\n",
            "(Reading database ... 146374 files and directories currently installed.)\n",
            "Preparing to unpack .../xvfb_2%3a1.19.6-1ubuntu4.8_amd64.deb ...\n",
            "Unpacking xvfb (2:1.19.6-1ubuntu4.8) ...\n",
            "Setting up xvfb (2:1.19.6-1ubuntu4.8) ...\n",
            "Processing triggers for man-db (2.8.3-2ubuntu0.1) ...\n"
          ],
          "name": "stdout"
        }
      ]
    },
    {
      "cell_type": "code",
      "metadata": {
        "colab": {
          "base_uri": "https://localhost:8080/"
        },
        "id": "gWskDE2c9WoN",
        "outputId": "755a5ffb-54f4-427b-a0e4-29af3f61b486"
      },
      "source": [
        "#!apt-get install ffmpeg freeglut3-dev xvfb  # For visualization\n",
        "!pip install stable-baselines3[extra]==v0.10.0"
      ],
      "execution_count": 9,
      "outputs": [
        {
          "output_type": "stream",
          "text": [
            "Collecting stable-baselines3[extra]==v0.10.0\n",
            "\u001b[?25l  Downloading https://files.pythonhosted.org/packages/76/7c/ec89fd9a51c2ff640f150479069be817136c02f02349b5dd27a6e3bb8b3d/stable_baselines3-0.10.0-py3-none-any.whl (145kB)\n",
            "\r\u001b[K     |██▎                             | 10kB 25.1MB/s eta 0:00:01\r\u001b[K     |████▌                           | 20kB 19.5MB/s eta 0:00:01\r\u001b[K     |██████▊                         | 30kB 10.9MB/s eta 0:00:01\r\u001b[K     |█████████                       | 40kB 8.9MB/s eta 0:00:01\r\u001b[K     |███████████▎                    | 51kB 7.2MB/s eta 0:00:01\r\u001b[K     |█████████████▌                  | 61kB 7.5MB/s eta 0:00:01\r\u001b[K     |███████████████▊                | 71kB 7.5MB/s eta 0:00:01\r\u001b[K     |██████████████████              | 81kB 7.9MB/s eta 0:00:01\r\u001b[K     |████████████████████▏           | 92kB 8.2MB/s eta 0:00:01\r\u001b[K     |██████████████████████▌         | 102kB 8.4MB/s eta 0:00:01\r\u001b[K     |████████████████████████▊       | 112kB 8.4MB/s eta 0:00:01\r\u001b[K     |███████████████████████████     | 122kB 8.4MB/s eta 0:00:01\r\u001b[K     |█████████████████████████████▏  | 133kB 8.4MB/s eta 0:00:01\r\u001b[K     |███████████████████████████████▍| 143kB 8.4MB/s eta 0:00:01\r\u001b[K     |████████████████████████████████| 153kB 8.4MB/s \n",
            "\u001b[?25hRequirement already satisfied: gym>=0.17 in /usr/local/lib/python3.6/dist-packages (from stable-baselines3[extra]==v0.10.0) (0.17.3)\n",
            "Requirement already satisfied: numpy in /usr/local/lib/python3.6/dist-packages (from stable-baselines3[extra]==v0.10.0) (1.19.5)\n",
            "Requirement already satisfied: torch>=1.4.0 in /usr/local/lib/python3.6/dist-packages (from stable-baselines3[extra]==v0.10.0) (1.7.0+cu101)\n",
            "Requirement already satisfied: cloudpickle in /usr/local/lib/python3.6/dist-packages (from stable-baselines3[extra]==v0.10.0) (1.3.0)\n",
            "Requirement already satisfied: pandas in /usr/local/lib/python3.6/dist-packages (from stable-baselines3[extra]==v0.10.0) (1.1.5)\n",
            "Requirement already satisfied: matplotlib in /usr/local/lib/python3.6/dist-packages (from stable-baselines3[extra]==v0.10.0) (3.2.2)\n",
            "Requirement already satisfied: atari-py~=0.2.0; extra == \"extra\" in /usr/local/lib/python3.6/dist-packages (from stable-baselines3[extra]==v0.10.0) (0.2.6)\n",
            "Requirement already satisfied: pillow; extra == \"extra\" in /usr/local/lib/python3.6/dist-packages (from stable-baselines3[extra]==v0.10.0) (7.0.0)\n",
            "Requirement already satisfied: tensorboard; extra == \"extra\" in /usr/local/lib/python3.6/dist-packages (from stable-baselines3[extra]==v0.10.0) (2.4.1)\n",
            "Requirement already satisfied: opencv-python; extra == \"extra\" in /usr/local/lib/python3.6/dist-packages (from stable-baselines3[extra]==v0.10.0) (4.1.2.30)\n",
            "Requirement already satisfied: psutil; extra == \"extra\" in /usr/local/lib/python3.6/dist-packages (from stable-baselines3[extra]==v0.10.0) (5.8.0)\n",
            "Requirement already satisfied: pyglet<=1.5.0,>=1.4.0 in /usr/local/lib/python3.6/dist-packages (from gym>=0.17->stable-baselines3[extra]==v0.10.0) (1.5.0)\n",
            "Requirement already satisfied: scipy in /usr/local/lib/python3.6/dist-packages (from gym>=0.17->stable-baselines3[extra]==v0.10.0) (1.4.1)\n",
            "Requirement already satisfied: typing-extensions in /usr/local/lib/python3.6/dist-packages (from torch>=1.4.0->stable-baselines3[extra]==v0.10.0) (3.7.4.3)\n",
            "Requirement already satisfied: future in /usr/local/lib/python3.6/dist-packages (from torch>=1.4.0->stable-baselines3[extra]==v0.10.0) (0.16.0)\n",
            "Requirement already satisfied: dataclasses in /usr/local/lib/python3.6/dist-packages (from torch>=1.4.0->stable-baselines3[extra]==v0.10.0) (0.8)\n",
            "Requirement already satisfied: python-dateutil>=2.7.3 in /usr/local/lib/python3.6/dist-packages (from pandas->stable-baselines3[extra]==v0.10.0) (2.8.1)\n",
            "Requirement already satisfied: pytz>=2017.2 in /usr/local/lib/python3.6/dist-packages (from pandas->stable-baselines3[extra]==v0.10.0) (2018.9)\n",
            "Requirement already satisfied: kiwisolver>=1.0.1 in /usr/local/lib/python3.6/dist-packages (from matplotlib->stable-baselines3[extra]==v0.10.0) (1.3.1)\n",
            "Requirement already satisfied: cycler>=0.10 in /usr/local/lib/python3.6/dist-packages (from matplotlib->stable-baselines3[extra]==v0.10.0) (0.10.0)\n",
            "Requirement already satisfied: pyparsing!=2.0.4,!=2.1.2,!=2.1.6,>=2.0.1 in /usr/local/lib/python3.6/dist-packages (from matplotlib->stable-baselines3[extra]==v0.10.0) (2.4.7)\n",
            "Requirement already satisfied: six in /usr/local/lib/python3.6/dist-packages (from atari-py~=0.2.0; extra == \"extra\"->stable-baselines3[extra]==v0.10.0) (1.15.0)\n",
            "Requirement already satisfied: tensorboard-plugin-wit>=1.6.0 in /usr/local/lib/python3.6/dist-packages (from tensorboard; extra == \"extra\"->stable-baselines3[extra]==v0.10.0) (1.8.0)\n",
            "Requirement already satisfied: grpcio>=1.24.3 in /usr/local/lib/python3.6/dist-packages (from tensorboard; extra == \"extra\"->stable-baselines3[extra]==v0.10.0) (1.32.0)\n",
            "Requirement already satisfied: protobuf>=3.6.0 in /usr/local/lib/python3.6/dist-packages (from tensorboard; extra == \"extra\"->stable-baselines3[extra]==v0.10.0) (3.12.4)\n",
            "Requirement already satisfied: werkzeug>=0.11.15 in /usr/local/lib/python3.6/dist-packages (from tensorboard; extra == \"extra\"->stable-baselines3[extra]==v0.10.0) (1.0.1)\n",
            "Requirement already satisfied: google-auth<2,>=1.6.3 in /usr/local/lib/python3.6/dist-packages (from tensorboard; extra == \"extra\"->stable-baselines3[extra]==v0.10.0) (1.17.2)\n",
            "Requirement already satisfied: setuptools>=41.0.0 in /usr/local/lib/python3.6/dist-packages (from tensorboard; extra == \"extra\"->stable-baselines3[extra]==v0.10.0) (51.3.3)\n",
            "Requirement already satisfied: wheel>=0.26; python_version >= \"3\" in /usr/local/lib/python3.6/dist-packages (from tensorboard; extra == \"extra\"->stable-baselines3[extra]==v0.10.0) (0.36.2)\n",
            "Requirement already satisfied: absl-py>=0.4 in /usr/local/lib/python3.6/dist-packages (from tensorboard; extra == \"extra\"->stable-baselines3[extra]==v0.10.0) (0.10.0)\n",
            "Requirement already satisfied: markdown>=2.6.8 in /usr/local/lib/python3.6/dist-packages (from tensorboard; extra == \"extra\"->stable-baselines3[extra]==v0.10.0) (3.3.3)\n",
            "Requirement already satisfied: google-auth-oauthlib<0.5,>=0.4.1 in /usr/local/lib/python3.6/dist-packages (from tensorboard; extra == \"extra\"->stable-baselines3[extra]==v0.10.0) (0.4.2)\n",
            "Requirement already satisfied: requests<3,>=2.21.0 in /usr/local/lib/python3.6/dist-packages (from tensorboard; extra == \"extra\"->stable-baselines3[extra]==v0.10.0) (2.23.0)\n",
            "Requirement already satisfied: pyasn1-modules>=0.2.1 in /usr/local/lib/python3.6/dist-packages (from google-auth<2,>=1.6.3->tensorboard; extra == \"extra\"->stable-baselines3[extra]==v0.10.0) (0.2.8)\n",
            "Requirement already satisfied: cachetools<5.0,>=2.0.0 in /usr/local/lib/python3.6/dist-packages (from google-auth<2,>=1.6.3->tensorboard; extra == \"extra\"->stable-baselines3[extra]==v0.10.0) (4.2.1)\n",
            "Requirement already satisfied: rsa<5,>=3.1.4; python_version >= \"3\" in /usr/local/lib/python3.6/dist-packages (from google-auth<2,>=1.6.3->tensorboard; extra == \"extra\"->stable-baselines3[extra]==v0.10.0) (4.7)\n",
            "Requirement already satisfied: importlib-metadata; python_version < \"3.8\" in /usr/local/lib/python3.6/dist-packages (from markdown>=2.6.8->tensorboard; extra == \"extra\"->stable-baselines3[extra]==v0.10.0) (3.4.0)\n",
            "Requirement already satisfied: requests-oauthlib>=0.7.0 in /usr/local/lib/python3.6/dist-packages (from google-auth-oauthlib<0.5,>=0.4.1->tensorboard; extra == \"extra\"->stable-baselines3[extra]==v0.10.0) (1.3.0)\n",
            "Requirement already satisfied: urllib3!=1.25.0,!=1.25.1,<1.26,>=1.21.1 in /usr/local/lib/python3.6/dist-packages (from requests<3,>=2.21.0->tensorboard; extra == \"extra\"->stable-baselines3[extra]==v0.10.0) (1.24.3)\n",
            "Requirement already satisfied: chardet<4,>=3.0.2 in /usr/local/lib/python3.6/dist-packages (from requests<3,>=2.21.0->tensorboard; extra == \"extra\"->stable-baselines3[extra]==v0.10.0) (3.0.4)\n",
            "Requirement already satisfied: certifi>=2017.4.17 in /usr/local/lib/python3.6/dist-packages (from requests<3,>=2.21.0->tensorboard; extra == \"extra\"->stable-baselines3[extra]==v0.10.0) (2020.12.5)\n",
            "Requirement already satisfied: idna<3,>=2.5 in /usr/local/lib/python3.6/dist-packages (from requests<3,>=2.21.0->tensorboard; extra == \"extra\"->stable-baselines3[extra]==v0.10.0) (2.10)\n",
            "Requirement already satisfied: pyasn1<0.5.0,>=0.4.6 in /usr/local/lib/python3.6/dist-packages (from pyasn1-modules>=0.2.1->google-auth<2,>=1.6.3->tensorboard; extra == \"extra\"->stable-baselines3[extra]==v0.10.0) (0.4.8)\n",
            "Requirement already satisfied: zipp>=0.5 in /usr/local/lib/python3.6/dist-packages (from importlib-metadata; python_version < \"3.8\"->markdown>=2.6.8->tensorboard; extra == \"extra\"->stable-baselines3[extra]==v0.10.0) (3.4.0)\n",
            "Requirement already satisfied: oauthlib>=3.0.0 in /usr/local/lib/python3.6/dist-packages (from requests-oauthlib>=0.7.0->google-auth-oauthlib<0.5,>=0.4.1->tensorboard; extra == \"extra\"->stable-baselines3[extra]==v0.10.0) (3.1.0)\n",
            "Installing collected packages: stable-baselines3\n",
            "Successfully installed stable-baselines3-0.10.0\n"
          ],
          "name": "stdout"
        }
      ]
    },
    {
      "cell_type": "code",
      "metadata": {
        "colab": {
          "base_uri": "https://localhost:8080/"
        },
        "id": "d-lz2a7ugOQt",
        "outputId": "f413f0f4-3408-4bf3-caaf-faf10e667b6a"
      },
      "source": [
        "!lsb_release -a"
      ],
      "execution_count": 2,
      "outputs": [
        {
          "output_type": "stream",
          "text": [
            "No LSB modules are available.\n",
            "Distributor ID:\tUbuntu\n",
            "Description:\tUbuntu 18.04.5 LTS\n",
            "Release:\t18.04\n",
            "Codename:\tbionic\n"
          ],
          "name": "stdout"
        }
      ]
    },
    {
      "cell_type": "code",
      "metadata": {
        "colab": {
          "base_uri": "https://localhost:8080/"
        },
        "id": "SvjXPUvBgSXs",
        "outputId": "fc7d1436-12d7-4565-fdbd-92a750a47dd0"
      },
      "source": [
        "# Determine CUDA version at /usr/local/cuda\n",
        "!ls -ld /usr/local/cuda*\n",
        "import os\n",
        "import re\n",
        "m = re.search(r'^cuda-(?P<cuda_version>.*)', os.path.basename(os.path.realpath('/usr/local/cuda')))\n",
        "cuda_version = m.group('cuda_version')\n",
        "cu_version = re.sub('\\.', '', cuda_version)\n",
        "cu_suffix = \"+cu{ver}\".format(ver=cu_version)"
      ],
      "execution_count": 3,
      "outputs": [
        {
          "output_type": "stream",
          "text": [
            "lrwxrwxrwx  1 root root    9 Jan 20 17:22 /usr/local/cuda -> cuda-10.1\n",
            "drwxr-xr-x 16 root root 4096 Jan 20 17:19 /usr/local/cuda-10.0\n",
            "drwxr-xr-x  1 root root 4096 Jan 20 17:21 /usr/local/cuda-10.1\n"
          ],
          "name": "stdout"
        }
      ]
    },
    {
      "cell_type": "code",
      "metadata": {
        "colab": {
          "base_uri": "https://localhost:8080/",
          "height": 306
        },
        "id": "B7wIi8A4211Y",
        "outputId": "bf077e2a-6c89-4365-8c60-ae596b2ef42d"
      },
      "source": [
        "# 1. Get version of torch installed with stable-baselines3\n",
        "# 2. Re-install torch with CUDA version that matches /usr/local/cuda\n",
        "import torch\n",
        "import re\n",
        "torch_version = re.sub(r\"\\+cu.*$\", \"\", torch.__version__)\n",
        "!pip uninstall -y torch\n",
        "torch_version = \"torch=={ver}{cu}\".format(\n",
        "    ver=torch_version, \n",
        "    cu=cu_suffix)\n",
        "!pip install $torch_version -f https://download.pytorch.org/whl/torch_stable.html"
      ],
      "execution_count": 4,
      "outputs": [
        {
          "output_type": "stream",
          "text": [
            "Uninstalling torch-1.7.0+cu101:\n",
            "  Successfully uninstalled torch-1.7.0+cu101\n",
            "Looking in links: https://download.pytorch.org/whl/torch_stable.html\n",
            "Collecting torch==1.7.0+cu101\n",
            "\u001b[?25l  Downloading https://download.pytorch.org/whl/cu101/torch-1.7.0%2Bcu101-cp36-cp36m-linux_x86_64.whl (735.3MB)\n",
            "\u001b[K     |████████████████████████████████| 735.3MB 25kB/s \n",
            "\u001b[?25hRequirement already satisfied: future in /usr/local/lib/python3.6/dist-packages (from torch==1.7.0+cu101) (0.16.0)\n",
            "Requirement already satisfied: numpy in /usr/local/lib/python3.6/dist-packages (from torch==1.7.0+cu101) (1.19.5)\n",
            "Requirement already satisfied: dataclasses in /usr/local/lib/python3.6/dist-packages (from torch==1.7.0+cu101) (0.8)\n",
            "Requirement already satisfied: typing-extensions in /usr/local/lib/python3.6/dist-packages (from torch==1.7.0+cu101) (3.7.4.3)\n",
            "Installing collected packages: torch\n",
            "Successfully installed torch-1.7.0+cu101\n"
          ],
          "name": "stdout"
        },
        {
          "output_type": "display_data",
          "data": {
            "application/vnd.colab-display-data+json": {
              "pip_warning": {
                "packages": [
                  "torch"
                ]
              }
            }
          },
          "metadata": {
            "tags": []
          }
        }
      ]
    },
    {
      "cell_type": "code",
      "metadata": {
        "colab": {
          "base_uri": "https://localhost:8080/"
        },
        "id": "VwaK7WR5okS2",
        "outputId": "01c714f7-6ea3-44c6-bd6b-7b2f8c76c240"
      },
      "source": [
        "# RL-Scope external dependencies.\n",
        "!sudo apt install -y texlive-extra-utils\n",
        "!sudo apt install -y poppler-utils\n",
        "# Useful for inspecting trace file directories.\n",
        "!sudo apt install -y tree"
      ],
      "execution_count": 38,
      "outputs": [
        {
          "output_type": "stream",
          "text": [
            "Reading package lists... Done\n",
            "Building dependency tree       \n",
            "Reading state information... Done\n",
            "texlive-extra-utils is already the newest version (2017.20180305-2).\n",
            "0 upgraded, 0 newly installed, 0 to remove and 13 not upgraded.\n",
            "Reading package lists... Done\n",
            "Building dependency tree       \n",
            "Reading state information... Done\n",
            "The following NEW packages will be installed:\n",
            "  poppler-utils\n",
            "0 upgraded, 1 newly installed, 0 to remove and 13 not upgraded.\n",
            "Need to get 154 kB of archives.\n",
            "After this operation, 613 kB of additional disk space will be used.\n",
            "Get:1 http://archive.ubuntu.com/ubuntu bionic-updates/main amd64 poppler-utils amd64 0.62.0-2ubuntu2.12 [154 kB]\n",
            "Fetched 154 kB in 1s (199 kB/s)\n",
            "debconf: unable to initialize frontend: Dialog\n",
            "debconf: (No usable dialog-like program is installed, so the dialog based frontend cannot be used. at /usr/share/perl5/Debconf/FrontEnd/Dialog.pm line 76, <> line 1.)\n",
            "debconf: falling back to frontend: Readline\n",
            "debconf: unable to initialize frontend: Readline\n",
            "debconf: (This frontend requires a controlling tty.)\n",
            "debconf: falling back to frontend: Teletype\n",
            "dpkg-preconfigure: unable to re-open stdin: \n",
            "Selecting previously unselected package poppler-utils.\n",
            "(Reading database ... 155974 files and directories currently installed.)\n",
            "Preparing to unpack .../poppler-utils_0.62.0-2ubuntu2.12_amd64.deb ...\n",
            "Unpacking poppler-utils (0.62.0-2ubuntu2.12) ...\n",
            "Setting up poppler-utils (0.62.0-2ubuntu2.12) ...\n",
            "Processing triggers for man-db (2.8.3-2ubuntu0.1) ...\n"
          ],
          "name": "stdout"
        }
      ]
    },
    {
      "cell_type": "code",
      "metadata": {
        "colab": {
          "base_uri": "https://localhost:8080/"
        },
        "id": "B948kupu211Z",
        "outputId": "b3af85dd-fd57-44fb-d2b6-87b850d33482"
      },
      "source": [
        "rlscope_version = '0.0.1'\n",
        "rlscope_pip_version = \"rlscope=={ver}{cu}\".format(\n",
        "    ver=rlscope_version, \n",
        "    cu=cu_suffix)\n",
        "!pip uninstall -y rlscope || true\n",
        "!pip install $rlscope_pip_version -f https://uoft-ecosystem.github.io/rlscope/whl"
      ],
      "execution_count": 36,
      "outputs": [
        {
          "output_type": "stream",
          "text": [
            "Uninstalling rlscope-0.0.1+cu101:\n",
            "  Successfully uninstalled rlscope-0.0.1+cu101\n",
            "Looking in links: https://uoft-ecosystem.github.io/rlscope/whl\n",
            "Collecting rlscope==0.0.1+cu101\n",
            "\u001b[?25l  Downloading https://github.com/UofT-EcoSystem/rlscope/releases/download/v0.0.1/rlscope-0.0.1%2Bcu101-py3-none-manylinux1_x86_64.whl (26.6MB)\n",
            "\u001b[K     |████████████████████████████████| 26.6MB 1.3MB/s \n",
            "\u001b[?25hRequirement already satisfied: sphinx>=3.2.1 in /usr/local/lib/python3.6/dist-packages (from rlscope==0.0.1+cu101) (3.4.3)\n",
            "Requirement already satisfied: scipy>=1.2.1 in /usr/local/lib/python3.6/dist-packages (from rlscope==0.0.1+cu101) (1.4.1)\n",
            "Requirement already satisfied: pytest>=4.4.1 in /usr/local/lib/python3.6/dist-packages (from rlscope==0.0.1+cu101) (6.2.2)\n",
            "Requirement already satisfied: tqdm>=4.31.1 in /usr/local/lib/python3.6/dist-packages (from rlscope==0.0.1+cu101) (4.41.1)\n",
            "Requirement already satisfied: docker>=4.0.1 in /usr/local/lib/python3.6/dist-packages (from rlscope==0.0.1+cu101) (4.4.1)\n",
            "Requirement already satisfied: matplotlib in /usr/local/lib/python3.6/dist-packages (from rlscope==0.0.1+cu101) (3.2.2)\n",
            "Requirement already satisfied: numpy>=1.13.3 in /usr/local/lib/python3.6/dist-packages (from rlscope==0.0.1+cu101) (1.19.5)\n",
            "Requirement already satisfied: Cerberus>=1.3.1 in /usr/local/lib/python3.6/dist-packages (from rlscope==0.0.1+cu101) (1.3.2)\n",
            "Requirement already satisfied: progressbar2>=3.39.2 in /usr/local/lib/python3.6/dist-packages (from rlscope==0.0.1+cu101) (3.53.1)\n",
            "Requirement already satisfied: ipdb>=0.12 in /usr/local/lib/python3.6/dist-packages (from rlscope==0.0.1+cu101) (0.13.4)\n",
            "Requirement already satisfied: wheel>=0.26 in /usr/local/lib/python3.6/dist-packages (from rlscope==0.0.1+cu101) (0.36.2)\n",
            "Requirement already satisfied: py-cpuinfo>=4.0.0 in /usr/local/lib/python3.6/dist-packages (from rlscope==0.0.1+cu101) (7.0.0)\n",
            "Requirement already satisfied: protobuf>=3.6.1 in /usr/local/lib/python3.6/dist-packages (from rlscope==0.0.1+cu101) (3.12.4)\n",
            "Requirement already satisfied: PyYAML>=5.1 in /usr/local/lib/python3.6/dist-packages (from rlscope==0.0.1+cu101) (5.4.1)\n",
            "Requirement already satisfied: absl-py>=0.6.1 in /usr/local/lib/python3.6/dist-packages (from rlscope==0.0.1+cu101) (0.10.0)\n",
            "Requirement already satisfied: colorlog>=4.2.1 in /usr/local/lib/python3.6/dist-packages (from rlscope==0.0.1+cu101) (4.7.2)\n",
            "Requirement already satisfied: seaborn>=0.9.0 in /usr/local/lib/python3.6/dist-packages (from rlscope==0.0.1+cu101) (0.11.1)\n",
            "Requirement already satisfied: pdbpp>=0.10.0 in /usr/local/lib/python3.6/dist-packages (from rlscope==0.0.1+cu101) (0.10.2)\n",
            "Requirement already satisfied: pandas>=0.24.2 in /usr/local/lib/python3.6/dist-packages (from rlscope==0.0.1+cu101) (1.1.5)\n",
            "Requirement already satisfied: luigi>=2.8.6 in /usr/local/lib/python3.6/dist-packages (from rlscope==0.0.1+cu101) (3.0.2)\n",
            "Requirement already satisfied: psutil>=5.6.2 in /usr/local/lib/python3.6/dist-packages (from rlscope==0.0.1+cu101) (5.8.0)\n",
            "Requirement already satisfied: sphinx-rtd-theme>=0.5.0 in /usr/local/lib/python3.6/dist-packages (from rlscope==0.0.1+cu101) (0.5.1)\n",
            "Requirement already satisfied: sphinxcontrib-serializinghtml in /usr/local/lib/python3.6/dist-packages (from sphinx>=3.2.1->rlscope==0.0.1+cu101) (1.1.4)\n",
            "Requirement already satisfied: Pygments>=2.0 in /usr/local/lib/python3.6/dist-packages (from sphinx>=3.2.1->rlscope==0.0.1+cu101) (2.6.1)\n",
            "Requirement already satisfied: alabaster<0.8,>=0.7 in /usr/local/lib/python3.6/dist-packages (from sphinx>=3.2.1->rlscope==0.0.1+cu101) (0.7.12)\n",
            "Requirement already satisfied: sphinxcontrib-applehelp in /usr/local/lib/python3.6/dist-packages (from sphinx>=3.2.1->rlscope==0.0.1+cu101) (1.0.2)\n",
            "Requirement already satisfied: sphinxcontrib-htmlhelp in /usr/local/lib/python3.6/dist-packages (from sphinx>=3.2.1->rlscope==0.0.1+cu101) (1.0.3)\n",
            "Requirement already satisfied: setuptools in /usr/local/lib/python3.6/dist-packages (from sphinx>=3.2.1->rlscope==0.0.1+cu101) (51.3.3)\n",
            "Requirement already satisfied: docutils>=0.12 in /usr/local/lib/python3.6/dist-packages (from sphinx>=3.2.1->rlscope==0.0.1+cu101) (0.16)\n",
            "Requirement already satisfied: imagesize in /usr/local/lib/python3.6/dist-packages (from sphinx>=3.2.1->rlscope==0.0.1+cu101) (1.2.0)\n",
            "Requirement already satisfied: snowballstemmer>=1.1 in /usr/local/lib/python3.6/dist-packages (from sphinx>=3.2.1->rlscope==0.0.1+cu101) (2.1.0)\n",
            "Requirement already satisfied: sphinxcontrib-jsmath in /usr/local/lib/python3.6/dist-packages (from sphinx>=3.2.1->rlscope==0.0.1+cu101) (1.0.1)\n",
            "Requirement already satisfied: sphinxcontrib-devhelp in /usr/local/lib/python3.6/dist-packages (from sphinx>=3.2.1->rlscope==0.0.1+cu101) (1.0.2)\n",
            "Requirement already satisfied: Jinja2>=2.3 in /usr/local/lib/python3.6/dist-packages (from sphinx>=3.2.1->rlscope==0.0.1+cu101) (2.11.2)\n",
            "Requirement already satisfied: requests>=2.5.0 in /usr/local/lib/python3.6/dist-packages (from sphinx>=3.2.1->rlscope==0.0.1+cu101) (2.23.0)\n",
            "Requirement already satisfied: sphinxcontrib-qthelp in /usr/local/lib/python3.6/dist-packages (from sphinx>=3.2.1->rlscope==0.0.1+cu101) (1.0.3)\n",
            "Requirement already satisfied: packaging in /usr/local/lib/python3.6/dist-packages (from sphinx>=3.2.1->rlscope==0.0.1+cu101) (20.8)\n",
            "Requirement already satisfied: babel>=1.3 in /usr/local/lib/python3.6/dist-packages (from sphinx>=3.2.1->rlscope==0.0.1+cu101) (2.9.0)\n",
            "Requirement already satisfied: iniconfig in /usr/local/lib/python3.6/dist-packages (from pytest>=4.4.1->rlscope==0.0.1+cu101) (1.1.1)\n",
            "Requirement already satisfied: toml in /usr/local/lib/python3.6/dist-packages (from pytest>=4.4.1->rlscope==0.0.1+cu101) (0.10.2)\n",
            "Requirement already satisfied: importlib-metadata>=0.12; python_version < \"3.8\" in /usr/local/lib/python3.6/dist-packages (from pytest>=4.4.1->rlscope==0.0.1+cu101) (3.4.0)\n",
            "Requirement already satisfied: py>=1.8.2 in /usr/local/lib/python3.6/dist-packages (from pytest>=4.4.1->rlscope==0.0.1+cu101) (1.10.0)\n",
            "Requirement already satisfied: attrs>=19.2.0 in /usr/local/lib/python3.6/dist-packages (from pytest>=4.4.1->rlscope==0.0.1+cu101) (20.3.0)\n",
            "Requirement already satisfied: pluggy<1.0.0a1,>=0.12 in /usr/local/lib/python3.6/dist-packages (from pytest>=4.4.1->rlscope==0.0.1+cu101) (0.13.1)\n",
            "Requirement already satisfied: six>=1.4.0 in /usr/local/lib/python3.6/dist-packages (from docker>=4.0.1->rlscope==0.0.1+cu101) (1.15.0)\n",
            "Requirement already satisfied: websocket-client>=0.32.0 in /usr/local/lib/python3.6/dist-packages (from docker>=4.0.1->rlscope==0.0.1+cu101) (0.57.0)\n",
            "Requirement already satisfied: python-dateutil>=2.1 in /usr/local/lib/python3.6/dist-packages (from matplotlib->rlscope==0.0.1+cu101) (2.8.1)\n",
            "Requirement already satisfied: kiwisolver>=1.0.1 in /usr/local/lib/python3.6/dist-packages (from matplotlib->rlscope==0.0.1+cu101) (1.3.1)\n",
            "Requirement already satisfied: cycler>=0.10 in /usr/local/lib/python3.6/dist-packages (from matplotlib->rlscope==0.0.1+cu101) (0.10.0)\n",
            "Requirement already satisfied: pyparsing!=2.0.4,!=2.1.2,!=2.1.6,>=2.0.1 in /usr/local/lib/python3.6/dist-packages (from matplotlib->rlscope==0.0.1+cu101) (2.4.7)\n",
            "Requirement already satisfied: python-utils>=2.3.0 in /usr/local/lib/python3.6/dist-packages (from progressbar2>=3.39.2->rlscope==0.0.1+cu101) (2.5.5)\n",
            "Requirement already satisfied: ipython>=5.1.0; python_version >= \"3.4\" in /usr/local/lib/python3.6/dist-packages (from ipdb>=0.12->rlscope==0.0.1+cu101) (5.5.0)\n",
            "Requirement already satisfied: wmctrl in /usr/local/lib/python3.6/dist-packages (from pdbpp>=0.10.0->rlscope==0.0.1+cu101) (0.3)\n",
            "Requirement already satisfied: fancycompleter>=0.8 in /usr/local/lib/python3.6/dist-packages (from pdbpp>=0.10.0->rlscope==0.0.1+cu101) (0.9.1)\n",
            "Requirement already satisfied: pytz>=2017.2 in /usr/local/lib/python3.6/dist-packages (from pandas>=0.24.2->rlscope==0.0.1+cu101) (2018.9)\n",
            "Requirement already satisfied: python-daemon in /usr/local/lib/python3.6/dist-packages (from luigi>=2.8.6->rlscope==0.0.1+cu101) (2.2.4)\n",
            "Requirement already satisfied: tornado<7,>=5.0 in /usr/local/lib/python3.6/dist-packages (from luigi>=2.8.6->rlscope==0.0.1+cu101) (5.1.1)\n",
            "Requirement already satisfied: MarkupSafe>=0.23 in /usr/local/lib/python3.6/dist-packages (from Jinja2>=2.3->sphinx>=3.2.1->rlscope==0.0.1+cu101) (1.1.1)\n",
            "Requirement already satisfied: urllib3!=1.25.0,!=1.25.1,<1.26,>=1.21.1 in /usr/local/lib/python3.6/dist-packages (from requests>=2.5.0->sphinx>=3.2.1->rlscope==0.0.1+cu101) (1.24.3)\n",
            "Requirement already satisfied: certifi>=2017.4.17 in /usr/local/lib/python3.6/dist-packages (from requests>=2.5.0->sphinx>=3.2.1->rlscope==0.0.1+cu101) (2020.12.5)\n",
            "Requirement already satisfied: idna<3,>=2.5 in /usr/local/lib/python3.6/dist-packages (from requests>=2.5.0->sphinx>=3.2.1->rlscope==0.0.1+cu101) (2.10)\n",
            "Requirement already satisfied: chardet<4,>=3.0.2 in /usr/local/lib/python3.6/dist-packages (from requests>=2.5.0->sphinx>=3.2.1->rlscope==0.0.1+cu101) (3.0.4)\n",
            "Requirement already satisfied: zipp>=0.5 in /usr/local/lib/python3.6/dist-packages (from importlib-metadata>=0.12; python_version < \"3.8\"->pytest>=4.4.1->rlscope==0.0.1+cu101) (3.4.0)\n",
            "Requirement already satisfied: typing-extensions>=3.6.4; python_version < \"3.8\" in /usr/local/lib/python3.6/dist-packages (from importlib-metadata>=0.12; python_version < \"3.8\"->pytest>=4.4.1->rlscope==0.0.1+cu101) (3.7.4.3)\n",
            "Requirement already satisfied: pickleshare in /usr/local/lib/python3.6/dist-packages (from ipython>=5.1.0; python_version >= \"3.4\"->ipdb>=0.12->rlscope==0.0.1+cu101) (0.7.5)\n",
            "Requirement already satisfied: traitlets>=4.2 in /usr/local/lib/python3.6/dist-packages (from ipython>=5.1.0; python_version >= \"3.4\"->ipdb>=0.12->rlscope==0.0.1+cu101) (4.3.3)\n",
            "Requirement already satisfied: pexpect; sys_platform != \"win32\" in /usr/local/lib/python3.6/dist-packages (from ipython>=5.1.0; python_version >= \"3.4\"->ipdb>=0.12->rlscope==0.0.1+cu101) (4.8.0)\n",
            "Requirement already satisfied: simplegeneric>0.8 in /usr/local/lib/python3.6/dist-packages (from ipython>=5.1.0; python_version >= \"3.4\"->ipdb>=0.12->rlscope==0.0.1+cu101) (0.8.1)\n",
            "Requirement already satisfied: decorator in /usr/local/lib/python3.6/dist-packages (from ipython>=5.1.0; python_version >= \"3.4\"->ipdb>=0.12->rlscope==0.0.1+cu101) (4.4.2)\n",
            "Requirement already satisfied: prompt-toolkit<2.0.0,>=1.0.4 in /usr/local/lib/python3.6/dist-packages (from ipython>=5.1.0; python_version >= \"3.4\"->ipdb>=0.12->rlscope==0.0.1+cu101) (1.0.18)\n",
            "Requirement already satisfied: pyrepl>=0.8.2 in /usr/local/lib/python3.6/dist-packages (from fancycompleter>=0.8->pdbpp>=0.10.0->rlscope==0.0.1+cu101) (0.9.0)\n",
            "Requirement already satisfied: lockfile>=0.10 in /usr/local/lib/python3.6/dist-packages (from python-daemon->luigi>=2.8.6->rlscope==0.0.1+cu101) (0.12.2)\n",
            "Requirement already satisfied: ipython-genutils in /usr/local/lib/python3.6/dist-packages (from traitlets>=4.2->ipython>=5.1.0; python_version >= \"3.4\"->ipdb>=0.12->rlscope==0.0.1+cu101) (0.2.0)\n",
            "Requirement already satisfied: ptyprocess>=0.5 in /usr/local/lib/python3.6/dist-packages (from pexpect; sys_platform != \"win32\"->ipython>=5.1.0; python_version >= \"3.4\"->ipdb>=0.12->rlscope==0.0.1+cu101) (0.7.0)\n",
            "Requirement already satisfied: wcwidth in /usr/local/lib/python3.6/dist-packages (from prompt-toolkit<2.0.0,>=1.0.4->ipython>=5.1.0; python_version >= \"3.4\"->ipdb>=0.12->rlscope==0.0.1+cu101) (0.2.5)\n",
            "Installing collected packages: rlscope\n",
            "Successfully installed rlscope-0.0.1+cu101\n"
          ],
          "name": "stdout"
        }
      ]
    },
    {
      "cell_type": "markdown",
      "metadata": {
        "id": "FtY8FhliLsGm"
      },
      "source": [
        "## Imports"
      ]
    },
    {
      "cell_type": "markdown",
      "metadata": {
        "id": "gcX8hEcaUpR0"
      },
      "source": [
        "Stable-Baselines3 works on environments that follow the [gym interface](https://stable-baselines3.readthedocs.io/en/master/guide/custom_env.html).\n",
        "You can find a list of available environment [here](https://gym.openai.com/envs/#classic_control).\n",
        "\n",
        "It is also recommended to check the [source code](https://github.com/openai/gym) to learn more about the observation and action space of each env, as gym does not have a proper documentation.\n",
        "Not all algorithms can work with all action spaces, you can find more in this [recap table](https://stable-baselines3.readthedocs.io/en/master/guide/algos.html)"
      ]
    },
    {
      "cell_type": "code",
      "metadata": {
        "id": "BIedd7Pz9sOs"
      },
      "source": [
        "import gym\n",
        "import numpy as np"
      ],
      "execution_count": 10,
      "outputs": []
    },
    {
      "cell_type": "markdown",
      "metadata": {
        "id": "Ae32CtgzTG3R"
      },
      "source": [
        "The first thing you need to import is the RL model, check the documentation to know what you can use on which problem"
      ]
    },
    {
      "cell_type": "code",
      "metadata": {
        "id": "R7tKaBFrTR0a"
      },
      "source": [
        "from stable_baselines3 import PPO"
      ],
      "execution_count": 12,
      "outputs": []
    },
    {
      "cell_type": "markdown",
      "metadata": {
        "id": "-0_8OQbOTTNT"
      },
      "source": [
        "The next thing you need to import is the policy class that will be used to create the networks (for the policy/value functions).\n",
        "This step is optional as you can directly use strings in the constructor: \n",
        "\n",
        "```PPO('MlpPolicy', env)``` instead of ```PPO(MlpPolicy, env)```\n",
        "\n",
        "Note that some algorithms like `SAC` have their own `MlpPolicy`, that's why using string for the policy is the recommened option."
      ]
    },
    {
      "cell_type": "code",
      "metadata": {
        "id": "ROUJr675TT01"
      },
      "source": [
        "from stable_baselines3.ppo.policies import MlpPolicy"
      ],
      "execution_count": 14,
      "outputs": []
    },
    {
      "cell_type": "markdown",
      "metadata": {
        "id": "RapkYvTXL7Cd"
      },
      "source": [
        "## Create the Gym env and instantiate the agent\n",
        "\n",
        "For this example, we will use CartPole environment, a classic control problem.\n",
        "\n",
        "\"A pole is attached by an un-actuated joint to a cart, which moves along a frictionless track. The system is controlled by applying a force of +1 or -1 to the cart. The pendulum starts upright, and the goal is to prevent it from falling over. A reward of +1 is provided for every timestep that the pole remains upright. \"\n",
        "\n",
        "Cartpole environment: [https://gym.openai.com/envs/CartPole-v1/](https://gym.openai.com/envs/CartPole-v1/)\n",
        "\n",
        "![Cartpole](https://cdn-images-1.medium.com/max/1143/1*h4WTQNVIsvMXJTCpXm_TAw.gif)\n",
        "\n",
        "\n",
        "We chose the MlpPolicy because the observation of the CartPole task is a feature vector, not images.\n",
        "\n",
        "The type of action to use (discrete/continuous) will be automatically deduced from the environment action space\n",
        "\n",
        "Here we are using the [Proximal Policy Optimization](https://stable-baselines3.readthedocs.io/en/master/modules/ppo2.html) algorithm, which is an Actor-Critic method: it uses a value function to improve the policy gradient descent (by reducing the variance).\n",
        "\n",
        "It combines ideas from [A2C](https://stable-baselines3.readthedocs.io/en/master/modules/a2c.html) (having multiple workers and using an entropy bonus for exploration) and [TRPO](https://stable-baselines.readthedocs.io/en/master/modules/trpo.html) (it uses a trust region to improve stability and avoid catastrophic drops in performance).\n",
        "\n",
        "PPO is an on-policy algorithm, which means that the trajectories used to update the networks must be collected using the latest policy.\n",
        "It is usually less sample efficient than off-policy alorithms like [DQN](https://stable-baselines.readthedocs.io/en/master/modules/dqn.html), [SAC](https://stable-baselines3.readthedocs.io/en/master/modules/sac.html) or [TD3](https://stable-baselines3.readthedocs.io/en/master/modules/td3.html), but is much faster regarding wall-clock time.\n"
      ]
    },
    {
      "cell_type": "code",
      "metadata": {
        "id": "pUWGZp3i9wyf"
      },
      "source": [
        "env = gym.make('CartPole-v1')\n",
        "\n",
        "model = PPO(MlpPolicy, env, verbose=0)"
      ],
      "execution_count": 15,
      "outputs": []
    },
    {
      "cell_type": "markdown",
      "metadata": {
        "id": "4efFdrQ7MBvl"
      },
      "source": [
        "We create a helper function to evaluate the agent:"
      ]
    },
    {
      "cell_type": "code",
      "metadata": {
        "id": "63M8mSKR-6Zt"
      },
      "source": [
        "def evaluate(model, num_episodes=100):\n",
        "    \"\"\"\n",
        "    Evaluate a RL agent\n",
        "    :param model: (BaseRLModel object) the RL Agent\n",
        "    :param num_episodes: (int) number of episodes to evaluate it\n",
        "    :return: (float) Mean reward for the last num_episodes\n",
        "    \"\"\"\n",
        "    # This function will only work for a single Environment\n",
        "    env = model.get_env()\n",
        "    all_episode_rewards = []\n",
        "    for i in range(num_episodes):\n",
        "        episode_rewards = []\n",
        "        done = False\n",
        "        obs = env.reset()\n",
        "        while not done:\n",
        "            # _states are only useful when using LSTM policies\n",
        "            action, _states = model.predict(obs)\n",
        "            # here, action, rewards and dones are arrays\n",
        "            # because we are using vectorized env\n",
        "            obs, reward, done, info = env.step(action)\n",
        "            episode_rewards.append(reward)\n",
        "\n",
        "        all_episode_rewards.append(sum(episode_rewards))\n",
        "\n",
        "    mean_episode_reward = np.mean(all_episode_rewards)\n",
        "    print(\"Mean reward:\", mean_episode_reward, \"Num episodes:\", num_episodes)\n",
        "\n",
        "    return mean_episode_reward"
      ],
      "execution_count": 16,
      "outputs": []
    },
    {
      "cell_type": "markdown",
      "metadata": {
        "id": "zjEVOIY8NVeK"
      },
      "source": [
        "Let's evaluate the un-trained agent, this should be a random agent."
      ]
    },
    {
      "cell_type": "code",
      "metadata": {
        "colab": {
          "base_uri": "https://localhost:8080/"
        },
        "id": "xDHLMA6NFk95",
        "outputId": "aee64e77-ac92-4af6-98c5-fc70b998b13d"
      },
      "source": [
        "# Random Agent, before training\n",
        "mean_reward_before_train = evaluate(model, num_episodes=100)"
      ],
      "execution_count": 17,
      "outputs": [
        {
          "output_type": "stream",
          "text": [
            "Mean reward: 21.39 Num episodes: 100\n"
          ],
          "name": "stdout"
        }
      ]
    },
    {
      "cell_type": "markdown",
      "metadata": {
        "id": "QjjPxrwkYJ2i"
      },
      "source": [
        "Stable-Baselines already provides you with that helper:"
      ]
    },
    {
      "cell_type": "code",
      "metadata": {
        "id": "8z6K9YImYJEx"
      },
      "source": [
        "from stable_baselines3.common.evaluation import evaluate_policy"
      ],
      "execution_count": 18,
      "outputs": []
    },
    {
      "cell_type": "code",
      "metadata": {
        "colab": {
          "base_uri": "https://localhost:8080/"
        },
        "id": "4oPTHjxyZSOL",
        "outputId": "47b711d0-7634-46c6-c572-06e35764eacd"
      },
      "source": [
        "mean_reward, std_reward = evaluate_policy(model, env, n_eval_episodes=100)\n",
        "\n",
        "print(f\"mean_reward:{mean_reward:.2f} +/- {std_reward:.2f}\")"
      ],
      "execution_count": 19,
      "outputs": [
        {
          "output_type": "stream",
          "text": [
            "mean_reward:118.29 +/- 75.02\n"
          ],
          "name": "stdout"
        }
      ]
    },
    {
      "cell_type": "markdown",
      "metadata": {
        "id": "r5UoXTZPNdFE"
      },
      "source": [
        "## Train the agent and evaluate it"
      ]
    },
    {
      "cell_type": "code",
      "metadata": {
        "colab": {
          "base_uri": "https://localhost:8080/"
        },
        "id": "e4cfSXIB-pTF",
        "outputId": "e04a5ee9-20cb-45f5-ebc3-7bd00fef05d2"
      },
      "source": [
        "# Train the agent for 10000 steps\n",
        "model.learn(total_timesteps=10000)"
      ],
      "execution_count": 20,
      "outputs": [
        {
          "output_type": "execute_result",
          "data": {
            "text/plain": [
              "<stable_baselines3.ppo.ppo.PPO at 0x7f7fb4084320>"
            ]
          },
          "metadata": {
            "tags": []
          },
          "execution_count": 20
        }
      ]
    },
    {
      "cell_type": "code",
      "metadata": {
        "colab": {
          "base_uri": "https://localhost:8080/"
        },
        "id": "ygl_gVmV_QP7",
        "outputId": "959de9c2-7b56-408a-c3e6-fb8fa58fc3e5"
      },
      "source": [
        "# Evaluate the trained agent\n",
        "mean_reward, std_reward = evaluate_policy(model, env, n_eval_episodes=100)\n",
        "\n",
        "print(f\"mean_reward:{mean_reward:.2f} +/- {std_reward:.2f}\")"
      ],
      "execution_count": 21,
      "outputs": [
        {
          "output_type": "stream",
          "text": [
            "mean_reward:448.10 +/- 79.86\n"
          ],
          "name": "stdout"
        }
      ]
    },
    {
      "cell_type": "markdown",
      "metadata": {
        "id": "A00W6yY3NkHG"
      },
      "source": [
        "Apparently the training went well, the mean reward increased a lot ! "
      ]
    },
    {
      "cell_type": "markdown",
      "metadata": {
        "id": "_NmTPtsOhzHZ"
      },
      "source": [
        "#RL-Scope\n",
        "Lets annotate the evaluation inference loop with RL-Scope annotations to understand where time is spent."
      ]
    },
    {
      "cell_type": "code",
      "metadata": {
        "colab": {
          "base_uri": "https://localhost:8080/"
        },
        "id": "TYgeSyVoma-m",
        "outputId": "8061f96b-ff21-4977-fbd3-2a7b8be26399"
      },
      "source": [
        "# !rls-prof --help\n",
        "!pip freeze | grep torch"
      ],
      "execution_count": 22,
      "outputs": [
        {
          "output_type": "stream",
          "text": [
            "torch==1.7.0+cu101\n",
            "torchsummary==1.5.1\n",
            "torchtext==0.3.1\n",
            "torchvision==0.8.1+cu101\n"
          ],
          "name": "stdout"
        }
      ]
    },
    {
      "cell_type": "code",
      "metadata": {
        "colab": {
          "base_uri": "https://localhost:8080/"
        },
        "id": "DgUupt6AiwZj",
        "outputId": "3f388005-b172-4d45-ea91-e4bf0cbcc0e0"
      },
      "source": [
        "%%writefile test_writefile.py\n",
        "import gym\n",
        "import numpy as np\n",
        "from stable_baselines3 import PPO\n",
        "from stable_baselines3.ppo.policies import MlpPolicy\n",
        "\n",
        "import argparse\n",
        "\n",
        "import rlscope.api as rlscope\n",
        "\n",
        "def main():\n",
        "    parser = argparse.ArgumentParser(description=\"Evaluate an RL policy\")\n",
        "    rlscope.add_rlscope_arguments(parser)\n",
        "    args = parser.parse_args()\n",
        "    \n",
        "    rlscope.handle_rlscope_args(\n",
        "        parser=parser,\n",
        "        args=args,\n",
        "    )\n",
        "    rlscope.prof.set_metadata({\n",
        "        'algo': 'PPO',\n",
        "        'env': 'CartPole-v1',\n",
        "    })\n",
        "    process_name = 'PPO_CartPole'\n",
        "    phase_name = process_name\n",
        "    \n",
        "    env = gym.make('CartPole-v1')\n",
        "    model = PPO(MlpPolicy, env, verbose=0)\n",
        "    \n",
        "    # Random Agent, before training\n",
        "    with rlscope.prof.profile(process_name=process_name, phase_name=phase_name):\n",
        "        mean_reward_before_train = evaluate_rlscope(model, \n",
        "                                                    # num_episodes=10000,\n",
        "                                                    # num_episodes=1000,\n",
        "                                                    num_episodes=100,\n",
        "                                                   )\n",
        "\n",
        "\n",
        "def evaluate_rlscope(model, num_episodes=100):\n",
        "    \"\"\"\n",
        "    Evaluate a RL agent\n",
        "    :param model: (BaseRLModel object) the RL Agent\n",
        "    :param num_episodes: (int) number of episodes to evaluate it\n",
        "    :return: (float) Mean reward for the last num_episodes\n",
        "    \"\"\"\n",
        "    # This function will only work for a single Environment\n",
        "    env = model.get_env()\n",
        "    all_episode_rewards = []\n",
        "\n",
        "    with rlscope.prof.operation('training_loop'):\n",
        "        for i in range(num_episodes):\n",
        "            \n",
        "            # rlscope.prof.report_progress(\n",
        "            #     percent_complete=i/float(num_episodes),\n",
        "            #     num_timesteps=i,\n",
        "            #     total_timesteps=num_episodes)\n",
        "            \n",
        "            episode_rewards = []\n",
        "            done = False\n",
        "            obs = env.reset()\n",
        "            while not done:\n",
        "                with rlscope.prof.operation('inference'):\n",
        "                    # _states are only useful when using LSTM policies\n",
        "                    action, _states = model.predict(obs)\n",
        "                with rlscope.prof.operation('step'):\n",
        "                    # here, action, rewards and dones are arrays\n",
        "                    # because we are using vectorized env\n",
        "                    obs, reward, done, info = env.step(action)\n",
        "                    episode_rewards.append(reward)\n",
        "\n",
        "            all_episode_rewards.append(sum(episode_rewards))\n",
        "\n",
        "    mean_episode_reward = np.mean(all_episode_rewards)\n",
        "    print(\"Mean reward:\", mean_episode_reward, \"Num episodes:\", num_episodes)\n",
        "\n",
        "    return mean_episode_reward\n",
        "\n",
        "if __name__ == '__main__':\n",
        "    main()"
      ],
      "execution_count": 65,
      "outputs": [
        {
          "output_type": "stream",
          "text": [
            "Overwriting test_writefile.py\n"
          ],
          "name": "stdout"
        }
      ]
    },
    {
      "cell_type": "code",
      "metadata": {
        "id": "uGtIXusm51PC"
      },
      "source": [
        "# Delete any trace files from previous runs of this notebook.\n",
        "!rm -rf ./rlscope_tutorial"
      ],
      "execution_count": 27,
      "outputs": []
    },
    {
      "cell_type": "code",
      "metadata": {
        "colab": {
          "base_uri": "https://localhost:8080/"
        },
        "id": "dnph6enooRgu",
        "outputId": "652075da-3f99-4afe-d3b8-b37d298db1ed"
      },
      "source": [
        "# Collect RL-Scope traces from the program using the added annotations.\n",
        "# Your training script will be run multiple times to calibrate for overhead correction.\n",
        "# If you have multiple GPUs, experiments will be run across available GPUs.\n",
        "!rls-prof python test_writefile.py --rlscope-directory ./rlscope_tutorial"
      ],
      "execution_count": 74,
      "outputs": [
        {
          "output_type": "stream",
          "text": [
            "> CMD:\n",
            "  $ rls-calibrate run --parallel-runs python test_writefile.py --rlscope-directory ./rlscope_tutorial\n",
            "  PWD=/content\n",
            "[TerminalIPythonApp] WARNING | GUI event loop or pylab initialization failed\n",
            "\u001b[0;31m\u001b[0m\n",
            "\u001b[0;31mUnknownBackend\u001b[0mTraceback (most recent call last)\n",
            "\u001b[0;32m/usr/local/lib/python3.6/dist-packages/IPython/core/interactiveshell.py\u001b[0m in \u001b[0;36menable_matplotlib\u001b[0;34m(self, gui)\u001b[0m\n",
            "\u001b[1;32m   2953\u001b[0m         \u001b[0;31m# Now we must activate the gui pylab wants to use, and fix %run to take\u001b[0m\u001b[0;34m\u001b[0m\u001b[0;34m\u001b[0m\u001b[0;34m\u001b[0m\u001b[0m\n",
            "\u001b[1;32m   2954\u001b[0m         \u001b[0;31m# plot updates into account\u001b[0m\u001b[0;34m\u001b[0m\u001b[0;34m\u001b[0m\u001b[0;34m\u001b[0m\u001b[0m\n",
            "\u001b[0;32m-> 2955\u001b[0;31m         \u001b[0mself\u001b[0m\u001b[0;34m.\u001b[0m\u001b[0menable_gui\u001b[0m\u001b[0;34m(\u001b[0m\u001b[0mgui\u001b[0m\u001b[0;34m)\u001b[0m\u001b[0;34m\u001b[0m\u001b[0;34m\u001b[0m\u001b[0m\n",
            "\u001b[0m\u001b[1;32m   2956\u001b[0m         \u001b[0mself\u001b[0m\u001b[0;34m.\u001b[0m\u001b[0mmagics_manager\u001b[0m\u001b[0;34m.\u001b[0m\u001b[0mregistry\u001b[0m\u001b[0;34m[\u001b[0m\u001b[0;34m'ExecutionMagics'\u001b[0m\u001b[0;34m]\u001b[0m\u001b[0;34m.\u001b[0m\u001b[0mdefault_runner\u001b[0m \u001b[0;34m=\u001b[0m\u001b[0;31m \u001b[0m\u001b[0;31m\\\u001b[0m\u001b[0;34m\u001b[0m\u001b[0;34m\u001b[0m\u001b[0m\n",
            "\u001b[1;32m   2957\u001b[0m             \u001b[0mpt\u001b[0m\u001b[0;34m.\u001b[0m\u001b[0mmpl_runner\u001b[0m\u001b[0;34m(\u001b[0m\u001b[0mself\u001b[0m\u001b[0;34m.\u001b[0m\u001b[0msafe_execfile\u001b[0m\u001b[0;34m)\u001b[0m\u001b[0;34m\u001b[0m\u001b[0;34m\u001b[0m\u001b[0m\n",
            "\n",
            "\u001b[0;32m/usr/local/lib/python3.6/dist-packages/IPython/terminal/interactiveshell.py\u001b[0m in \u001b[0;36menable_gui\u001b[0;34m(self, gui)\u001b[0m\n",
            "\u001b[1;32m    512\u001b[0m         \u001b[0;32mif\u001b[0m \u001b[0mgui\u001b[0m\u001b[0;34m:\u001b[0m\u001b[0;34m\u001b[0m\u001b[0;34m\u001b[0m\u001b[0m\n",
            "\u001b[1;32m    513\u001b[0m             \u001b[0mself\u001b[0m\u001b[0;34m.\u001b[0m\u001b[0mactive_eventloop\u001b[0m\u001b[0;34m,\u001b[0m \u001b[0mself\u001b[0m\u001b[0;34m.\u001b[0m\u001b[0m_inputhook\u001b[0m \u001b[0;34m=\u001b[0m\u001b[0;31m\\\u001b[0m\u001b[0;34m\u001b[0m\u001b[0;34m\u001b[0m\u001b[0m\n",
            "\u001b[0;32m--> 514\u001b[0;31m                 \u001b[0mget_inputhook_name_and_func\u001b[0m\u001b[0;34m(\u001b[0m\u001b[0mgui\u001b[0m\u001b[0;34m)\u001b[0m\u001b[0;34m\u001b[0m\u001b[0;34m\u001b[0m\u001b[0m\n",
            "\u001b[0m\u001b[1;32m    515\u001b[0m         \u001b[0;32melse\u001b[0m\u001b[0;34m:\u001b[0m\u001b[0;34m\u001b[0m\u001b[0;34m\u001b[0m\u001b[0m\n",
            "\u001b[1;32m    516\u001b[0m             \u001b[0mself\u001b[0m\u001b[0;34m.\u001b[0m\u001b[0mactive_eventloop\u001b[0m \u001b[0;34m=\u001b[0m \u001b[0mself\u001b[0m\u001b[0;34m.\u001b[0m\u001b[0m_inputhook\u001b[0m \u001b[0;34m=\u001b[0m \u001b[0;32mNone\u001b[0m\u001b[0;34m\u001b[0m\u001b[0;34m\u001b[0m\u001b[0m\n",
            "\n",
            "\u001b[0;32m/usr/local/lib/python3.6/dist-packages/IPython/terminal/pt_inputhooks/__init__.py\u001b[0m in \u001b[0;36mget_inputhook_name_and_func\u001b[0;34m(gui)\u001b[0m\n",
            "\u001b[1;32m     36\u001b[0m \u001b[0;34m\u001b[0m\u001b[0m\n",
            "\u001b[1;32m     37\u001b[0m     \u001b[0;32mif\u001b[0m \u001b[0mgui\u001b[0m \u001b[0;32mnot\u001b[0m \u001b[0;32min\u001b[0m \u001b[0mbackends\u001b[0m\u001b[0;34m:\u001b[0m\u001b[0;34m\u001b[0m\u001b[0;34m\u001b[0m\u001b[0m\n",
            "\u001b[0;32m---> 38\u001b[0;31m         \u001b[0;32mraise\u001b[0m \u001b[0mUnknownBackend\u001b[0m\u001b[0;34m(\u001b[0m\u001b[0mgui\u001b[0m\u001b[0;34m)\u001b[0m\u001b[0;34m\u001b[0m\u001b[0;34m\u001b[0m\u001b[0m\n",
            "\u001b[0m\u001b[1;32m     39\u001b[0m \u001b[0;34m\u001b[0m\u001b[0m\n",
            "\u001b[1;32m     40\u001b[0m     \u001b[0;32mif\u001b[0m \u001b[0mgui\u001b[0m \u001b[0;32min\u001b[0m \u001b[0maliases\u001b[0m\u001b[0;34m:\u001b[0m\u001b[0;34m\u001b[0m\u001b[0;34m\u001b[0m\u001b[0m\n",
            "\n",
            "\u001b[0;31mUnknownBackend\u001b[0m: No event loop integration for 'inline'. Supported event loops are: qt, qt4, qt5, gtk, gtk2, gtk3, tk, wx, pyglet, glut, osx\n",
            "\u001b[32mINFO   \u001b[0m | PID=9985/MainProcess @ init_configs, calibration.py:1044 2021-02-02 05:01:43,189 \u001b[32mRun configurations:\n",
            "  ./rlscope_tutorial/config_time_breakdown_repetition_*\n",
            "  ./rlscope_tutorial/config_calibration_uninstrumented_repetition_*\n",
            "  ./rlscope_tutorial/config_calibration_interception_repetition_*\n",
            "  ./rlscope_tutorial/config_calibration_gpu_activities_repetition_*\n",
            "  ./rlscope_tutorial/config_calibration_no_gpu_activities_repetition_*\n",
            "  ./rlscope_tutorial/config_calibration_gpu_activities_api_time_repetition_*\n",
            "  ./rlscope_tutorial/config_calibration_just_pyprof_annotations_repetition_*\n",
            "  ./rlscope_tutorial/config_calibration_just_pyprof_interceptions_repetition_*\u001b[0m\n",
            "\u001b[32mINFO   \u001b[0m | PID=9985/MainProcess @ run_configs, calibration.py:821 2021-02-02 05:01:43,189 \u001b[32mWriting run configuration shell commands to ./rlscope_tutorial/run_expr.sh\u001b[0m\n",
            "> CMD:\n",
            "  $ rls-run-expr --run-sh --sh ./rlscope_tutorial/run_expr.sh\n",
            "  PWD=/content\n",
            "\u001b[32mINFO   \u001b[0m | PID=9985/MainProcess @ run_configs, calibration.py:845 2021-02-02 05:01:45,317 \u001b[32mTrace files have been recorded @ ./rlscope_tutorial/*\u001b[0m\n",
            "\u001b[32mINFO   \u001b[0m | PID=9985/MainProcess @ do_calibration, calibration.py:941 2021-02-02 05:01:45,333 \u001b[32mCalibration files have been generated @ ./rlscope_tutorial/*_overhead\u001b[0m\n",
            "> CMD:\n",
            "  $ rls-run --directory ./rlscope_tutorial --task CategoryTransitionPlotTask --time-breakdown-directories '[\"./rlscope_tutorial/config_time_breakdown_repetition_01.corrected_no\"]' --rlscope-directories '[\"./rlscope_tutorial/config_time_breakdown_repetition_01\"]'\n",
            "  PWD=/content\n",
            "/usr/local/lib/python3.6/dist-packages/luigi/parameter.py:279: UserWarning: Parameter \"xtick_expression\" with value \"None\" is not of type string.\n",
            "  warnings.warn('Parameter \"{}\" with value \"{}\" is not of type string.'.format(param_name, param_value))\n",
            "/usr/local/lib/python3.6/dist-packages/luigi/parameter.py:279: UserWarning: Parameter \"category\" with value \"None\" is not of type string.\n",
            "  warnings.warn('Parameter \"{}\" with value \"{}\" is not of type string.'.format(param_name, param_value))\n",
            "/usr/local/lib/python3.6/dist-packages/luigi/parameter.py:279: UserWarning: Parameter \"remap_df\" with value \"None\" is not of type string.\n",
            "  warnings.warn('Parameter \"{}\" with value \"{}\" is not of type string.'.format(param_name, param_value))\n",
            "/usr/local/lib/python3.6/dist-packages/luigi/parameter.py:279: UserWarning: Parameter \"title\" with value \"None\" is not of type string.\n",
            "  warnings.warn('Parameter \"{}\" with value \"{}\" is not of type string.'.format(param_name, param_value))\n",
            "/usr/local/lib/python3.6/dist-packages/luigi/parameter.py:279: UserWarning: Parameter \"x_title\" with value \"None\" is not of type string.\n",
            "  warnings.warn('Parameter \"{}\" with value \"{}\" is not of type string.'.format(param_name, param_value))\n",
            "/usr/local/lib/python3.6/dist-packages/luigi/worker.py:401: UserWarning: Task CategoryTransitionPlotTask(debug=False, debug_single_thread=False, hack_upper_right_legend_bbox_x=None, xtick_expression=None, time_breakdown_directories=[\"./rlscope_tutorial/config_time_breakdown_repetition_01.corrected_no\"], rlscope_directories=[\"./rlscope_tutorial/config_time_breakdown_repetition_01\"], category=None, directory=./rlscope_tutorial, remap_df=None, title=None, x_title=None, rotation=15.0, width=None, height=None, include_gpu=False, include_python=False, include_simulator=False) without outputs has no custom complete() method\n",
            "  is_complete = task.complete()\n",
            "INFO: Informed scheduler that task   CategoryTransitionPlotTask_None_False_False_5c668e07f2   has status   PENDING\n",
            "INFO: Done scheduling tasks\n",
            "INFO: Running Worker with 1 processes\n",
            "INFO: [pid 10005] Worker Worker(salt=695079398, workers=1, host=326e28e84e0d, username=root, pid=10005) running   CategoryTransitionPlotTask(debug=False, debug_single_thread=False, hack_upper_right_legend_bbox_x=None, xtick_expression=None, time_breakdown_directories=[\"./rlscope_tutorial/config_time_breakdown_repetition_01.corrected_no\"], rlscope_directories=[\"./rlscope_tutorial/config_time_breakdown_repetition_01\"], category=None, directory=./rlscope_tutorial, remap_df=None, title=None, x_title=None, rotation=15.0, width=None, height=None, include_gpu=False, include_python=False, include_simulator=False)\n",
            "\u001b[37mDEBUG  \u001b[0m | PID=10005/MainProcess @ read_df, stacked_bar_plots.py:4190 2021-02-02 05:01:46,749 \u001b[37mno categories:\n",
            "  from_key\n",
            "    procs:   frozenset({'PPO_CartPole'})\n",
            "    non_ops: frozenset({'Framework API C', 'CUDA API CPU', 'GPU'})\n",
            "    ops:     frozenset({'inference'})\n",
            "  to_key\n",
            "    procs:   frozenset({'PPO_CartPole'})\n",
            "    non_ops: frozenset({'Framework API C', 'CUDA API CPU'})\n",
            "    ops:     frozenset({'inference'})\u001b[0m\n",
            "\u001b[37mDEBUG  \u001b[0m | PID=10005/MainProcess @ read_df, stacked_bar_plots.py:4190 2021-02-02 05:01:46,749 \u001b[37mno categories:\n",
            "  from_key\n",
            "    procs:   frozenset({'PPO_CartPole'})\n",
            "    non_ops: frozenset({'Framework API C', 'CUDA API CPU', 'GPU'})\n",
            "    ops:     frozenset({'inference'})\n",
            "  to_key\n",
            "    procs:   frozenset({'PPO_CartPole'})\n",
            "    non_ops: frozenset({'Framework API C', 'GPU'})\n",
            "    ops:     frozenset({'inference'})\u001b[0m\n",
            "\u001b[37mDEBUG  \u001b[0m | PID=10005/MainProcess @ read_df, stacked_bar_plots.py:4190 2021-02-02 05:01:46,749 \u001b[37mno categories:\n",
            "  from_key\n",
            "    procs:   frozenset({'PPO_CartPole'})\n",
            "    non_ops: frozenset({'Framework API C', 'CUDA API CPU', 'GPU'})\n",
            "    ops:     frozenset({'inference'})\n",
            "  to_key\n",
            "    procs:   frozenset({'PPO_CartPole'})\n",
            "    non_ops: frozenset({'Framework API C'})\n",
            "    ops:     frozenset({'inference'})\u001b[0m\n",
            "\u001b[37mDEBUG  \u001b[0m | PID=10005/MainProcess @ read_df, stacked_bar_plots.py:4172 2021-02-02 05:01:46,749 \u001b[37mcategories = frozenset({'GPU'})\u001b[0m\n",
            "\u001b[37mDEBUG  \u001b[0m | PID=10005/MainProcess @ read_df, stacked_bar_plots.py:4172 2021-02-02 05:01:46,750 \u001b[37mcategories = frozenset({'GPU'})\u001b[0m\n",
            "\u001b[37mDEBUG  \u001b[0m | PID=10005/MainProcess @ read_df, stacked_bar_plots.py:4190 2021-02-02 05:01:46,750 \u001b[37mno categories:\n",
            "  from_key\n",
            "    procs:   frozenset({'PPO_CartPole'})\n",
            "    non_ops: frozenset({'Framework API C', 'CUDA API CPU'})\n",
            "    ops:     frozenset({'inference'})\n",
            "  to_key\n",
            "    procs:   frozenset({'PPO_CartPole'})\n",
            "    non_ops: frozenset({'Framework API C'})\n",
            "    ops:     frozenset({'inference'})\u001b[0m\n",
            "\u001b[37mDEBUG  \u001b[0m | PID=10005/MainProcess @ read_df, stacked_bar_plots.py:4190 2021-02-02 05:01:46,750 \u001b[37mno categories:\n",
            "  from_key\n",
            "    procs:   frozenset({'PPO_CartPole'})\n",
            "    non_ops: frozenset({'CUDA API CPU', 'Python', 'GPU'})\n",
            "    ops:     frozenset({'inference'})\n",
            "  to_key\n",
            "    procs:   frozenset({'PPO_CartPole'})\n",
            "    non_ops: frozenset({'CUDA API CPU', 'Python'})\n",
            "    ops:     frozenset({'inference'})\u001b[0m\n",
            "\u001b[37mDEBUG  \u001b[0m | PID=10005/MainProcess @ read_df, stacked_bar_plots.py:4190 2021-02-02 05:01:46,750 \u001b[37mno categories:\n",
            "  from_key\n",
            "    procs:   frozenset({'PPO_CartPole'})\n",
            "    non_ops: frozenset({'CUDA API CPU', 'Python', 'GPU'})\n",
            "    ops:     frozenset({'inference'})\n",
            "  to_key\n",
            "    procs:   frozenset({'PPO_CartPole'})\n",
            "    non_ops: frozenset({'Python', 'GPU'})\n",
            "    ops:     frozenset({'inference'})\u001b[0m\n",
            "\u001b[37mDEBUG  \u001b[0m | PID=10005/MainProcess @ read_df, stacked_bar_plots.py:4190 2021-02-02 05:01:46,750 \u001b[37mno categories:\n",
            "  from_key\n",
            "    procs:   frozenset({'PPO_CartPole'})\n",
            "    non_ops: frozenset({'CUDA API CPU', 'Python', 'GPU'})\n",
            "    ops:     frozenset({'inference'})\n",
            "  to_key\n",
            "    procs:   frozenset({'PPO_CartPole'})\n",
            "    non_ops: frozenset({'Python'})\n",
            "    ops:     frozenset({'inference'})\u001b[0m\n",
            "\u001b[37mDEBUG  \u001b[0m | PID=10005/MainProcess @ read_df, stacked_bar_plots.py:4172 2021-02-02 05:01:46,750 \u001b[37mcategories = frozenset({'GPU'})\u001b[0m\n",
            "\u001b[37mDEBUG  \u001b[0m | PID=10005/MainProcess @ read_df, stacked_bar_plots.py:4172 2021-02-02 05:01:46,750 \u001b[37mcategories = frozenset({'GPU'})\u001b[0m\n",
            "\u001b[37mDEBUG  \u001b[0m | PID=10005/MainProcess @ read_df, stacked_bar_plots.py:4190 2021-02-02 05:01:46,750 \u001b[37mno categories:\n",
            "  from_key\n",
            "    procs:   frozenset({'PPO_CartPole'})\n",
            "    non_ops: frozenset({'CUDA API CPU', 'Python'})\n",
            "    ops:     frozenset({'inference'})\n",
            "  to_key\n",
            "    procs:   frozenset({'PPO_CartPole'})\n",
            "    non_ops: frozenset({'Python'})\n",
            "    ops:     frozenset({'inference'})\u001b[0m\n",
            "\u001b[37mDEBUG  \u001b[0m | PID=10005/MainProcess @ read_df, stacked_bar_plots.py:4172 2021-02-02 05:01:46,751 \u001b[37mcategories = frozenset({'CUDA API CPU'})\u001b[0m\n",
            "\u001b[37mDEBUG  \u001b[0m | PID=10005/MainProcess @ read_df, stacked_bar_plots.py:4172 2021-02-02 05:01:46,751 \u001b[37mcategories = frozenset({'CUDA API CPU'})\u001b[0m\n",
            "\u001b[37mDEBUG  \u001b[0m | PID=10005/MainProcess @ read_df, stacked_bar_plots.py:4190 2021-02-02 05:01:46,751 \u001b[37mno categories:\n",
            "  from_key\n",
            "    procs:   frozenset({'PPO_CartPole'})\n",
            "    non_ops: frozenset({'Framework API C', 'GPU'})\n",
            "    ops:     frozenset({'inference'})\n",
            "  to_key\n",
            "    procs:   frozenset({'PPO_CartPole'})\n",
            "    non_ops: frozenset({'Framework API C'})\n",
            "    ops:     frozenset({'inference'})\u001b[0m\n",
            "\u001b[37mDEBUG  \u001b[0m | PID=10005/MainProcess @ read_df, stacked_bar_plots.py:4172 2021-02-02 05:01:46,751 \u001b[37mcategories = frozenset({'Python'})\u001b[0m\n",
            "\u001b[37mDEBUG  \u001b[0m | PID=10005/MainProcess @ read_df, stacked_bar_plots.py:4190 2021-02-02 05:01:46,751 \u001b[37mno categories:\n",
            "  from_key\n",
            "    procs:   frozenset({'PPO_CartPole'})\n",
            "    non_ops: frozenset({'Framework API C', 'GPU'})\n",
            "    ops:     frozenset({'inference'})\n",
            "  to_key\n",
            "    procs:   frozenset({'PPO_CartPole'})\n",
            "    non_ops: frozenset({'GPU'})\n",
            "    ops:     frozenset({'inference'})\u001b[0m\n",
            "\u001b[37mDEBUG  \u001b[0m | PID=10005/MainProcess @ read_df, stacked_bar_plots.py:4172 2021-02-02 05:01:46,751 \u001b[37mcategories = frozenset({'Python'})\u001b[0m\n",
            "\u001b[37mDEBUG  \u001b[0m | PID=10005/MainProcess @ read_df, stacked_bar_plots.py:4190 2021-02-02 05:01:46,751 \u001b[37mno categories:\n",
            "  from_key\n",
            "    procs:   frozenset({'PPO_CartPole'})\n",
            "    non_ops: frozenset({'Framework API C', 'GPU'})\n",
            "    ops:     frozenset({'inference'})\n",
            "  to_key\n",
            "    procs:   frozenset({'PPO_CartPole'})\n",
            "    non_ops: frozenset()\n",
            "    ops:     frozenset({'inference'})\u001b[0m\n",
            "\u001b[37mDEBUG  \u001b[0m | PID=10005/MainProcess @ read_df, stacked_bar_plots.py:4190 2021-02-02 05:01:46,751 \u001b[37mno categories:\n",
            "  from_key\n",
            "    procs:   frozenset({'PPO_CartPole'})\n",
            "    non_ops: frozenset({'Framework API C', 'Python'})\n",
            "    ops:     frozenset({'inference'})\n",
            "  to_key\n",
            "    procs:   frozenset({'PPO_CartPole'})\n",
            "    non_ops: frozenset({'Framework API C', 'Python'})\n",
            "    ops:     frozenset({'inference'})\u001b[0m\n",
            "\u001b[37mDEBUG  \u001b[0m | PID=10005/MainProcess @ read_df, stacked_bar_plots.py:4190 2021-02-02 05:01:46,751 \u001b[37mno categories:\n",
            "  from_key\n",
            "    procs:   frozenset({'PPO_CartPole'})\n",
            "    non_ops: frozenset({'Framework API C', 'Python'})\n",
            "    ops:     frozenset({'inference'})\n",
            "  to_key\n",
            "    procs:   frozenset({'PPO_CartPole'})\n",
            "    non_ops: frozenset({'Framework API C'})\n",
            "    ops:     frozenset({'inference'})\u001b[0m\n",
            "\u001b[37mDEBUG  \u001b[0m | PID=10005/MainProcess @ read_df, stacked_bar_plots.py:4172 2021-02-02 05:01:46,751 \u001b[37mcategories = frozenset({'CUDA API CPU', 'GPU'})\u001b[0m\n",
            "\u001b[37mDEBUG  \u001b[0m | PID=10005/MainProcess @ read_df, stacked_bar_plots.py:4172 2021-02-02 05:01:46,751 \u001b[37mcategories = frozenset({'CUDA API CPU'})\u001b[0m\n",
            "\u001b[37mDEBUG  \u001b[0m | PID=10005/MainProcess @ read_df, stacked_bar_plots.py:4172 2021-02-02 05:01:46,752 \u001b[37mcategories = frozenset({'GPU'})\u001b[0m\n",
            "\u001b[37mDEBUG  \u001b[0m | PID=10005/MainProcess @ read_df, stacked_bar_plots.py:4172 2021-02-02 05:01:46,752 \u001b[37mcategories = frozenset({'Python', 'GPU'})\u001b[0m\n",
            "\u001b[37mDEBUG  \u001b[0m | PID=10005/MainProcess @ read_df, stacked_bar_plots.py:4172 2021-02-02 05:01:46,752 \u001b[37mcategories = frozenset({'GPU'})\u001b[0m\n",
            "\u001b[37mDEBUG  \u001b[0m | PID=10005/MainProcess @ read_df, stacked_bar_plots.py:4172 2021-02-02 05:01:46,752 \u001b[37mcategories = frozenset({'Python'})\u001b[0m\n",
            "\u001b[37mDEBUG  \u001b[0m | PID=10005/MainProcess @ read_df, stacked_bar_plots.py:4190 2021-02-02 05:01:46,752 \u001b[37mno categories:\n",
            "  from_key\n",
            "    procs:   frozenset({'PPO_CartPole'})\n",
            "    non_ops: frozenset({'Framework API C'})\n",
            "    ops:     frozenset({'inference'})\n",
            "  to_key\n",
            "    procs:   frozenset({'PPO_CartPole'})\n",
            "    non_ops: frozenset()\n",
            "    ops:     frozenset({'inference'})\u001b[0m\n",
            "\u001b[37mDEBUG  \u001b[0m | PID=10005/MainProcess @ read_df, stacked_bar_plots.py:4172 2021-02-02 05:01:46,752 \u001b[37mcategories = frozenset({'CUDA API CPU'})\u001b[0m\n",
            "\u001b[37mDEBUG  \u001b[0m | PID=10005/MainProcess @ read_df, stacked_bar_plots.py:4172 2021-02-02 05:01:46,752 \u001b[37mcategories = frozenset({'CUDA API CPU'})\u001b[0m\n",
            "\u001b[37mDEBUG  \u001b[0m | PID=10005/MainProcess @ read_df, stacked_bar_plots.py:4190 2021-02-02 05:01:46,752 \u001b[37mno categories:\n",
            "  from_key\n",
            "    procs:   frozenset({'PPO_CartPole'})\n",
            "    non_ops: frozenset({'Python', 'GPU'})\n",
            "    ops:     frozenset({'inference'})\n",
            "  to_key\n",
            "    procs:   frozenset({'PPO_CartPole'})\n",
            "    non_ops: frozenset({'Python'})\n",
            "    ops:     frozenset({'inference'})\u001b[0m\n",
            "\u001b[37mDEBUG  \u001b[0m | PID=10005/MainProcess @ read_df, stacked_bar_plots.py:4172 2021-02-02 05:01:46,752 \u001b[37mcategories = frozenset({'Python'})\u001b[0m\n",
            "\u001b[37mDEBUG  \u001b[0m | PID=10005/MainProcess @ read_df, stacked_bar_plots.py:4172 2021-02-02 05:01:46,752 \u001b[37mcategories = frozenset({'Python'})\u001b[0m\n",
            "\u001b[37mDEBUG  \u001b[0m | PID=10005/MainProcess @ read_df, stacked_bar_plots.py:4172 2021-02-02 05:01:46,752 \u001b[37mcategories = frozenset({'CUDA API CPU'})\u001b[0m\n",
            "\u001b[37mDEBUG  \u001b[0m | PID=10005/MainProcess @ read_df, stacked_bar_plots.py:4172 2021-02-02 05:01:46,752 \u001b[37mcategories = frozenset({'Framework API C'})\u001b[0m\n",
            "\u001b[37mDEBUG  \u001b[0m | PID=10005/MainProcess @ read_df, stacked_bar_plots.py:4172 2021-02-02 05:01:46,752 \u001b[37mcategories = frozenset({'Framework API C'})\u001b[0m\n",
            "\u001b[37mDEBUG  \u001b[0m | PID=10005/MainProcess @ read_df, stacked_bar_plots.py:4172 2021-02-02 05:01:46,752 \u001b[37mcategories = frozenset({'GPU'})\u001b[0m\n",
            "\u001b[37mDEBUG  \u001b[0m | PID=10005/MainProcess @ read_df, stacked_bar_plots.py:4190 2021-02-02 05:01:46,753 \u001b[37mno categories:\n",
            "  from_key\n",
            "    procs:   frozenset({'PPO_CartPole'})\n",
            "    non_ops: frozenset({'Python'})\n",
            "    ops:     frozenset({'inference'})\n",
            "  to_key\n",
            "    procs:   frozenset({'PPO_CartPole'})\n",
            "    non_ops: frozenset({'Python'})\n",
            "    ops:     frozenset({'inference'})\u001b[0m\n",
            "\u001b[37mDEBUG  \u001b[0m | PID=10005/MainProcess @ read_df, stacked_bar_plots.py:4190 2021-02-02 05:01:46,753 \u001b[37mno categories:\n",
            "  from_key\n",
            "    procs:   frozenset({'PPO_CartPole'})\n",
            "    non_ops: frozenset({'Python'})\n",
            "    ops:     frozenset({'inference'})\n",
            "  to_key\n",
            "    procs:   frozenset({'PPO_CartPole'})\n",
            "    non_ops: frozenset()\n",
            "    ops:     frozenset({'inference'})\u001b[0m\n",
            "\u001b[37mDEBUG  \u001b[0m | PID=10005/MainProcess @ read_df, stacked_bar_plots.py:4190 2021-02-02 05:01:46,753 \u001b[37mno categories:\n",
            "  from_key\n",
            "    procs:   frozenset({'PPO_CartPole'})\n",
            "    non_ops: frozenset({'Python'})\n",
            "    ops:     frozenset({'step'})\n",
            "  to_key\n",
            "    procs:   frozenset({'PPO_CartPole'})\n",
            "    non_ops: frozenset({'Python'})\n",
            "    ops:     frozenset({'step'})\u001b[0m\n",
            "\u001b[37mDEBUG  \u001b[0m | PID=10005/MainProcess @ read_df, stacked_bar_plots.py:4190 2021-02-02 05:01:46,753 \u001b[37mno categories:\n",
            "  from_key\n",
            "    procs:   frozenset({'PPO_CartPole'})\n",
            "    non_ops: frozenset({'Python'})\n",
            "    ops:     frozenset({'training_loop'})\n",
            "  to_key\n",
            "    procs:   frozenset({'PPO_CartPole'})\n",
            "    non_ops: frozenset({'Python'})\n",
            "    ops:     frozenset({'training_loop'})\u001b[0m\n",
            "\u001b[37mDEBUG  \u001b[0m | PID=10005/MainProcess @ read_df, stacked_bar_plots.py:4190 2021-02-02 05:01:46,753 \u001b[37mno categories:\n",
            "  from_key\n",
            "    procs:   frozenset({'PPO_CartPole'})\n",
            "    non_ops: frozenset({'Python'})\n",
            "    ops:     frozenset({'training_loop'})\n",
            "  to_key\n",
            "    procs:   frozenset({'PPO_CartPole'})\n",
            "    non_ops: frozenset()\n",
            "    ops:     frozenset({'training_loop'})\u001b[0m\n",
            "\u001b[37mDEBUG  \u001b[0m | PID=10005/MainProcess @ read_df, stacked_bar_plots.py:4172 2021-02-02 05:01:46,753 \u001b[37mcategories = frozenset({'Framework API C'})\u001b[0m\n",
            "\u001b[37mDEBUG  \u001b[0m | PID=10005/MainProcess @ read_df, stacked_bar_plots.py:4172 2021-02-02 05:01:46,753 \u001b[37mcategories = frozenset({'Python', 'GPU'})\u001b[0m\n",
            "\u001b[37mDEBUG  \u001b[0m | PID=10005/MainProcess @ read_df, stacked_bar_plots.py:4172 2021-02-02 05:01:46,753 \u001b[37mcategories = frozenset({'Python'})\u001b[0m\n",
            "\u001b[32mINFO   \u001b[0m | PID=10005/MainProcess @ _add_xgroup_bar_labels, stacked_bar_plots.py:2811 2021-02-02 05:01:46,807 \u001b[32mAdd bar-label:\n",
            "\n",
            "  {'height': 59195,\n",
            "   'x': 0.0,\n",
            "   'x_field': '(PPO, CartPole)',\n",
            "   'x_group': 'inference'}\u001b[0m\n",
            "/usr/local/lib/python3.6/dist-packages/rlscope/parser/stacked_bar_plots.py:2828: UserWarning: Setting the 'color' property will override the edgecolor or facecolor properties.\n",
            "  patch = mpatches.Patch(edgecolor='white', color='white')\n",
            "\u001b[32mINFO   \u001b[0m | PID=10005/MainProcess @ plot, stacked_bar_plots.py:2312 2021-02-02 05:01:46,809 \u001b[32mOutput csv @ ./rlscope_tutorial/CategoryTransitionPlot.category_cuda_api_cpu.csv\u001b[0m\n",
            "\u001b[32mINFO   \u001b[0m | PID=10005/MainProcess @ plot, stacked_bar_plots.py:2315 2021-02-02 05:01:46,811 \u001b[32mOutput dataframe @ ./rlscope_tutorial/CategoryTransitionPlot.category_cuda_api_cpu.dataframe.txt\u001b[0m\n",
            "/usr/local/lib/python3.6/dist-packages/pandas/_config/config.py:622: FutureWarning: \n",
            ": boolean\n",
            "    use_inf_as_null had been deprecated and will be removed in a future\n",
            "    version. Use `use_inf_as_na` instead.\n",
            "\n",
            "  warnings.warn(d.msg, FutureWarning)\n",
            "/usr/local/lib/python3.6/dist-packages/pandas/_config/config.py:622: FutureWarning: \n",
            ": boolean\n",
            "    use_inf_as_null had been deprecated and will be removed in a future\n",
            "    version. Use `use_inf_as_na` instead.\n",
            "\n",
            "  warnings.warn(d.msg, FutureWarning)\n",
            "\u001b[32mINFO   \u001b[0m | PID=10005/MainProcess @ plot, stacked_bar_plots.py:2320 2021-02-02 05:01:46,828 \u001b[32mOutput plot @ ./rlscope_tutorial/CategoryTransitionPlot.category_cuda_api_cpu.pdf\u001b[0m\n",
            "PDFCROP 1.38, 2012/11/02 - Copyright (c) 2002-2012 by Heiko Oberdiek.\n",
            "==> 1 page written on `./rlscope_tutorial/CategoryTransitionPlot.category_cuda_api_cpu.pdf'.\n",
            "\u001b[32mINFO   \u001b[0m | PID=10005/MainProcess @ _add_xgroup_bar_labels, stacked_bar_plots.py:2811 2021-02-02 05:01:47,394 \u001b[32mAdd bar-label:\n",
            "\n",
            "  {'height': 30615,\n",
            "   'x': 0.0,\n",
            "   'x_field': '(PPO, CartPole)',\n",
            "   'x_group': 'inference'}\u001b[0m\n",
            "/usr/local/lib/python3.6/dist-packages/rlscope/parser/stacked_bar_plots.py:2828: UserWarning: Setting the 'color' property will override the edgecolor or facecolor properties.\n",
            "  patch = mpatches.Patch(edgecolor='white', color='white')\n",
            "\u001b[32mINFO   \u001b[0m | PID=10005/MainProcess @ plot, stacked_bar_plots.py:2312 2021-02-02 05:01:47,395 \u001b[32mOutput csv @ ./rlscope_tutorial/CategoryTransitionPlot.category_framework_api_c.csv\u001b[0m\n",
            "\u001b[32mINFO   \u001b[0m | PID=10005/MainProcess @ plot, stacked_bar_plots.py:2315 2021-02-02 05:01:47,397 \u001b[32mOutput dataframe @ ./rlscope_tutorial/CategoryTransitionPlot.category_framework_api_c.dataframe.txt\u001b[0m\n",
            "/usr/local/lib/python3.6/dist-packages/pandas/_config/config.py:622: FutureWarning: \n",
            ": boolean\n",
            "    use_inf_as_null had been deprecated and will be removed in a future\n",
            "    version. Use `use_inf_as_na` instead.\n",
            "\n",
            "  warnings.warn(d.msg, FutureWarning)\n",
            "/usr/local/lib/python3.6/dist-packages/pandas/_config/config.py:622: FutureWarning: \n",
            ": boolean\n",
            "    use_inf_as_null had been deprecated and will be removed in a future\n",
            "    version. Use `use_inf_as_na` instead.\n",
            "\n",
            "  warnings.warn(d.msg, FutureWarning)\n",
            "\u001b[32mINFO   \u001b[0m | PID=10005/MainProcess @ plot, stacked_bar_plots.py:2320 2021-02-02 05:01:47,408 \u001b[32mOutput plot @ ./rlscope_tutorial/CategoryTransitionPlot.category_framework_api_c.pdf\u001b[0m\n",
            "PDFCROP 1.38, 2012/11/02 - Copyright (c) 2002-2012 by Heiko Oberdiek.\n",
            "==> 1 page written on `./rlscope_tutorial/CategoryTransitionPlot.category_framework_api_c.pdf'.\n",
            "\u001b[32mINFO   \u001b[0m | PID=10005/MainProcess @ _add_xgroup_bar_labels, stacked_bar_plots.py:2811 2021-02-02 05:01:48,036 \u001b[32mAdd bar-label:\n",
            "\n",
            "  {'height': 89810,\n",
            "   'x': 0.0,\n",
            "   'x_field': '(PPO, CartPole)',\n",
            "   'x_group': 'inference'}\u001b[0m\n",
            "/usr/local/lib/python3.6/dist-packages/rlscope/parser/stacked_bar_plots.py:2828: UserWarning: Setting the 'color' property will override the edgecolor or facecolor properties.\n",
            "  patch = mpatches.Patch(edgecolor='white', color='white')\n",
            "\u001b[32mINFO   \u001b[0m | PID=10005/MainProcess @ plot, stacked_bar_plots.py:2312 2021-02-02 05:01:48,037 \u001b[32mOutput csv @ ./rlscope_tutorial/CategoryTransitionPlot.combined.csv\u001b[0m\n",
            "\u001b[32mINFO   \u001b[0m | PID=10005/MainProcess @ plot, stacked_bar_plots.py:2315 2021-02-02 05:01:48,039 \u001b[32mOutput dataframe @ ./rlscope_tutorial/CategoryTransitionPlot.combined.dataframe.txt\u001b[0m\n",
            "/usr/local/lib/python3.6/dist-packages/pandas/_config/config.py:622: FutureWarning: \n",
            ": boolean\n",
            "    use_inf_as_null had been deprecated and will be removed in a future\n",
            "    version. Use `use_inf_as_na` instead.\n",
            "\n",
            "  warnings.warn(d.msg, FutureWarning)\n",
            "/usr/local/lib/python3.6/dist-packages/pandas/_config/config.py:622: FutureWarning: \n",
            ": boolean\n",
            "    use_inf_as_null had been deprecated and will be removed in a future\n",
            "    version. Use `use_inf_as_na` instead.\n",
            "\n",
            "  warnings.warn(d.msg, FutureWarning)\n",
            "\u001b[32mINFO   \u001b[0m | PID=10005/MainProcess @ plot, stacked_bar_plots.py:2320 2021-02-02 05:01:48,051 \u001b[32mOutput plot @ ./rlscope_tutorial/CategoryTransitionPlot.combined.pdf\u001b[0m\n",
            "PDFCROP 1.38, 2012/11/02 - Copyright (c) 2002-2012 by Heiko Oberdiek.\n",
            "==> 1 page written on `./rlscope_tutorial/CategoryTransitionPlot.combined.pdf'.\n",
            "INFO: [pid 10005] Worker Worker(salt=695079398, workers=1, host=326e28e84e0d, username=root, pid=10005) done      CategoryTransitionPlotTask(debug=False, debug_single_thread=False, hack_upper_right_legend_bbox_x=None, xtick_expression=None, time_breakdown_directories=[\"./rlscope_tutorial/config_time_breakdown_repetition_01.corrected_no\"], rlscope_directories=[\"./rlscope_tutorial/config_time_breakdown_repetition_01\"], category=None, directory=./rlscope_tutorial, remap_df=None, title=None, x_title=None, rotation=15.0, width=None, height=None, include_gpu=False, include_python=False, include_simulator=False)\n",
            "INFO: Informed scheduler that task   CategoryTransitionPlotTask_None_False_False_5c668e07f2   has status   DONE\n",
            "INFO: Worker Worker(salt=695079398, workers=1, host=326e28e84e0d, username=root, pid=10005) was stopped. Shutting down Keep-Alive thread\n",
            "INFO: \n",
            "===== Luigi Execution Summary =====\n",
            "\n",
            "Scheduled 1 tasks of which:\n",
            "* 1 ran successfully:\n",
            "    - 1 CategoryTransitionPlotTask(...)\n",
            "\n",
            "This progress looks :) because there were no failed tasks or missing dependencies\n",
            "\n",
            "===== Luigi Execution Summary =====\n",
            "\n",
            "\n",
            ": boolean\n",
            "    use_inf_as_null had been deprecated and will be removed in a future\n",
            "    version. Use `use_inf_as_na` instead.\n",
            "\n",
            "  algo         algo_env      category          env  operation pretty_algo  repetition                                       rlscope_directory short_category short_env          x_field  trans_count\n",
            "0  PPO  (PPO, CartPole)  CUDA API CPU  CartPole-v1  inference         PPO           1  ./rlscope_tutorial/config_time_breakdown_repetition_01           CUDA  CartPole  (PPO, CartPole)        59195\n",
            "\n",
            ": boolean\n",
            "    use_inf_as_null had been deprecated and will be removed in a future\n",
            "    version. Use `use_inf_as_na` instead.\n",
            "\n",
            "\n",
            ": boolean\n",
            "    use_inf_as_null had been deprecated and will be removed in a future\n",
            "    version. Use `use_inf_as_na` instead.\n",
            "\n",
            "  algo         algo_env         category          env  operation pretty_algo  repetition                                       rlscope_directory short_category short_env          x_field  trans_count\n",
            "1  PPO  (PPO, CartPole)  Framework API C  CartPole-v1  inference         PPO           1  ./rlscope_tutorial/config_time_breakdown_repetition_01        Backend  CartPole  (PPO, CartPole)        30615\n",
            "\n",
            ": boolean\n",
            "    use_inf_as_null had been deprecated and will be removed in a future\n",
            "    version. Use `use_inf_as_na` instead.\n",
            "\n",
            "\n",
            ": boolean\n",
            "    use_inf_as_null had been deprecated and will be removed in a future\n",
            "    version. Use `use_inf_as_na` instead.\n",
            "\n",
            "  algo         algo_env         category          env  operation pretty_algo  repetition                                       rlscope_directory short_category short_env          x_field  trans_count\n",
            "1  PPO  (PPO, CartPole)  Framework API C  CartPole-v1  inference         PPO           1  ./rlscope_tutorial/config_time_breakdown_repetition_01        Backend  CartPole  (PPO, CartPole)        30615\n",
            "0  PPO  (PPO, CartPole)     CUDA API CPU  CartPole-v1  inference         PPO           1  ./rlscope_tutorial/config_time_breakdown_repetition_01           CUDA  CartPole  (PPO, CartPole)        59195\n",
            "\n",
            ": boolean\n",
            "    use_inf_as_null had been deprecated and will be removed in a future\n",
            "    version. Use `use_inf_as_na` instead.\n",
            "\n",
            "\u001b[32mINFO   \u001b[0m | PID=9985/MainProcess @ do_plot, calibration.py:1011 2021-02-02 05:01:48,831 \u001b[32mPlots have been generated @ ./rlscope_tutorial/**/*.pdf\u001b[0m\n"
          ],
          "name": "stdout"
        }
      ]
    },
    {
      "cell_type": "code",
      "metadata": {
        "colab": {
          "base_uri": "https://localhost:8080/"
        },
        "id": "LY-JSYIR211g",
        "outputId": "241435c5-2131-48d0-cde9-f1f45ca6a4e5"
      },
      "source": [
        "# Look at the plot files generated by RL-Scope\n",
        "!ls -l ./rlscope_tutorial/*.png\n",
        "# !tree ./rlscope_tutorial\n",
        "# !ls -l ./rlscope_tutorial/{**/,}*.{pdf,png}\n",
        "# !rm ./rlscope_tutorial/CategoryTransitionPlotTask.logfile.out"
      ],
      "execution_count": 77,
      "outputs": [
        {
          "output_type": "stream",
          "text": [
            "-rw-r--r-- 1 root root 25832 Feb  2 05:01 ./rlscope_tutorial/CategoryTransitionPlot.category_cuda_api_cpu.png\n",
            "-rw-r--r-- 1 root root 36421 Feb  2 05:01 ./rlscope_tutorial/CategoryTransitionPlot.category_framework_api_c.png\n",
            "-rw-r--r-- 1 root root 28132 Feb  2 05:01 ./rlscope_tutorial/CategoryTransitionPlot.combined.png\n",
            "-rw-r--r-- 1 root root 31572 Feb  2 04:04 ./rlscope_tutorial/cupti_scaling_overhead.png\n",
            "-rw-r--r-- 1 root root 24750 Feb  2 04:04 ./rlscope_tutorial/cupti_scaling_overhead.training_loop.png\n",
            "-rw-r--r-- 1 root root 62848 Feb  2 04:38 ./rlscope_tutorial/OverlapStackedBarPlot.overlap_type_CategoryOverlap.operation_training_time.png\n",
            "-rw-r--r-- 1 root root 62848 Feb  2 04:38 ./rlscope_tutorial/OverlapStackedBarPlot.overlap_type_CategoryOverlap.operation_training_time.yerr.png\n",
            "-rw-r--r-- 1 root root 62238 Feb  2 04:38 ./rlscope_tutorial/OverlapStackedBarPlot.overlap_type_CategoryOverlap.percent.png\n",
            "-rw-r--r-- 1 root root 62238 Feb  2 04:38 ./rlscope_tutorial/OverlapStackedBarPlot.overlap_type_CategoryOverlap.percent.yerr.png\n"
          ],
          "name": "stdout"
        }
      ]
    },
    {
      "cell_type": "code",
      "metadata": {
        "scrolled": false,
        "colab": {
          "base_uri": "https://localhost:8080/",
          "height": 767
        },
        "id": "MuJFQQ-P211g",
        "outputId": "3281c6a6-1081-4a84-99c3-f0d0b36c7fa2"
      },
      "source": [
        "from IPython.core.display import display\n",
        "from IPython.display import IFrame\n",
        "from IPython.display import Image\n",
        "\n",
        "from glob import glob\n",
        "\n",
        "def display_pdfs(glob_expr):\n",
        "    \"\"\"\n",
        "    Display all PDFs found in file glob expansion.\n",
        "    e.g. \n",
        "    \"\"\"\n",
        "    paths = glob(glob_expr)\n",
        "    pdfs = []\n",
        "    for path in paths:\n",
        "        # pdfs.append(WImage(path))\n",
        "        pdfs.append(IFrame(path, width=\"100%\", height=\"500\"))\n",
        "    for path, pdf in zip(paths, pdfs):\n",
        "        display(path)\n",
        "        display(pdf)\n",
        "    # return {'paths': paths, 'pdfs': pdfs}\n",
        "\n",
        "# NOTE: using width=\"100%\" doesn't work in collab...instead hardcode width.\n",
        "IMAGE_WIDTH_PIXELS = 600\n",
        "def display_imgs(glob_expr):\n",
        "    \"\"\"\n",
        "    Display all PDFs found in file glob expansion.\n",
        "    e.g. \n",
        "    \"\"\"\n",
        "    paths = glob(glob_expr)\n",
        "    imgs = []\n",
        "    for path in paths:\n",
        "        imgs.append(Image(path, width=IMAGE_WIDTH_PIXELS))\n",
        "    for path, img in zip(paths, imgs):\n",
        "        display(path)\n",
        "        display(img)\n",
        "    # return {'paths': paths, 'imgs': imgs}\n",
        "\n",
        "display_imgs('./rlscope_tutorial/*.operation_training_time.png')\n",
        "display_imgs('./rlscope_tutorial/CategoryTransitionPlot.combined.png')\n",
        "\n",
        "# display_pdfs('./rlscope_tutorial/*.operation_training_time.pdf')\n",
        "# display_pdfs('./rlscope_tutorial/**/*.pdf')"
      ],
      "execution_count": 78,
      "outputs": [
        {
          "output_type": "display_data",
          "data": {
            "application/vnd.google.colaboratory.intrinsic+json": {
              "type": "string"
            },
            "text/plain": [
              "'./rlscope_tutorial/OverlapStackedBarPlot.overlap_type_CategoryOverlap.operation_training_time.png'"
            ]
          },
          "metadata": {
            "tags": []
          }
        },
        {
          "output_type": "display_data",
          "data": {
            "image/png": "[encoded data removed]",
            "text/plain": [
              "<IPython.core.display.Image object>"
            ]
          },
          "metadata": {
            "tags": [],
            "image/png": {
              "width": 600
            }
          }
        },
        {
          "output_type": "display_data",
          "data": {
            "application/vnd.google.colaboratory.intrinsic+json": {
              "type": "string"
            },
            "text/plain": [
              "'./rlscope_tutorial/CategoryTransitionPlot.combined.png'"
            ]
          },
          "metadata": {
            "tags": []
          }
        },
        {
          "output_type": "display_data",
          "data": {
            "image/png": "[encoded data removed]",
            "text/plain": [
              "<IPython.core.display.Image object>"
            ]
          },
          "metadata": {
            "tags": [],
            "image/png": {
              "width": 600
            }
          }
        }
      ]
    },
    {
      "cell_type": "markdown",
      "metadata": {
        "id": "xVm9QPNVwKXN"
      },
      "source": [
        "### Prepare video recording"
      ]
    },
    {
      "cell_type": "code",
      "metadata": {
        "id": "MPyfQxD5z26J"
      },
      "source": [
        "# Set up fake display; otherwise rendering will fail\n",
        "import os\n",
        "os.system(\"Xvfb :1 -screen 0 1024x768x24 &\")\n",
        "os.environ['DISPLAY'] = ':1'"
      ],
      "execution_count": null,
      "outputs": []
    },
    {
      "cell_type": "code",
      "metadata": {
        "id": "SLzXxO8VMD6N"
      },
      "source": [
        "import base64\n",
        "from pathlib import Path\n",
        "\n",
        "from IPython import display as ipythondisplay\n",
        "\n",
        "def show_videos(video_path='', prefix=''):\n",
        "  \"\"\"\n",
        "  Taken from https://github.com/eleurent/highway-env\n",
        "\n",
        "  :param video_path: (str) Path to the folder containing videos\n",
        "  :param prefix: (str) Filter the video, showing only the only starting with this prefix\n",
        "  \"\"\"\n",
        "  html = []\n",
        "  for mp4 in Path(video_path).glob(\"{}*.mp4\".format(prefix)):\n",
        "      video_b64 = base64.b64encode(mp4.read_bytes())\n",
        "      html.append('''<video alt=\"{}\" autoplay \n",
        "                    loop controls style=\"height: 400px;\">\n",
        "                    <source src=\"data:video/mp4;base64,{}\" type=\"video/mp4\" />\n",
        "                </video>'''.format(mp4, video_b64.decode('ascii')))\n",
        "  ipythondisplay.display(ipythondisplay.HTML(data=\"<br>\".join(html)))"
      ],
      "execution_count": null,
      "outputs": []
    },
    {
      "cell_type": "markdown",
      "metadata": {
        "id": "LTRNUfulOGaF"
      },
      "source": [
        "We will record a video using the [VecVideoRecorder](https://stable-baselines3.readthedocs.io/en/master/guide/vec_envs.html#vecvideorecorder) wrapper, you will learn about those wrapper in the next notebook."
      ]
    },
    {
      "cell_type": "code",
      "metadata": {
        "id": "Trag9dQpOIhx"
      },
      "source": [
        "from stable_baselines3.common.vec_env import VecVideoRecorder, DummyVecEnv\n",
        "\n",
        "def record_video(env_id, model, video_length=500, prefix='', video_folder='videos/'):\n",
        "  \"\"\"\n",
        "  :param env_id: (str)\n",
        "  :param model: (RL model)\n",
        "  :param video_length: (int)\n",
        "  :param prefix: (str)\n",
        "  :param video_folder: (str)\n",
        "  \"\"\"\n",
        "  eval_env = DummyVecEnv([lambda: gym.make(env_id)])\n",
        "  # Start the video at step=0 and record 500 steps\n",
        "  eval_env = VecVideoRecorder(eval_env, video_folder=video_folder,\n",
        "                              record_video_trigger=lambda step: step == 0, video_length=video_length,\n",
        "                              name_prefix=prefix)\n",
        "\n",
        "  obs = eval_env.reset()\n",
        "  for _ in range(video_length):\n",
        "    action, _ = model.predict(obs)\n",
        "    obs, _, _, _ = eval_env.step(action)\n",
        "\n",
        "  # Close the video recorder\n",
        "  eval_env.close()"
      ],
      "execution_count": null,
      "outputs": []
    },
    {
      "cell_type": "markdown",
      "metadata": {
        "id": "KOObbeu5MMlR"
      },
      "source": [
        "### Visualize trained agent\n",
        "\n"
      ]
    },
    {
      "cell_type": "code",
      "metadata": {
        "id": "iATu7AiyMQW2"
      },
      "source": [
        "record_video('CartPole-v1', model, video_length=500, prefix='ppo2-cartpole')"
      ],
      "execution_count": null,
      "outputs": []
    },
    {
      "cell_type": "code",
      "metadata": {
        "colab": {
          "base_uri": "https://localhost:8080/",
          "height": 421
        },
        "id": "-n4i-fW3NojZ",
        "outputId": "97ab2fd5-e71b-417b-af29-0d04a9d96c4a"
      },
      "source": [
        "show_videos('videos', prefix='ppo2')"
      ],
      "execution_count": null,
      "outputs": [
        {
          "output_type": "display_data",
          "data": {
            "text/html": [
              "<video alt=\"videos/ppo2-cartpole-step-0-to-step-500.mp4\" autoplay \n",
              "                    loop controls style=\"height: 400px;\">\n",
              "                    <source src=\"data:video/mp4;base64,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\" type=\"video/mp4\" />\n",
              "                </video>"
            ],
            "text/plain": [
              "<IPython.core.display.HTML object>"
            ]
          },
          "metadata": {
            "tags": []
          }
        }
      ]
    },
    {
      "cell_type": "markdown",
      "metadata": {
        "id": "9Y8zg4V566qD"
      },
      "source": [
        "## Bonus: Train a RL Model in One Line\n",
        "\n",
        "The policy class to use will be inferred and the environment will be automatically created. This works because both are [registered](https://stable-baselines3.readthedocs.io/en/master/guide/quickstart.html)."
      ]
    },
    {
      "cell_type": "code",
      "metadata": {
        "id": "iaOPfOrwWEP4"
      },
      "source": [
        "model = PPO('MlpPolicy', \"CartPole-v1\", verbose=1).learn(1000)"
      ],
      "execution_count": null,
      "outputs": []
    },
    {
      "cell_type": "markdown",
      "metadata": {
        "id": "FrI6f5fWnzp-"
      },
      "source": [
        "## Conclusion\n",
        "\n",
        "In this notebook we have seen:\n",
        "- how to define and train a RL model using stable baselines3, it takes only one line of code ;)"
      ]
    },
    {
      "cell_type": "code",
      "metadata": {
        "id": "73ji3gbNDkf7"
      },
      "source": [
        ""
      ],
      "execution_count": null,
      "outputs": []
    }
  ]
}