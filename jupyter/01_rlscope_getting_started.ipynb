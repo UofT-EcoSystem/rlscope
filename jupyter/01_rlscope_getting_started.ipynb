{
  "nbformat": 4,
  "nbformat_minor": 0,
  "metadata": {
    "accelerator": "GPU",
    "colab": {
      "name": "01_rlscope_getting_started.ipynb",
      "provenance": [],
      "collapsed_sections": []
    },
    "kernelspec": {
      "display_name": "Python 3",
      "language": "python",
      "name": "python3"
    },
    "language_info": {
      "codemirror_mode": {
        "name": "ipython",
        "version": 3
      },
      "file_extension": ".py",
      "mimetype": "text/x-python",
      "name": "python",
      "nbconvert_exporter": "python",
      "pygments_lexer": "ipython3",
      "version": "3.6.9"
    }
  },
  "cells": [
    {
      "cell_type": "markdown",
      "metadata": {
        "id": "hyyN-2qyK_T2"
      },
      "source": [
        "# RL-Scope - Getting Started\n",
        "\n",
        "This tutorial will show you the basics of using RL-Scope to collect traces from your training script and visualize their results.  We will demonstrate this by applying RL-Scope to the \"evaluation loop\" of an RL model in the PyTorch based `stable-baselines3` framework.\n",
        "\n",
        "This tutorial is based off a tutorial for using `stable-baselines3` (from [here](https://github.com/araffin/rl-tutorial-jnrr19/blob/sb3/1_getting_started.ipynb)). So, we will begin by showing how to use `stable-baselines3`, then show how to annotate and profile our code with RL-Scope.\n",
        "\n",
        "### Concepts\n",
        "\n",
        "In this notebook, we will cover:\n",
        "- How to install RL-Scope\n",
        "- Basic RL-Scope API usage\n",
        "- How to collect traces and generate plots using RL-Scope\n",
        "- How to use the PyTorch based `stable-baselines3` RL framework to train a model\n",
        "- How to write an evaluation inference loop in `stable-baselines3`\n"
      ]
    },
    {
      "cell_type": "markdown",
      "metadata": {
        "id": "rcri-PzG1bi-"
      },
      "source": [
        "# 1. Using `stable-baselines3` to train and evaluate a model\n",
        "\n",
        "We will begin by learning the basics for using stable baselines library: how to create a RL model, train it and evaluate it. Because all algorithms share the same interface, we will see how simple it is to switch from one algorithm to another.\n",
        "\n",
        "<!-- ## Install Dependencies and Stable Baselines3 Using Pip\n",
        "\n",
        "List of full dependencies can be found in the [README](https://github.com/DLR-RM/stable-baselines3).\n",
        "\n",
        "\n",
        "```\n",
        "pip install stable-baselines3[extra]\n",
        "``` -->"
      ]
    },
    {
      "cell_type": "markdown",
      "metadata": {
        "id": "NoUnVxrS7GIm"
      },
      "source": [
        "## Install `stable-baselines3` and PyTorch"
      ]
    },
    {
      "cell_type": "markdown",
      "metadata": {
        "id": "JkAf3O61AmtM"
      },
      "source": [
        "First, install `stable-baselines3` apt dependencies:"
      ]
    },
    {
      "cell_type": "code",
      "metadata": {
        "colab": {
          "base_uri": "https://localhost:8080/"
        },
        "id": "CtJ3ewjf211W",
        "outputId": "801b9a7c-1041-41ac-e856-3097c0b66ae3"
      },
      "source": [
        "# stable-baselines3 dependencies for visualizing video of trained agents.\n",
        "!sudo apt-get install -y ffmpeg freeglut3-dev xvfb  "
      ],
      "execution_count": 1,
      "outputs": [
        {
          "output_type": "stream",
          "text": [
            "Reading package lists... Done\n",
            "Building dependency tree       \n",
            "Reading state information... Done\n",
            "freeglut3-dev is already the newest version (2.8.1-3).\n",
            "freeglut3-dev set to manually installed.\n",
            "ffmpeg is already the newest version (7:3.4.8-0ubuntu0.2).\n",
            "The following NEW packages will be installed:\n",
            "  xvfb\n",
            "0 upgraded, 1 newly installed, 0 to remove and 15 not upgraded.\n",
            "Need to get 784 kB of archives.\n",
            "After this operation, 2,270 kB of additional disk space will be used.\n",
            "Get:1 http://archive.ubuntu.com/ubuntu bionic-updates/universe amd64 xvfb amd64 2:1.19.6-1ubuntu4.8 [784 kB]\n",
            "Fetched 784 kB in 1s (719 kB/s)\n",
            "debconf: unable to initialize frontend: Dialog\n",
            "debconf: (No usable dialog-like program is installed, so the dialog based frontend cannot be used. at /usr/share/perl5/Debconf/FrontEnd/Dialog.pm line 76, <> line 1.)\n",
            "debconf: falling back to frontend: Readline\n",
            "debconf: unable to initialize frontend: Readline\n",
            "debconf: (This frontend requires a controlling tty.)\n",
            "debconf: falling back to frontend: Teletype\n",
            "dpkg-preconfigure: unable to re-open stdin: \n",
            "Selecting previously unselected package xvfb.\n",
            "(Reading database ... 146456 files and directories currently installed.)\n",
            "Preparing to unpack .../xvfb_2%3a1.19.6-1ubuntu4.8_amd64.deb ...\n",
            "Unpacking xvfb (2:1.19.6-1ubuntu4.8) ...\n",
            "Setting up xvfb (2:1.19.6-1ubuntu4.8) ...\n",
            "Processing triggers for man-db (2.8.3-2ubuntu0.1) ...\n"
          ],
          "name": "stdout"
        }
      ]
    },
    {
      "cell_type": "markdown",
      "metadata": {
        "id": "SZ5u_X3YAiPS"
      },
      "source": [
        "Next, install `stable-baselines3` `pip` package:"
      ]
    },
    {
      "cell_type": "code",
      "metadata": {
        "colab": {
          "base_uri": "https://localhost:8080/"
        },
        "id": "gWskDE2c9WoN",
        "outputId": "9678c128-1e24-4be1-ea9d-91089d5457b5"
      },
      "source": [
        "# Install stable-baselines3 RL framework.\n",
        "!pip install stable-baselines3[extra]==v0.10.0"
      ],
      "execution_count": 2,
      "outputs": [
        {
          "output_type": "stream",
          "text": [
            "Collecting stable-baselines3[extra]==v0.10.0\n",
            "\u001b[?25l  Downloading https://files.pythonhosted.org/packages/76/7c/ec89fd9a51c2ff640f150479069be817136c02f02349b5dd27a6e3bb8b3d/stable_baselines3-0.10.0-py3-none-any.whl (145kB)\n",
            "\r\u001b[K     |██▎                             | 10kB 19.6MB/s eta 0:00:01\r\u001b[K     |████▌                           | 20kB 25.0MB/s eta 0:00:01\r\u001b[K     |██████▊                         | 30kB 14.0MB/s eta 0:00:01\r\u001b[K     |█████████                       | 40kB 10.6MB/s eta 0:00:01\r\u001b[K     |███████████▎                    | 51kB 8.8MB/s eta 0:00:01\r\u001b[K     |█████████████▌                  | 61kB 8.6MB/s eta 0:00:01\r\u001b[K     |███████████████▊                | 71kB 8.8MB/s eta 0:00:01\r\u001b[K     |██████████████████              | 81kB 9.8MB/s eta 0:00:01\r\u001b[K     |████████████████████▏           | 92kB 8.8MB/s eta 0:00:01\r\u001b[K     |██████████████████████▌         | 102kB 9.2MB/s eta 0:00:01\r\u001b[K     |████████████████████████▊       | 112kB 9.2MB/s eta 0:00:01\r\u001b[K     |███████████████████████████     | 122kB 9.2MB/s eta 0:00:01\r\u001b[K     |█████████████████████████████▏  | 133kB 9.2MB/s eta 0:00:01\r\u001b[K     |███████████████████████████████▍| 143kB 9.2MB/s eta 0:00:01\r\u001b[K     |████████████████████████████████| 153kB 9.2MB/s \n",
            "\u001b[?25hRequirement already satisfied: pandas in /usr/local/lib/python3.6/dist-packages (from stable-baselines3[extra]==v0.10.0) (1.1.5)\n",
            "Requirement already satisfied: gym>=0.17 in /usr/local/lib/python3.6/dist-packages (from stable-baselines3[extra]==v0.10.0) (0.17.3)\n",
            "Requirement already satisfied: matplotlib in /usr/local/lib/python3.6/dist-packages (from stable-baselines3[extra]==v0.10.0) (3.2.2)\n",
            "Requirement already satisfied: cloudpickle in /usr/local/lib/python3.6/dist-packages (from stable-baselines3[extra]==v0.10.0) (1.3.0)\n",
            "Requirement already satisfied: torch>=1.4.0 in /usr/local/lib/python3.6/dist-packages (from stable-baselines3[extra]==v0.10.0) (1.7.0+cu101)\n",
            "Requirement already satisfied: numpy in /usr/local/lib/python3.6/dist-packages (from stable-baselines3[extra]==v0.10.0) (1.19.5)\n",
            "Requirement already satisfied: pillow; extra == \"extra\" in /usr/local/lib/python3.6/dist-packages (from stable-baselines3[extra]==v0.10.0) (7.0.0)\n",
            "Requirement already satisfied: atari-py~=0.2.0; extra == \"extra\" in /usr/local/lib/python3.6/dist-packages (from stable-baselines3[extra]==v0.10.0) (0.2.6)\n",
            "Requirement already satisfied: tensorboard; extra == \"extra\" in /usr/local/lib/python3.6/dist-packages (from stable-baselines3[extra]==v0.10.0) (2.4.1)\n",
            "Requirement already satisfied: opencv-python; extra == \"extra\" in /usr/local/lib/python3.6/dist-packages (from stable-baselines3[extra]==v0.10.0) (4.1.2.30)\n",
            "Requirement already satisfied: psutil; extra == \"extra\" in /usr/local/lib/python3.6/dist-packages (from stable-baselines3[extra]==v0.10.0) (5.4.8)\n",
            "Requirement already satisfied: pytz>=2017.2 in /usr/local/lib/python3.6/dist-packages (from pandas->stable-baselines3[extra]==v0.10.0) (2018.9)\n",
            "Requirement already satisfied: python-dateutil>=2.7.3 in /usr/local/lib/python3.6/dist-packages (from pandas->stable-baselines3[extra]==v0.10.0) (2.8.1)\n",
            "Requirement already satisfied: pyglet<=1.5.0,>=1.4.0 in /usr/local/lib/python3.6/dist-packages (from gym>=0.17->stable-baselines3[extra]==v0.10.0) (1.5.0)\n",
            "Requirement already satisfied: scipy in /usr/local/lib/python3.6/dist-packages (from gym>=0.17->stable-baselines3[extra]==v0.10.0) (1.4.1)\n",
            "Requirement already satisfied: kiwisolver>=1.0.1 in /usr/local/lib/python3.6/dist-packages (from matplotlib->stable-baselines3[extra]==v0.10.0) (1.3.1)\n",
            "Requirement already satisfied: pyparsing!=2.0.4,!=2.1.2,!=2.1.6,>=2.0.1 in /usr/local/lib/python3.6/dist-packages (from matplotlib->stable-baselines3[extra]==v0.10.0) (2.4.7)\n",
            "Requirement already satisfied: cycler>=0.10 in /usr/local/lib/python3.6/dist-packages (from matplotlib->stable-baselines3[extra]==v0.10.0) (0.10.0)\n",
            "Requirement already satisfied: typing-extensions in /usr/local/lib/python3.6/dist-packages (from torch>=1.4.0->stable-baselines3[extra]==v0.10.0) (3.7.4.3)\n",
            "Requirement already satisfied: future in /usr/local/lib/python3.6/dist-packages (from torch>=1.4.0->stable-baselines3[extra]==v0.10.0) (0.16.0)\n",
            "Requirement already satisfied: dataclasses in /usr/local/lib/python3.6/dist-packages (from torch>=1.4.0->stable-baselines3[extra]==v0.10.0) (0.8)\n",
            "Requirement already satisfied: six in /usr/local/lib/python3.6/dist-packages (from atari-py~=0.2.0; extra == \"extra\"->stable-baselines3[extra]==v0.10.0) (1.15.0)\n",
            "Requirement already satisfied: werkzeug>=0.11.15 in /usr/local/lib/python3.6/dist-packages (from tensorboard; extra == \"extra\"->stable-baselines3[extra]==v0.10.0) (1.0.1)\n",
            "Requirement already satisfied: google-auth-oauthlib<0.5,>=0.4.1 in /usr/local/lib/python3.6/dist-packages (from tensorboard; extra == \"extra\"->stable-baselines3[extra]==v0.10.0) (0.4.2)\n",
            "Requirement already satisfied: tensorboard-plugin-wit>=1.6.0 in /usr/local/lib/python3.6/dist-packages (from tensorboard; extra == \"extra\"->stable-baselines3[extra]==v0.10.0) (1.8.0)\n",
            "Requirement already satisfied: grpcio>=1.24.3 in /usr/local/lib/python3.6/dist-packages (from tensorboard; extra == \"extra\"->stable-baselines3[extra]==v0.10.0) (1.32.0)\n",
            "Requirement already satisfied: absl-py>=0.4 in /usr/local/lib/python3.6/dist-packages (from tensorboard; extra == \"extra\"->stable-baselines3[extra]==v0.10.0) (0.10.0)\n",
            "Requirement already satisfied: wheel>=0.26; python_version >= \"3\" in /usr/local/lib/python3.6/dist-packages (from tensorboard; extra == \"extra\"->stable-baselines3[extra]==v0.10.0) (0.36.2)\n",
            "Requirement already satisfied: requests<3,>=2.21.0 in /usr/local/lib/python3.6/dist-packages (from tensorboard; extra == \"extra\"->stable-baselines3[extra]==v0.10.0) (2.23.0)\n",
            "Requirement already satisfied: google-auth<2,>=1.6.3 in /usr/local/lib/python3.6/dist-packages (from tensorboard; extra == \"extra\"->stable-baselines3[extra]==v0.10.0) (1.24.0)\n",
            "Requirement already satisfied: protobuf>=3.6.0 in /usr/local/lib/python3.6/dist-packages (from tensorboard; extra == \"extra\"->stable-baselines3[extra]==v0.10.0) (3.12.4)\n",
            "Requirement already satisfied: setuptools>=41.0.0 in /usr/local/lib/python3.6/dist-packages (from tensorboard; extra == \"extra\"->stable-baselines3[extra]==v0.10.0) (53.0.0)\n",
            "Requirement already satisfied: markdown>=2.6.8 in /usr/local/lib/python3.6/dist-packages (from tensorboard; extra == \"extra\"->stable-baselines3[extra]==v0.10.0) (3.3.3)\n",
            "Requirement already satisfied: requests-oauthlib>=0.7.0 in /usr/local/lib/python3.6/dist-packages (from google-auth-oauthlib<0.5,>=0.4.1->tensorboard; extra == \"extra\"->stable-baselines3[extra]==v0.10.0) (1.3.0)\n",
            "Requirement already satisfied: certifi>=2017.4.17 in /usr/local/lib/python3.6/dist-packages (from requests<3,>=2.21.0->tensorboard; extra == \"extra\"->stable-baselines3[extra]==v0.10.0) (2020.12.5)\n",
            "Requirement already satisfied: idna<3,>=2.5 in /usr/local/lib/python3.6/dist-packages (from requests<3,>=2.21.0->tensorboard; extra == \"extra\"->stable-baselines3[extra]==v0.10.0) (2.10)\n",
            "Requirement already satisfied: urllib3!=1.25.0,!=1.25.1,<1.26,>=1.21.1 in /usr/local/lib/python3.6/dist-packages (from requests<3,>=2.21.0->tensorboard; extra == \"extra\"->stable-baselines3[extra]==v0.10.0) (1.24.3)\n",
            "Requirement already satisfied: chardet<4,>=3.0.2 in /usr/local/lib/python3.6/dist-packages (from requests<3,>=2.21.0->tensorboard; extra == \"extra\"->stable-baselines3[extra]==v0.10.0) (3.0.4)\n",
            "Requirement already satisfied: cachetools<5.0,>=2.0.0 in /usr/local/lib/python3.6/dist-packages (from google-auth<2,>=1.6.3->tensorboard; extra == \"extra\"->stable-baselines3[extra]==v0.10.0) (4.2.1)\n",
            "Requirement already satisfied: pyasn1-modules>=0.2.1 in /usr/local/lib/python3.6/dist-packages (from google-auth<2,>=1.6.3->tensorboard; extra == \"extra\"->stable-baselines3[extra]==v0.10.0) (0.2.8)\n",
            "Requirement already satisfied: rsa<5,>=3.1.4; python_version >= \"3.6\" in /usr/local/lib/python3.6/dist-packages (from google-auth<2,>=1.6.3->tensorboard; extra == \"extra\"->stable-baselines3[extra]==v0.10.0) (4.7)\n",
            "Requirement already satisfied: importlib-metadata; python_version < \"3.8\" in /usr/local/lib/python3.6/dist-packages (from markdown>=2.6.8->tensorboard; extra == \"extra\"->stable-baselines3[extra]==v0.10.0) (3.4.0)\n",
            "Requirement already satisfied: oauthlib>=3.0.0 in /usr/local/lib/python3.6/dist-packages (from requests-oauthlib>=0.7.0->google-auth-oauthlib<0.5,>=0.4.1->tensorboard; extra == \"extra\"->stable-baselines3[extra]==v0.10.0) (3.1.0)\n",
            "Requirement already satisfied: pyasn1<0.5.0,>=0.4.6 in /usr/local/lib/python3.6/dist-packages (from pyasn1-modules>=0.2.1->google-auth<2,>=1.6.3->tensorboard; extra == \"extra\"->stable-baselines3[extra]==v0.10.0) (0.4.8)\n",
            "Requirement already satisfied: zipp>=0.5 in /usr/local/lib/python3.6/dist-packages (from importlib-metadata; python_version < \"3.8\"->markdown>=2.6.8->tensorboard; extra == \"extra\"->stable-baselines3[extra]==v0.10.0) (3.4.0)\n",
            "Installing collected packages: stable-baselines3\n",
            "Successfully installed stable-baselines3-0.10.0\n"
          ],
          "name": "stdout"
        }
      ]
    },
    {
      "cell_type": "markdown",
      "metadata": {
        "id": "_HFjowCP8tvX"
      },
      "source": [
        "Next, we will figure out which version of CUDA is installed in our host environment.  We'll assume its the one at `/usr/local/cuda`:\n",
        "> **ASIDE:** depending on your host configuration, you could may have multiple CUDA version installed. The important thing is that the CUDA version of PyTorch and RL-Scope match."
      ]
    },
    {
      "cell_type": "code",
      "metadata": {
        "colab": {
          "base_uri": "https://localhost:8080/"
        },
        "id": "SvjXPUvBgSXs",
        "outputId": "f22e7d51-2aa3-4ea3-c087-0014e2726e7e"
      },
      "source": [
        "# Determine CUDA version at /usr/local/cuda\n",
        "!ls -ld /usr/local/cuda*\n",
        "import os\n",
        "import re\n",
        "m = re.search(r'^cuda-(?P<cuda_version>.*)', os.path.basename(os.path.realpath('/usr/local/cuda')))\n",
        "cuda_version = m.group('cuda_version')\n",
        "cu_version = re.sub('\\.', '', cuda_version)\n",
        "cu_suffix = \"+cu{ver}\".format(ver=cu_version)\n",
        "# For historical record, this collab instance running Ubuntu 18.04,\n",
        "# but it should work on newer Ubuntu versions (e.g., 20.04).\n",
        "!echo && lsb_release -a\n",
        "print()\n",
        "print(\"> Host CUDA version: {cuda_version}\".format(cuda_version=cuda_version))"
      ],
      "execution_count": 2,
      "outputs": [
        {
          "output_type": "stream",
          "text": [
            "lrwxrwxrwx  1 root root    9 Feb  1 17:23 /usr/local/cuda -> cuda-10.1\n",
            "drwxr-xr-x 16 root root 4096 Feb  1 17:19 /usr/local/cuda-10.0\n",
            "drwxr-xr-x  1 root root 4096 Feb  1 17:21 /usr/local/cuda-10.1\n",
            "\n",
            "No LSB modules are available.\n",
            "Distributor ID:\tUbuntu\n",
            "Description:\tUbuntu 18.04.5 LTS\n",
            "Release:\t18.04\n",
            "Codename:\tbionic\n",
            "\n",
            "> Host CUDA version: 10.1\n"
          ],
          "name": "stdout"
        }
      ]
    },
    {
      "cell_type": "markdown",
      "metadata": {
        "id": "2xGUGu038lYq"
      },
      "source": [
        "Next, we will install the PyTorch package whose CUDA version matches the CUDA version of our host environment."
      ]
    },
    {
      "cell_type": "code",
      "metadata": {
        "colab": {
          "base_uri": "https://localhost:8080/"
        },
        "id": "B7wIi8A4211Y",
        "outputId": "dcbb40db-85f3-4812-d228-28fdde1d93d9"
      },
      "source": [
        "# 1. Get version of torch installed with stable-baselines3\n",
        "# 2. Re-install torch with CUDA version that matches /usr/local/cuda\n",
        "\n",
        "torch_version = !python -c 'import torch; import re; torch_version = re.sub(r\"\\+cu.*$\", \"\", torch.__version__); print(torch_version);'\n",
        "torch_version = torch_version[0]\n",
        "!pip uninstall -y torch || true\n",
        "\n",
        "pip_torch_version = \"torch=={ver}{cu}\".format(\n",
        "    ver=torch_version, \n",
        "    cu=cu_suffix)\n",
        "!pip install $pip_torch_version -f https://download.pytorch.org/whl/torch_stable.html\n",
        "\n",
        "torch_version = !python -c 'import torch; import re; torch_version = re.sub(r\"\\+cu.*$\", \"\", torch.__version__); print(torch_version);'\n",
        "torch_version = torch_version[0]\n",
        "\n",
        "torch_cuda_version = !python -c 'import torch; print(torch.version.cuda);'\n",
        "torch_cuda_version = torch_cuda_version[0]\n",
        "torch_cuda_version\n",
        "\n",
        "print()\n",
        "print(\"> PyTorch version     : {torch_version}\".format(torch_version=torch_version))\n",
        "print(\"  PyTorch CUDA version: {torch_cuda_version}\".format(torch_cuda_version=torch_cuda_version))"
      ],
      "execution_count": 4,
      "outputs": [
        {
          "output_type": "stream",
          "text": [
            "Uninstalling torch-1.7.0+cu101:\n",
            "  Successfully uninstalled torch-1.7.0+cu101\n",
            "Looking in links: https://download.pytorch.org/whl/torch_stable.html\n",
            "Collecting torch==1.7.0+cu101\n",
            "\u001b[?25l  Downloading https://download.pytorch.org/whl/cu101/torch-1.7.0%2Bcu101-cp36-cp36m-linux_x86_64.whl (735.3MB)\n",
            "\u001b[K     |████████████████████████████████| 735.3MB 24kB/s \n",
            "\u001b[?25hRequirement already satisfied: typing-extensions in /usr/local/lib/python3.6/dist-packages (from torch==1.7.0+cu101) (3.7.4.3)\n",
            "Requirement already satisfied: dataclasses in /usr/local/lib/python3.6/dist-packages (from torch==1.7.0+cu101) (0.8)\n",
            "Requirement already satisfied: future in /usr/local/lib/python3.6/dist-packages (from torch==1.7.0+cu101) (0.16.0)\n",
            "Requirement already satisfied: numpy in /usr/local/lib/python3.6/dist-packages (from torch==1.7.0+cu101) (1.19.5)\n",
            "Installing collected packages: torch\n",
            "Successfully installed torch-1.7.0+cu101\n",
            "\n",
            "> PyTorch version     : 1.7.0\n",
            "  PyTorch CUDA version: 10.1\n"
          ],
          "name": "stdout"
        }
      ]
    },
    {
      "cell_type": "markdown",
      "metadata": {
        "id": "FtY8FhliLsGm"
      },
      "source": [
        "## Imports"
      ]
    },
    {
      "cell_type": "markdown",
      "metadata": {
        "id": "gcX8hEcaUpR0"
      },
      "source": [
        "Stable-Baselines3 works on environments that follow the [gym interface](https://stable-baselines3.readthedocs.io/en/master/guide/custom_env.html).\n",
        "You can find a list of available environment [here](https://gym.openai.com/envs/#classic_control).\n",
        "\n",
        "It is also recommended to check the [source code](https://github.com/openai/gym) to learn more about the observation and action space of each env, as gym does not have a proper documentation.\n",
        "Not all algorithms can work with all action spaces, you can find more in this [recap table](https://stable-baselines3.readthedocs.io/en/master/guide/algos.html)"
      ]
    },
    {
      "cell_type": "code",
      "metadata": {
        "id": "BIedd7Pz9sOs"
      },
      "source": [
        "import gym\n",
        "import numpy as np"
      ],
      "execution_count": 5,
      "outputs": []
    },
    {
      "cell_type": "markdown",
      "metadata": {
        "id": "Ae32CtgzTG3R"
      },
      "source": [
        "The first thing you need to import is the RL model, check the documentation to know what you can use on which problem"
      ]
    },
    {
      "cell_type": "code",
      "metadata": {
        "id": "R7tKaBFrTR0a"
      },
      "source": [
        "from stable_baselines3 import PPO"
      ],
      "execution_count": 6,
      "outputs": []
    },
    {
      "cell_type": "markdown",
      "metadata": {
        "id": "-0_8OQbOTTNT"
      },
      "source": [
        "The next thing you need to import is the policy class that will be used to create the networks (for the policy/value functions).\n",
        "This step is optional as you can directly use strings in the constructor: \n",
        "\n",
        "```PPO('MlpPolicy', env)``` instead of ```PPO(MlpPolicy, env)```\n",
        "\n",
        "Note that some algorithms like `SAC` have their own `MlpPolicy`, that's why using string for the policy is the recommened option."
      ]
    },
    {
      "cell_type": "code",
      "metadata": {
        "id": "ROUJr675TT01"
      },
      "source": [
        "from stable_baselines3.ppo.policies import MlpPolicy"
      ],
      "execution_count": 7,
      "outputs": []
    },
    {
      "cell_type": "markdown",
      "metadata": {
        "id": "RapkYvTXL7Cd"
      },
      "source": [
        "## Create the Gym env and instantiate the agent\n",
        "\n",
        "For this example, we will use CartPole environment, a classic control problem.\n",
        "\n",
        "\"A pole is attached by an un-actuated joint to a cart, which moves along a frictionless track. The system is controlled by applying a force of +1 or -1 to the cart. The pendulum starts upright, and the goal is to prevent it from falling over. A reward of +1 is provided for every timestep that the pole remains upright. \"\n",
        "\n",
        "Cartpole environment: [https://gym.openai.com/envs/CartPole-v1/](https://gym.openai.com/envs/CartPole-v1/)\n",
        "\n",
        "![Cartpole](https://cdn-images-1.medium.com/max/1143/1*h4WTQNVIsvMXJTCpXm_TAw.gif)\n",
        "\n",
        "\n",
        "We chose the MlpPolicy because the observation of the CartPole task is a feature vector, not images.\n",
        "\n",
        "The type of action to use (discrete/continuous) will be automatically deduced from the environment action space\n",
        "\n",
        "Here we are using the [Proximal Policy Optimization](https://stable-baselines3.readthedocs.io/en/master/modules/ppo2.html) algorithm, which is an Actor-Critic method: it uses a value function to improve the policy gradient descent (by reducing the variance).\n",
        "\n",
        "It combines ideas from [A2C](https://stable-baselines3.readthedocs.io/en/master/modules/a2c.html) (having multiple workers and using an entropy bonus for exploration) and [TRPO](https://stable-baselines.readthedocs.io/en/master/modules/trpo.html) (it uses a trust region to improve stability and avoid catastrophic drops in performance).\n",
        "\n",
        "PPO is an on-policy algorithm, which means that the trajectories used to update the networks must be collected using the latest policy.\n",
        "It is usually less sample efficient than off-policy alorithms like [DQN](https://stable-baselines.readthedocs.io/en/master/modules/dqn.html), [SAC](https://stable-baselines3.readthedocs.io/en/master/modules/sac.html) or [TD3](https://stable-baselines3.readthedocs.io/en/master/modules/td3.html), but is much faster regarding wall-clock time.\n"
      ]
    },
    {
      "cell_type": "code",
      "metadata": {
        "id": "pUWGZp3i9wyf"
      },
      "source": [
        "env = gym.make('CartPole-v1')\n",
        "\n",
        "model = PPO(MlpPolicy, env, verbose=0)"
      ],
      "execution_count": 8,
      "outputs": []
    },
    {
      "cell_type": "markdown",
      "metadata": {
        "id": "4efFdrQ7MBvl"
      },
      "source": [
        "We create a helper function to evaluate the agent:"
      ]
    },
    {
      "cell_type": "code",
      "metadata": {
        "id": "63M8mSKR-6Zt"
      },
      "source": [
        "def evaluate(model, num_episodes=100):\n",
        "    \"\"\"\n",
        "    Evaluate a RL agent\n",
        "    :param model: (BaseRLModel object) the RL Agent\n",
        "    :param num_episodes: (int) number of episodes to evaluate it\n",
        "    :return: (float) Mean reward for the last num_episodes\n",
        "    \"\"\"\n",
        "    # This function will only work for a single Environment\n",
        "    env = model.get_env()\n",
        "    all_episode_rewards = []\n",
        "    for i in range(num_episodes):\n",
        "        episode_rewards = []\n",
        "        done = False\n",
        "        obs = env.reset()\n",
        "        while not done:\n",
        "            # _states are only useful when using LSTM policies\n",
        "            action, _states = model.predict(obs)\n",
        "            # here, action, rewards and dones are arrays\n",
        "            # because we are using vectorized env\n",
        "            obs, reward, done, info = env.step(action)\n",
        "            episode_rewards.append(reward)\n",
        "\n",
        "        all_episode_rewards.append(sum(episode_rewards))\n",
        "\n",
        "    mean_episode_reward = np.mean(all_episode_rewards)\n",
        "    print(\"Mean reward:\", mean_episode_reward, \"Num episodes:\", num_episodes)\n",
        "\n",
        "    return mean_episode_reward"
      ],
      "execution_count": 9,
      "outputs": []
    },
    {
      "cell_type": "markdown",
      "metadata": {
        "id": "zjEVOIY8NVeK"
      },
      "source": [
        "Let's evaluate the un-trained agent, this should be a random agent."
      ]
    },
    {
      "cell_type": "code",
      "metadata": {
        "colab": {
          "base_uri": "https://localhost:8080/"
        },
        "id": "xDHLMA6NFk95",
        "outputId": "2aa72bf3-bcd2-4373-8c82-0175ef9a6f7a"
      },
      "source": [
        "# Random Agent, before training\n",
        "mean_reward_before_train = evaluate(model, num_episodes=100)"
      ],
      "execution_count": 10,
      "outputs": [
        {
          "output_type": "stream",
          "text": [
            "Mean reward: 21.35 Num episodes: 100\n"
          ],
          "name": "stdout"
        }
      ]
    },
    {
      "cell_type": "markdown",
      "metadata": {
        "id": "QjjPxrwkYJ2i"
      },
      "source": [
        "Stable-Baselines already provides you with that helper:"
      ]
    },
    {
      "cell_type": "code",
      "metadata": {
        "id": "8z6K9YImYJEx"
      },
      "source": [
        "from stable_baselines3.common.evaluation import evaluate_policy"
      ],
      "execution_count": 11,
      "outputs": []
    },
    {
      "cell_type": "code",
      "metadata": {
        "colab": {
          "base_uri": "https://localhost:8080/"
        },
        "id": "4oPTHjxyZSOL",
        "outputId": "edaaf565-8fa1-42bf-e87c-08984462ef8d"
      },
      "source": [
        "mean_reward, std_reward = evaluate_policy(model, env, n_eval_episodes=100)\n",
        "\n",
        "print(f\"mean_reward:{mean_reward:.2f} +/- {std_reward:.2f}\")"
      ],
      "execution_count": 12,
      "outputs": [
        {
          "output_type": "stream",
          "text": [
            "mean_reward:11.86 +/- 4.47\n"
          ],
          "name": "stdout"
        }
      ]
    },
    {
      "cell_type": "markdown",
      "metadata": {
        "id": "r5UoXTZPNdFE"
      },
      "source": [
        "## Train the agent and evaluate it"
      ]
    },
    {
      "cell_type": "code",
      "metadata": {
        "colab": {
          "base_uri": "https://localhost:8080/"
        },
        "id": "e4cfSXIB-pTF",
        "outputId": "391ff6d7-6adb-4ef5-f76e-725bac9913a1"
      },
      "source": [
        "# Train the agent for 10000 steps\n",
        "model.learn(total_timesteps=10000)"
      ],
      "execution_count": 13,
      "outputs": [
        {
          "output_type": "execute_result",
          "data": {
            "text/plain": [
              "<stable_baselines3.ppo.ppo.PPO at 0x7f602f69cbe0>"
            ]
          },
          "metadata": {
            "tags": []
          },
          "execution_count": 13
        }
      ]
    },
    {
      "cell_type": "code",
      "metadata": {
        "colab": {
          "base_uri": "https://localhost:8080/"
        },
        "id": "ygl_gVmV_QP7",
        "outputId": "c9b7c5ff-8892-4b27-8579-9e405bd3be67"
      },
      "source": [
        "# Evaluate the trained agent\n",
        "mean_reward, std_reward = evaluate_policy(model, env, n_eval_episodes=100)\n",
        "\n",
        "print(f\"mean_reward:{mean_reward:.2f} +/- {std_reward:.2f}\")"
      ],
      "execution_count": 14,
      "outputs": [
        {
          "output_type": "stream",
          "text": [
            "mean_reward:357.08 +/- 135.21\n"
          ],
          "name": "stdout"
        }
      ]
    },
    {
      "cell_type": "markdown",
      "metadata": {
        "id": "A00W6yY3NkHG"
      },
      "source": [
        "Apparently the training went well, the mean reward increased a lot ! "
      ]
    },
    {
      "cell_type": "markdown",
      "metadata": {
        "id": "_NmTPtsOhzHZ"
      },
      "source": [
        "#2. Using RL-Scope to profile the `stable-baselines3` evaluation inference loop\n",
        "Lets annotate the evaluation inference loop with RL-Scope annotations to understand where time is spent."
      ]
    },
    {
      "cell_type": "markdown",
      "metadata": {
        "id": "VT3i_nd74Eso"
      },
      "source": [
        "##Install RL-Scope\n",
        "\n",
        "First, we'll install some required external `apt` dependencies:"
      ]
    },
    {
      "cell_type": "code",
      "metadata": {
        "colab": {
          "base_uri": "https://localhost:8080/"
        },
        "id": "nNC2S0W_4f7L",
        "outputId": "31a8b489-adb9-4690-a56c-88c41e182219"
      },
      "source": [
        "# REQUIRED:\n",
        "# RL-Scope external dependencies.\n",
        "# Needed for generating plots.\n",
        "!sudo apt install -y texlive-extra-utils # installs 'pdfcrop' command\n",
        "!sudo apt install -y poppler-utils       # installs 'pdftoppm' command (PDF -> PNG)\n",
        "\n",
        "# OPTIONAL:\n",
        "# Command-line tool useful in this tutorial for inspecting trace file directories.\n",
        "!sudo apt install -y tree"
      ],
      "execution_count": 15,
      "outputs": [
        {
          "output_type": "stream",
          "text": [
            "Reading package lists... Done\n",
            "Building dependency tree       \n",
            "Reading state information... Done\n",
            "The following additional packages will be installed:\n",
            "  fonts-droid-fallback fonts-lato fonts-lmodern fonts-noto-mono ghostscript\n",
            "  gsfonts javascript-common libcupsfilters1 libcupsimage2 libfile-homedir-perl\n",
            "  libfile-which-perl libgs9 libgs9-common libijs-0.35 libjbig2dec0\n",
            "  libjs-jquery libkpathsea6 libmime-charset-perl libpotrace0 libptexenc1\n",
            "  libruby2.5 libsombok3 libsynctex1 libtexlua52 libtexluajit2\n",
            "  libunicode-linebreak-perl libyaml-tiny-perl libzzip-0-13 lmodern\n",
            "  poppler-data rake ruby ruby-did-you-mean ruby-minitest ruby-net-telnet\n",
            "  ruby-power-assert ruby-test-unit ruby2.5 rubygems-integration t1utils\n",
            "  tex-common texlive-base texlive-binaries texlive-latex-base\n",
            "  texlive-latex-recommended\n",
            "Suggested packages:\n",
            "  fonts-noto ghostscript-x apache2 | lighttpd | httpd libencode-hanextra-perl\n",
            "  libpod2-base-perl poppler-utils fonts-japanese-mincho | fonts-ipafont-mincho\n",
            "  fonts-japanese-gothic | fonts-ipafont-gothic fonts-arphic-ukai\n",
            "  fonts-arphic-uming fonts-nanum ri ruby-dev bundler debhelper perl-tk\n",
            "  xpdf-reader | pdf-viewer chktex dvidvi dvipng fragmaster lacheck latexdiff\n",
            "  latexmk purifyeps xindy texlive-latex-base-doc texlive-latex-recommended-doc\n",
            "  texlive-pstricks\n",
            "The following NEW packages will be installed:\n",
            "  fonts-droid-fallback fonts-lato fonts-lmodern fonts-noto-mono ghostscript\n",
            "  gsfonts javascript-common libcupsfilters1 libcupsimage2 libfile-homedir-perl\n",
            "  libfile-which-perl libgs9 libgs9-common libijs-0.35 libjbig2dec0\n",
            "  libjs-jquery libkpathsea6 libmime-charset-perl libpotrace0 libptexenc1\n",
            "  libruby2.5 libsombok3 libsynctex1 libtexlua52 libtexluajit2\n",
            "  libunicode-linebreak-perl libyaml-tiny-perl libzzip-0-13 lmodern\n",
            "  poppler-data rake ruby ruby-did-you-mean ruby-minitest ruby-net-telnet\n",
            "  ruby-power-assert ruby-test-unit ruby2.5 rubygems-integration t1utils\n",
            "  tex-common texlive-base texlive-binaries texlive-extra-utils\n",
            "  texlive-latex-base texlive-latex-recommended\n",
            "0 upgraded, 46 newly installed, 0 to remove and 15 not upgraded.\n",
            "Need to get 98.8 MB of archives.\n",
            "After this operation, 282 MB of additional disk space will be used.\n",
            "Get:1 http://archive.ubuntu.com/ubuntu bionic/main amd64 fonts-droid-fallback all 1:6.0.1r16-1.1 [1,805 kB]\n",
            "Get:2 http://archive.ubuntu.com/ubuntu bionic/main amd64 fonts-lato all 2.0-2 [2,698 kB]\n",
            "Get:3 http://archive.ubuntu.com/ubuntu bionic/main amd64 poppler-data all 0.4.8-2 [1,479 kB]\n",
            "Get:4 http://archive.ubuntu.com/ubuntu bionic/main amd64 tex-common all 6.09 [33.0 kB]\n",
            "Get:5 http://archive.ubuntu.com/ubuntu bionic/main amd64 fonts-lmodern all 2.004.5-3 [4,551 kB]\n",
            "Get:6 http://archive.ubuntu.com/ubuntu bionic/main amd64 fonts-noto-mono all 20171026-2 [75.5 kB]\n",
            "Get:7 http://archive.ubuntu.com/ubuntu bionic-updates/main amd64 libcupsimage2 amd64 2.2.7-1ubuntu2.8 [18.6 kB]\n",
            "Get:8 http://archive.ubuntu.com/ubuntu bionic/main amd64 libijs-0.35 amd64 0.35-13 [15.5 kB]\n",
            "Get:9 http://archive.ubuntu.com/ubuntu bionic/main amd64 libjbig2dec0 amd64 0.13-6 [55.9 kB]\n",
            "Get:10 http://archive.ubuntu.com/ubuntu bionic-updates/main amd64 libgs9-common all 9.26~dfsg+0-0ubuntu0.18.04.14 [5,092 kB]\n",
            "Get:11 http://archive.ubuntu.com/ubuntu bionic-updates/main amd64 libgs9 amd64 9.26~dfsg+0-0ubuntu0.18.04.14 [2,265 kB]\n",
            "Get:12 http://archive.ubuntu.com/ubuntu bionic-updates/main amd64 ghostscript amd64 9.26~dfsg+0-0ubuntu0.18.04.14 [51.3 kB]\n",
            "Get:13 http://archive.ubuntu.com/ubuntu bionic/main amd64 gsfonts all 1:8.11+urwcyr1.0.7~pre44-4.4 [3,120 kB]\n",
            "Get:14 http://archive.ubuntu.com/ubuntu bionic/main amd64 javascript-common all 11 [6,066 B]\n",
            "Get:15 http://archive.ubuntu.com/ubuntu bionic-updates/main amd64 libcupsfilters1 amd64 1.20.2-0ubuntu3.1 [108 kB]\n",
            "Get:16 http://archive.ubuntu.com/ubuntu bionic/main amd64 libfile-which-perl all 1.21-1 [11.8 kB]\n",
            "Get:17 http://archive.ubuntu.com/ubuntu bionic/main amd64 libfile-homedir-perl all 1.002-1 [37.1 kB]\n",
            "Get:18 http://archive.ubuntu.com/ubuntu bionic/main amd64 libjs-jquery all 3.2.1-1 [152 kB]\n",
            "Get:19 http://archive.ubuntu.com/ubuntu bionic-updates/main amd64 libkpathsea6 amd64 2017.20170613.44572-8ubuntu0.1 [54.9 kB]\n",
            "Get:20 http://archive.ubuntu.com/ubuntu bionic/universe amd64 libmime-charset-perl all 1.012.2-1 [30.9 kB]\n",
            "Get:21 http://archive.ubuntu.com/ubuntu bionic/main amd64 libpotrace0 amd64 1.14-2 [17.4 kB]\n",
            "Get:22 http://archive.ubuntu.com/ubuntu bionic-updates/main amd64 libptexenc1 amd64 2017.20170613.44572-8ubuntu0.1 [34.5 kB]\n",
            "Get:23 http://archive.ubuntu.com/ubuntu bionic/main amd64 rubygems-integration all 1.11 [4,994 B]\n",
            "Get:24 http://archive.ubuntu.com/ubuntu bionic-updates/main amd64 ruby2.5 amd64 2.5.1-1ubuntu1.7 [48.6 kB]\n",
            "Get:25 http://archive.ubuntu.com/ubuntu bionic/main amd64 ruby amd64 1:2.5.1 [5,712 B]\n",
            "Get:26 http://archive.ubuntu.com/ubuntu bionic-updates/main amd64 rake all 12.3.1-1ubuntu0.1 [44.9 kB]\n",
            "Get:27 http://archive.ubuntu.com/ubuntu bionic/main amd64 ruby-did-you-mean all 1.2.0-2 [9,700 B]\n",
            "Get:28 http://archive.ubuntu.com/ubuntu bionic/main amd64 ruby-minitest all 5.10.3-1 [38.6 kB]\n",
            "Get:29 http://archive.ubuntu.com/ubuntu bionic/main amd64 ruby-net-telnet all 0.1.1-2 [12.6 kB]\n",
            "Get:30 http://archive.ubuntu.com/ubuntu bionic/main amd64 ruby-power-assert all 0.3.0-1 [7,952 B]\n",
            "Get:31 http://archive.ubuntu.com/ubuntu bionic/main amd64 ruby-test-unit all 3.2.5-1 [61.1 kB]\n",
            "Get:32 http://archive.ubuntu.com/ubuntu bionic-updates/main amd64 libruby2.5 amd64 2.5.1-1ubuntu1.7 [3,068 kB]\n",
            "Get:33 http://archive.ubuntu.com/ubuntu bionic/universe amd64 libsombok3 amd64 2.4.0-1 [27.2 kB]\n",
            "Get:34 http://archive.ubuntu.com/ubuntu bionic-updates/main amd64 libsynctex1 amd64 2017.20170613.44572-8ubuntu0.1 [41.4 kB]\n",
            "Get:35 http://archive.ubuntu.com/ubuntu bionic-updates/main amd64 libtexlua52 amd64 2017.20170613.44572-8ubuntu0.1 [91.2 kB]\n",
            "Get:36 http://archive.ubuntu.com/ubuntu bionic-updates/main amd64 libtexluajit2 amd64 2017.20170613.44572-8ubuntu0.1 [230 kB]\n",
            "Get:37 http://archive.ubuntu.com/ubuntu bionic/universe amd64 libunicode-linebreak-perl amd64 0.0.20160702-1build2 [96.6 kB]\n",
            "Get:38 http://archive.ubuntu.com/ubuntu bionic/main amd64 libyaml-tiny-perl all 1.70-1 [25.1 kB]\n",
            "Get:39 http://archive.ubuntu.com/ubuntu bionic-updates/main amd64 libzzip-0-13 amd64 0.13.62-3.1ubuntu0.18.04.1 [26.0 kB]\n",
            "Get:40 http://archive.ubuntu.com/ubuntu bionic/main amd64 lmodern all 2.004.5-3 [9,631 kB]\n",
            "Get:41 http://archive.ubuntu.com/ubuntu bionic/main amd64 t1utils amd64 1.41-2 [56.0 kB]\n",
            "Get:42 http://archive.ubuntu.com/ubuntu bionic-updates/main amd64 texlive-binaries amd64 2017.20170613.44572-8ubuntu0.1 [8,179 kB]\n",
            "Get:43 http://archive.ubuntu.com/ubuntu bionic/main amd64 texlive-base all 2017.20180305-1 [18.7 MB]\n",
            "Get:44 http://archive.ubuntu.com/ubuntu bionic/main amd64 texlive-latex-base all 2017.20180305-1 [951 kB]\n",
            "Get:45 http://archive.ubuntu.com/ubuntu bionic/universe amd64 texlive-extra-utils all 2017.20180305-2 [20.9 MB]\n",
            "Get:46 http://archive.ubuntu.com/ubuntu bionic/main amd64 texlive-latex-recommended all 2017.20180305-1 [14.9 MB]\n",
            "Fetched 98.8 MB in 6s (15.6 MB/s)\n",
            "debconf: unable to initialize frontend: Dialog\n",
            "debconf: (No usable dialog-like program is installed, so the dialog based frontend cannot be used. at /usr/share/perl5/Debconf/FrontEnd/Dialog.pm line 76, <> line 46.)\n",
            "debconf: falling back to frontend: Readline\n",
            "debconf: unable to initialize frontend: Readline\n",
            "debconf: (This frontend requires a controlling tty.)\n",
            "debconf: falling back to frontend: Teletype\n",
            "dpkg-preconfigure: unable to re-open stdin: \n",
            "Selecting previously unselected package fonts-droid-fallback.\n",
            "(Reading database ... 146463 files and directories currently installed.)\n",
            "Preparing to unpack .../00-fonts-droid-fallback_1%3a6.0.1r16-1.1_all.deb ...\n",
            "Unpacking fonts-droid-fallback (1:6.0.1r16-1.1) ...\n",
            "Selecting previously unselected package fonts-lato.\n",
            "Preparing to unpack .../01-fonts-lato_2.0-2_all.deb ...\n",
            "Unpacking fonts-lato (2.0-2) ...\n",
            "Selecting previously unselected package poppler-data.\n",
            "Preparing to unpack .../02-poppler-data_0.4.8-2_all.deb ...\n",
            "Unpacking poppler-data (0.4.8-2) ...\n",
            "Selecting previously unselected package tex-common.\n",
            "Preparing to unpack .../03-tex-common_6.09_all.deb ...\n",
            "Unpacking tex-common (6.09) ...\n",
            "Selecting previously unselected package fonts-lmodern.\n",
            "Preparing to unpack .../04-fonts-lmodern_2.004.5-3_all.deb ...\n",
            "Unpacking fonts-lmodern (2.004.5-3) ...\n",
            "Selecting previously unselected package fonts-noto-mono.\n",
            "Preparing to unpack .../05-fonts-noto-mono_20171026-2_all.deb ...\n",
            "Unpacking fonts-noto-mono (20171026-2) ...\n",
            "Selecting previously unselected package libcupsimage2:amd64.\n",
            "Preparing to unpack .../06-libcupsimage2_2.2.7-1ubuntu2.8_amd64.deb ...\n",
            "Unpacking libcupsimage2:amd64 (2.2.7-1ubuntu2.8) ...\n",
            "Selecting previously unselected package libijs-0.35:amd64.\n",
            "Preparing to unpack .../07-libijs-0.35_0.35-13_amd64.deb ...\n",
            "Unpacking libijs-0.35:amd64 (0.35-13) ...\n",
            "Selecting previously unselected package libjbig2dec0:amd64.\n",
            "Preparing to unpack .../08-libjbig2dec0_0.13-6_amd64.deb ...\n",
            "Unpacking libjbig2dec0:amd64 (0.13-6) ...\n",
            "Selecting previously unselected package libgs9-common.\n",
            "Preparing to unpack .../09-libgs9-common_9.26~dfsg+0-0ubuntu0.18.04.14_all.deb ...\n",
            "Unpacking libgs9-common (9.26~dfsg+0-0ubuntu0.18.04.14) ...\n",
            "Selecting previously unselected package libgs9:amd64.\n",
            "Preparing to unpack .../10-libgs9_9.26~dfsg+0-0ubuntu0.18.04.14_amd64.deb ...\n",
            "Unpacking libgs9:amd64 (9.26~dfsg+0-0ubuntu0.18.04.14) ...\n",
            "Selecting previously unselected package ghostscript.\n",
            "Preparing to unpack .../11-ghostscript_9.26~dfsg+0-0ubuntu0.18.04.14_amd64.deb ...\n",
            "Unpacking ghostscript (9.26~dfsg+0-0ubuntu0.18.04.14) ...\n",
            "Selecting previously unselected package gsfonts.\n",
            "Preparing to unpack .../12-gsfonts_1%3a8.11+urwcyr1.0.7~pre44-4.4_all.deb ...\n",
            "Unpacking gsfonts (1:8.11+urwcyr1.0.7~pre44-4.4) ...\n",
            "Selecting previously unselected package javascript-common.\n",
            "Preparing to unpack .../13-javascript-common_11_all.deb ...\n",
            "Unpacking javascript-common (11) ...\n",
            "Selecting previously unselected package libcupsfilters1:amd64.\n",
            "Preparing to unpack .../14-libcupsfilters1_1.20.2-0ubuntu3.1_amd64.deb ...\n",
            "Unpacking libcupsfilters1:amd64 (1.20.2-0ubuntu3.1) ...\n",
            "Selecting previously unselected package libfile-which-perl.\n",
            "Preparing to unpack .../15-libfile-which-perl_1.21-1_all.deb ...\n",
            "Unpacking libfile-which-perl (1.21-1) ...\n",
            "Selecting previously unselected package libfile-homedir-perl.\n",
            "Preparing to unpack .../16-libfile-homedir-perl_1.002-1_all.deb ...\n",
            "Unpacking libfile-homedir-perl (1.002-1) ...\n",
            "Selecting previously unselected package libjs-jquery.\n",
            "Preparing to unpack .../17-libjs-jquery_3.2.1-1_all.deb ...\n",
            "Unpacking libjs-jquery (3.2.1-1) ...\n",
            "Selecting previously unselected package libkpathsea6:amd64.\n",
            "Preparing to unpack .../18-libkpathsea6_2017.20170613.44572-8ubuntu0.1_amd64.deb ...\n",
            "Unpacking libkpathsea6:amd64 (2017.20170613.44572-8ubuntu0.1) ...\n",
            "Selecting previously unselected package libmime-charset-perl.\n",
            "Preparing to unpack .../19-libmime-charset-perl_1.012.2-1_all.deb ...\n",
            "Unpacking libmime-charset-perl (1.012.2-1) ...\n",
            "Selecting previously unselected package libpotrace0.\n",
            "Preparing to unpack .../20-libpotrace0_1.14-2_amd64.deb ...\n",
            "Unpacking libpotrace0 (1.14-2) ...\n",
            "Selecting previously unselected package libptexenc1:amd64.\n",
            "Preparing to unpack .../21-libptexenc1_2017.20170613.44572-8ubuntu0.1_amd64.deb ...\n",
            "Unpacking libptexenc1:amd64 (2017.20170613.44572-8ubuntu0.1) ...\n",
            "Selecting previously unselected package rubygems-integration.\n",
            "Preparing to unpack .../22-rubygems-integration_1.11_all.deb ...\n",
            "Unpacking rubygems-integration (1.11) ...\n",
            "Selecting previously unselected package ruby2.5.\n",
            "Preparing to unpack .../23-ruby2.5_2.5.1-1ubuntu1.7_amd64.deb ...\n",
            "Unpacking ruby2.5 (2.5.1-1ubuntu1.7) ...\n",
            "Selecting previously unselected package ruby.\n",
            "Preparing to unpack .../24-ruby_1%3a2.5.1_amd64.deb ...\n",
            "Unpacking ruby (1:2.5.1) ...\n",
            "Selecting previously unselected package rake.\n",
            "Preparing to unpack .../25-rake_12.3.1-1ubuntu0.1_all.deb ...\n",
            "Unpacking rake (12.3.1-1ubuntu0.1) ...\n",
            "Selecting previously unselected package ruby-did-you-mean.\n",
            "Preparing to unpack .../26-ruby-did-you-mean_1.2.0-2_all.deb ...\n",
            "Unpacking ruby-did-you-mean (1.2.0-2) ...\n",
            "Selecting previously unselected package ruby-minitest.\n",
            "Preparing to unpack .../27-ruby-minitest_5.10.3-1_all.deb ...\n",
            "Unpacking ruby-minitest (5.10.3-1) ...\n",
            "Selecting previously unselected package ruby-net-telnet.\n",
            "Preparing to unpack .../28-ruby-net-telnet_0.1.1-2_all.deb ...\n",
            "Unpacking ruby-net-telnet (0.1.1-2) ...\n",
            "Selecting previously unselected package ruby-power-assert.\n",
            "Preparing to unpack .../29-ruby-power-assert_0.3.0-1_all.deb ...\n",
            "Unpacking ruby-power-assert (0.3.0-1) ...\n",
            "Selecting previously unselected package ruby-test-unit.\n",
            "Preparing to unpack .../30-ruby-test-unit_3.2.5-1_all.deb ...\n",
            "Unpacking ruby-test-unit (3.2.5-1) ...\n",
            "Selecting previously unselected package libruby2.5:amd64.\n",
            "Preparing to unpack .../31-libruby2.5_2.5.1-1ubuntu1.7_amd64.deb ...\n",
            "Unpacking libruby2.5:amd64 (2.5.1-1ubuntu1.7) ...\n",
            "Selecting previously unselected package libsombok3:amd64.\n",
            "Preparing to unpack .../32-libsombok3_2.4.0-1_amd64.deb ...\n",
            "Unpacking libsombok3:amd64 (2.4.0-1) ...\n",
            "Selecting previously unselected package libsynctex1:amd64.\n",
            "Preparing to unpack .../33-libsynctex1_2017.20170613.44572-8ubuntu0.1_amd64.deb ...\n",
            "Unpacking libsynctex1:amd64 (2017.20170613.44572-8ubuntu0.1) ...\n",
            "Selecting previously unselected package libtexlua52:amd64.\n",
            "Preparing to unpack .../34-libtexlua52_2017.20170613.44572-8ubuntu0.1_amd64.deb ...\n",
            "Unpacking libtexlua52:amd64 (2017.20170613.44572-8ubuntu0.1) ...\n",
            "Selecting previously unselected package libtexluajit2:amd64.\n",
            "Preparing to unpack .../35-libtexluajit2_2017.20170613.44572-8ubuntu0.1_amd64.deb ...\n",
            "Unpacking libtexluajit2:amd64 (2017.20170613.44572-8ubuntu0.1) ...\n",
            "Selecting previously unselected package libunicode-linebreak-perl.\n",
            "Preparing to unpack .../36-libunicode-linebreak-perl_0.0.20160702-1build2_amd64.deb ...\n",
            "Unpacking libunicode-linebreak-perl (0.0.20160702-1build2) ...\n",
            "Selecting previously unselected package libyaml-tiny-perl.\n",
            "Preparing to unpack .../37-libyaml-tiny-perl_1.70-1_all.deb ...\n",
            "Unpacking libyaml-tiny-perl (1.70-1) ...\n",
            "Selecting previously unselected package libzzip-0-13:amd64.\n",
            "Preparing to unpack .../38-libzzip-0-13_0.13.62-3.1ubuntu0.18.04.1_amd64.deb ...\n",
            "Unpacking libzzip-0-13:amd64 (0.13.62-3.1ubuntu0.18.04.1) ...\n",
            "Selecting previously unselected package lmodern.\n",
            "Preparing to unpack .../39-lmodern_2.004.5-3_all.deb ...\n",
            "Unpacking lmodern (2.004.5-3) ...\n",
            "Selecting previously unselected package t1utils.\n",
            "Preparing to unpack .../40-t1utils_1.41-2_amd64.deb ...\n",
            "Unpacking t1utils (1.41-2) ...\n",
            "Selecting previously unselected package texlive-binaries.\n",
            "Preparing to unpack .../41-texlive-binaries_2017.20170613.44572-8ubuntu0.1_amd64.deb ...\n",
            "Unpacking texlive-binaries (2017.20170613.44572-8ubuntu0.1) ...\n",
            "Selecting previously unselected package texlive-base.\n",
            "Preparing to unpack .../42-texlive-base_2017.20180305-1_all.deb ...\n",
            "Unpacking texlive-base (2017.20180305-1) ...\n",
            "Selecting previously unselected package texlive-latex-base.\n",
            "Preparing to unpack .../43-texlive-latex-base_2017.20180305-1_all.deb ...\n",
            "Unpacking texlive-latex-base (2017.20180305-1) ...\n",
            "Selecting previously unselected package texlive-extra-utils.\n",
            "Preparing to unpack .../44-texlive-extra-utils_2017.20180305-2_all.deb ...\n",
            "Unpacking texlive-extra-utils (2017.20180305-2) ...\n",
            "Selecting previously unselected package texlive-latex-recommended.\n",
            "Preparing to unpack .../45-texlive-latex-recommended_2017.20180305-1_all.deb ...\n",
            "Unpacking texlive-latex-recommended (2017.20180305-1) ...\n",
            "Setting up libgs9-common (9.26~dfsg+0-0ubuntu0.18.04.14) ...\n",
            "Setting up libkpathsea6:amd64 (2017.20170613.44572-8ubuntu0.1) ...\n",
            "Setting up libjs-jquery (3.2.1-1) ...\n",
            "Setting up libtexlua52:amd64 (2017.20170613.44572-8ubuntu0.1) ...\n",
            "Setting up fonts-droid-fallback (1:6.0.1r16-1.1) ...\n",
            "Setting up libsynctex1:amd64 (2017.20170613.44572-8ubuntu0.1) ...\n",
            "Setting up libptexenc1:amd64 (2017.20170613.44572-8ubuntu0.1) ...\n",
            "Setting up tex-common (6.09) ...\n",
            "debconf: unable to initialize frontend: Dialog\n",
            "debconf: (No usable dialog-like program is installed, so the dialog based frontend cannot be used. at /usr/share/perl5/Debconf/FrontEnd/Dialog.pm line 76.)\n",
            "debconf: falling back to frontend: Readline\n",
            "update-language: texlive-base not installed and configured, doing nothing!\n",
            "Setting up gsfonts (1:8.11+urwcyr1.0.7~pre44-4.4) ...\n",
            "Setting up libfile-which-perl (1.21-1) ...\n",
            "Setting up poppler-data (0.4.8-2) ...\n",
            "Setting up libfile-homedir-perl (1.002-1) ...\n",
            "Setting up libyaml-tiny-perl (1.70-1) ...\n",
            "Setting up fonts-noto-mono (20171026-2) ...\n",
            "Setting up fonts-lato (2.0-2) ...\n",
            "Setting up libcupsfilters1:amd64 (1.20.2-0ubuntu3.1) ...\n",
            "Setting up libcupsimage2:amd64 (2.2.7-1ubuntu2.8) ...\n",
            "Setting up libjbig2dec0:amd64 (0.13-6) ...\n",
            "Setting up ruby-did-you-mean (1.2.0-2) ...\n",
            "Setting up libmime-charset-perl (1.012.2-1) ...\n",
            "Setting up t1utils (1.41-2) ...\n",
            "Setting up ruby-net-telnet (0.1.1-2) ...\n",
            "Setting up libijs-0.35:amd64 (0.35-13) ...\n",
            "Setting up rubygems-integration (1.11) ...\n",
            "Setting up libpotrace0 (1.14-2) ...\n",
            "Setting up javascript-common (11) ...\n",
            "Setting up ruby-minitest (5.10.3-1) ...\n",
            "Setting up libzzip-0-13:amd64 (0.13.62-3.1ubuntu0.18.04.1) ...\n",
            "Setting up libgs9:amd64 (9.26~dfsg+0-0ubuntu0.18.04.14) ...\n",
            "Setting up libtexluajit2:amd64 (2017.20170613.44572-8ubuntu0.1) ...\n",
            "Setting up libsombok3:amd64 (2.4.0-1) ...\n",
            "Setting up fonts-lmodern (2.004.5-3) ...\n",
            "Setting up ruby-power-assert (0.3.0-1) ...\n",
            "Setting up ghostscript (9.26~dfsg+0-0ubuntu0.18.04.14) ...\n",
            "Setting up texlive-binaries (2017.20170613.44572-8ubuntu0.1) ...\n",
            "update-alternatives: using /usr/bin/xdvi-xaw to provide /usr/bin/xdvi.bin (xdvi.bin) in auto mode\n",
            "update-alternatives: using /usr/bin/bibtex.original to provide /usr/bin/bibtex (bibtex) in auto mode\n",
            "Setting up libunicode-linebreak-perl (0.0.20160702-1build2) ...\n",
            "Setting up texlive-base (2017.20180305-1) ...\n",
            "mktexlsr: Updating /var/lib/texmf/ls-R-TEXLIVEDIST... \n",
            "mktexlsr: Updating /var/lib/texmf/ls-R-TEXMFMAIN... \n",
            "mktexlsr: Updating /var/lib/texmf/ls-R... \n",
            "mktexlsr: Done.\n",
            "tl-paper: setting paper size for dvips to a4: /var/lib/texmf/dvips/config/config-paper.ps\n",
            "tl-paper: setting paper size for dvipdfmx to a4: /var/lib/texmf/dvipdfmx/dvipdfmx-paper.cfg\n",
            "tl-paper: setting paper size for xdvi to a4: /var/lib/texmf/xdvi/XDvi-paper\n",
            "tl-paper: setting paper size for pdftex to a4: /var/lib/texmf/tex/generic/config/pdftexconfig.tex\n",
            "debconf: unable to initialize frontend: Dialog\n",
            "debconf: (No usable dialog-like program is installed, so the dialog based frontend cannot be used. at /usr/share/perl5/Debconf/FrontEnd/Dialog.pm line 76.)\n",
            "debconf: falling back to frontend: Readline\n",
            "Setting up texlive-latex-base (2017.20180305-1) ...\n",
            "Setting up lmodern (2.004.5-3) ...\n",
            "Setting up texlive-latex-recommended (2017.20180305-1) ...\n",
            "Setting up texlive-extra-utils (2017.20180305-2) ...\n",
            "Setting up rake (12.3.1-1ubuntu0.1) ...\n",
            "Setting up ruby-test-unit (3.2.5-1) ...\n",
            "Setting up libruby2.5:amd64 (2.5.1-1ubuntu1.7) ...\n",
            "Setting up ruby2.5 (2.5.1-1ubuntu1.7) ...\n",
            "Setting up ruby (1:2.5.1) ...\n",
            "Processing triggers for fontconfig (2.12.6-0ubuntu2) ...\n",
            "Processing triggers for mime-support (3.60ubuntu1) ...\n",
            "Processing triggers for libc-bin (2.27-3ubuntu1.3) ...\n",
            "/sbin/ldconfig.real: /usr/local/lib/python3.6/dist-packages/ideep4py/lib/libmkldnn.so.0 is not a symbolic link\n",
            "\n",
            "Processing triggers for man-db (2.8.3-2ubuntu0.1) ...\n",
            "Processing triggers for tex-common (6.09) ...\n",
            "debconf: unable to initialize frontend: Dialog\n",
            "debconf: (No usable dialog-like program is installed, so the dialog based frontend cannot be used. at /usr/share/perl5/Debconf/FrontEnd/Dialog.pm line 76.)\n",
            "debconf: falling back to frontend: Readline\n",
            "Running updmap-sys. This may take some time... done.\n",
            "Running mktexlsr /var/lib/texmf ... done.\n",
            "Building format(s) --all.\n",
            "\tThis may take some time... done.\n",
            "Reading package lists... Done\n",
            "Building dependency tree       \n",
            "Reading state information... Done\n",
            "The following NEW packages will be installed:\n",
            "  poppler-utils\n",
            "0 upgraded, 1 newly installed, 0 to remove and 15 not upgraded.\n",
            "Need to get 154 kB of archives.\n",
            "After this operation, 613 kB of additional disk space will be used.\n",
            "Get:1 http://archive.ubuntu.com/ubuntu bionic-updates/main amd64 poppler-utils amd64 0.62.0-2ubuntu2.12 [154 kB]\n",
            "Fetched 154 kB in 1s (210 kB/s)\n",
            "debconf: unable to initialize frontend: Dialog\n",
            "debconf: (No usable dialog-like program is installed, so the dialog based frontend cannot be used. at /usr/share/perl5/Debconf/FrontEnd/Dialog.pm line 76, <> line 1.)\n",
            "debconf: falling back to frontend: Readline\n",
            "debconf: unable to initialize frontend: Readline\n",
            "debconf: (This frontend requires a controlling tty.)\n",
            "debconf: falling back to frontend: Teletype\n",
            "dpkg-preconfigure: unable to re-open stdin: \n",
            "Selecting previously unselected package poppler-utils.\n",
            "(Reading database ... 156056 files and directories currently installed.)\n",
            "Preparing to unpack .../poppler-utils_0.62.0-2ubuntu2.12_amd64.deb ...\n",
            "Unpacking poppler-utils (0.62.0-2ubuntu2.12) ...\n",
            "Setting up poppler-utils (0.62.0-2ubuntu2.12) ...\n",
            "Processing triggers for man-db (2.8.3-2ubuntu0.1) ...\n",
            "Reading package lists... Done\n",
            "Building dependency tree       \n",
            "Reading state information... Done\n",
            "The following NEW packages will be installed:\n",
            "  tree\n",
            "0 upgraded, 1 newly installed, 0 to remove and 15 not upgraded.\n",
            "Need to get 40.7 kB of archives.\n",
            "After this operation, 105 kB of additional disk space will be used.\n",
            "Get:1 http://archive.ubuntu.com/ubuntu bionic/universe amd64 tree amd64 1.7.0-5 [40.7 kB]\n",
            "Fetched 40.7 kB in 0s (99.2 kB/s)\n",
            "debconf: unable to initialize frontend: Dialog\n",
            "debconf: (No usable dialog-like program is installed, so the dialog based frontend cannot be used. at /usr/share/perl5/Debconf/FrontEnd/Dialog.pm line 76, <> line 1.)\n",
            "debconf: falling back to frontend: Readline\n",
            "debconf: unable to initialize frontend: Readline\n",
            "debconf: (This frontend requires a controlling tty.)\n",
            "debconf: falling back to frontend: Teletype\n",
            "dpkg-preconfigure: unable to re-open stdin: \n",
            "Selecting previously unselected package tree.\n",
            "(Reading database ... 156084 files and directories currently installed.)\n",
            "Preparing to unpack .../tree_1.7.0-5_amd64.deb ...\n",
            "Unpacking tree (1.7.0-5) ...\n",
            "Setting up tree (1.7.0-5) ...\n",
            "Processing triggers for man-db (2.8.3-2ubuntu0.1) ...\n"
          ],
          "name": "stdout"
        }
      ]
    },
    {
      "cell_type": "markdown",
      "metadata": {
        "id": "d9n-YHML5Ei7"
      },
      "source": [
        "Next, we will install the RL-Scope `pip` package whose CUDA version matches the CUDA version of our host environment.\n"
      ]
    },
    {
      "cell_type": "code",
      "metadata": {
        "colab": {
          "base_uri": "https://localhost:8080/"
        },
        "id": "ojGXqViF5FAo",
        "outputId": "3502dbee-d814-4323-d78b-e9ef03cc76eb"
      },
      "source": [
        "# RL-Scope version; this corresponds to a tag (with release files uploaded) \n",
        "# on our github repo:\n",
        "#   https://github.com/UofT-EcoSystem/rlscope\n",
        "rlscope_version = '0.0.1'\n",
        "\n",
        "# RL-Scope pre-compiles C++ components for various CUDA versions (e.g., 10.1, 11.0), \n",
        "# and adds a \"+cu101\" suffix to the version number (e.g., for 10.1). \n",
        "# We must use a CUDA version that matches our DL framework (PyTorch) and host environment \n",
        "# (whatever /usr/local/cuda points to).\n",
        "# NOTE: this is the same approach taken by PyTorch.\n",
        "rlscope_pip_version = \"rlscope=={ver}{cu}\".format(\n",
        "    ver=rlscope_version, \n",
        "    cu=cu_suffix)\n",
        "!pip uninstall -y rlscope || true\n",
        "!pip install $rlscope_pip_version -f https://uoft-ecosystem.github.io/rlscope/whl\n",
        "\n",
        "installed_rlscope_version = !python -c 'import rlscope; rlscope_version = rlscope.__version__; print(rlscope_version);'\n",
        "installed_rlscope_version = installed_rlscope_version[0]\n",
        "rlscope_git_version = !python -c 'import rlscope; print(rlscope.version.git_version);'\n",
        "rlscope_git_version = rlscope_git_version[0]\n",
        "print()\n",
        "print(\"> RL-Scope version    : {rlscope_version}\".format(rlscope_version=installed_rlscope_version))\n",
        "print(\"  RL-Scope git version: {rlscope_git_version}\".format(rlscope_git_version=rlscope_git_version))"
      ],
      "execution_count": 3,
      "outputs": [
        {
          "output_type": "stream",
          "text": [
            "Uninstalling rlscope-0.0.1+cu101:\n",
            "  Successfully uninstalled rlscope-0.0.1+cu101\n",
            "Looking in links: https://uoft-ecosystem.github.io/rlscope/whl\n",
            "Collecting rlscope==0.0.1+cu101\n",
            "\u001b[?25l  Downloading https://github.com/UofT-EcoSystem/rlscope/releases/download/v0.0.1/rlscope-0.0.1%2Bcu101-py3-none-manylinux1_x86_64.whl (26.6MB)\n",
            "\u001b[K     |████████████████████████████████| 26.6MB 107kB/s \n",
            "\u001b[?25hRequirement already satisfied: colorlog>=4.2.1 in /usr/local/lib/python3.6/dist-packages (from rlscope==0.0.1+cu101) (4.7.2)\n",
            "Requirement already satisfied: wheel>=0.26 in /usr/local/lib/python3.6/dist-packages (from rlscope==0.0.1+cu101) (0.36.2)\n",
            "Requirement already satisfied: numpy>=1.13.3 in /usr/local/lib/python3.6/dist-packages (from rlscope==0.0.1+cu101) (1.19.5)\n",
            "Requirement already satisfied: matplotlib in /usr/local/lib/python3.6/dist-packages (from rlscope==0.0.1+cu101) (3.2.2)\n",
            "Requirement already satisfied: pandas>=0.24.2 in /usr/local/lib/python3.6/dist-packages (from rlscope==0.0.1+cu101) (1.1.5)\n",
            "Requirement already satisfied: seaborn>=0.9.0 in /usr/local/lib/python3.6/dist-packages (from rlscope==0.0.1+cu101) (0.11.1)\n",
            "Requirement already satisfied: progressbar2>=3.39.2 in /usr/local/lib/python3.6/dist-packages (from rlscope==0.0.1+cu101) (3.53.1)\n",
            "Requirement already satisfied: psutil>=5.6.2 in /usr/local/lib/python3.6/dist-packages (from rlscope==0.0.1+cu101) (5.8.0)\n",
            "Requirement already satisfied: py-cpuinfo>=4.0.0 in /usr/local/lib/python3.6/dist-packages (from rlscope==0.0.1+cu101) (7.0.0)\n",
            "Requirement already satisfied: luigi>=2.8.6 in /usr/local/lib/python3.6/dist-packages (from rlscope==0.0.1+cu101) (3.0.2)\n",
            "Requirement already satisfied: tqdm>=4.31.1 in /usr/local/lib/python3.6/dist-packages (from rlscope==0.0.1+cu101) (4.41.1)\n",
            "Requirement already satisfied: protobuf>=3.6.1 in /usr/local/lib/python3.6/dist-packages (from rlscope==0.0.1+cu101) (3.12.4)\n",
            "Requirement already satisfied: scipy>=1.2.1 in /usr/local/lib/python3.6/dist-packages (from rlscope==0.0.1+cu101) (1.4.1)\n",
            "Requirement already satisfied: pytz>=2020.5 in /usr/local/lib/python3.6/dist-packages (from rlscope==0.0.1+cu101) (2021.1)\n",
            "Requirement already satisfied: pyparsing!=2.0.4,!=2.1.2,!=2.1.6,>=2.0.1 in /usr/local/lib/python3.6/dist-packages (from matplotlib->rlscope==0.0.1+cu101) (2.4.7)\n",
            "Requirement already satisfied: cycler>=0.10 in /usr/local/lib/python3.6/dist-packages (from matplotlib->rlscope==0.0.1+cu101) (0.10.0)\n",
            "Requirement already satisfied: kiwisolver>=1.0.1 in /usr/local/lib/python3.6/dist-packages (from matplotlib->rlscope==0.0.1+cu101) (1.3.1)\n",
            "Requirement already satisfied: python-dateutil>=2.1 in /usr/local/lib/python3.6/dist-packages (from matplotlib->rlscope==0.0.1+cu101) (2.8.1)\n",
            "Requirement already satisfied: six in /usr/local/lib/python3.6/dist-packages (from progressbar2>=3.39.2->rlscope==0.0.1+cu101) (1.15.0)\n",
            "Requirement already satisfied: python-utils>=2.3.0 in /usr/local/lib/python3.6/dist-packages (from progressbar2>=3.39.2->rlscope==0.0.1+cu101) (2.5.5)\n",
            "Requirement already satisfied: python-daemon in /usr/local/lib/python3.6/dist-packages (from luigi>=2.8.6->rlscope==0.0.1+cu101) (2.2.4)\n",
            "Requirement already satisfied: tornado<7,>=5.0 in /usr/local/lib/python3.6/dist-packages (from luigi>=2.8.6->rlscope==0.0.1+cu101) (5.1.1)\n",
            "Requirement already satisfied: setuptools in /usr/local/lib/python3.6/dist-packages (from protobuf>=3.6.1->rlscope==0.0.1+cu101) (53.0.0)\n",
            "Requirement already satisfied: lockfile>=0.10 in /usr/local/lib/python3.6/dist-packages (from python-daemon->luigi>=2.8.6->rlscope==0.0.1+cu101) (0.12.2)\n",
            "Requirement already satisfied: docutils in /usr/local/lib/python3.6/dist-packages (from python-daemon->luigi>=2.8.6->rlscope==0.0.1+cu101) (0.16)\n",
            "Installing collected packages: rlscope\n",
            "Successfully installed rlscope-0.0.1+cu101\n",
            "\n",
            "> RL-Scope version    : 0.0.1\n",
            "  RL-Scope git version: c69cc7693897abbd1e7099ae8f0955bc08e76c51\n"
          ],
          "name": "stdout"
        }
      ]
    },
    {
      "cell_type": "markdown",
      "metadata": {
        "id": "a4oij9fC4MAl"
      },
      "source": [
        "##TLDR: How to use RL-Scope\n",
        "\n",
        "Below, you will find the same code as before, but with additional lines for RL-Scope annotations.  The main steps to using RL-Scope are:\n",
        "\n",
        "1. Import RL-Scope: \n",
        "   - ```python\n",
        "     import rlscope.api as rlscope\n",
        "     ```\n",
        "2. Add RL-Scope command-line arguments: \n",
        "   - ```python\n",
        "     parser = argparse.ArgumentParser(...)\n",
        "     rlscope.add_rlscope_arguments(parser)\n",
        "     ```\n",
        "3. Determine where you want profiling to start: \n",
        "   - ```python\n",
        "     with rlscope.prof.profile(...):\n",
        "       # code to profile\n",
        "     ```\n",
        "4. Add meaningful operation annotations to your code:\n",
        "   - ```python\n",
        "     with rlscope.prof.operation('training_loop'):\n",
        "       for i in range(num_episodes):\n",
        "         with rlscope.prof.operation('inference'):\n",
        "           action = model.predict(...)\n",
        "         with rlscope.prof.operation('step'):\n",
        "           obs = env.step(action)\n",
        "     ```"
      ]
    },
    {
      "cell_type": "markdown",
      "metadata": {
        "id": "KUqMvP3T4OB8"
      },
      "source": [
        "##Running RL-Scope: `rls-prof`\n",
        "\n",
        "In order to collect traces, we need to run our training script from the command line using `rls-prof`, so instead of evaluating code piece-by-piece in this notebook, we will write it to `rlscope_tutorial.py` then invoke it using the jupyter's shell syntax:\n",
        "<!-- (`!rls-prof python rlscope_tutorial.py ...`). -->"
      ]
    },
    {
      "cell_type": "code",
      "metadata": {
        "colab": {
          "base_uri": "https://localhost:8080/"
        },
        "id": "DgUupt6AiwZj",
        "outputId": "11d97e23-cf6e-4936-d17a-3718cbac30b8"
      },
      "source": [
        "%%writefile rlscope_tutorial.py\n",
        "# Executing this will write to ./rlscope_tutorial.py\n",
        "import gym\n",
        "import numpy as np\n",
        "from stable_baselines3 import PPO\n",
        "from stable_baselines3.ppo.policies import MlpPolicy\n",
        "\n",
        "import argparse\n",
        "\n",
        "# Import rlscope.api to interact with rlscope.\n",
        "import rlscope.api as rlscope\n",
        "\n",
        "def main():\n",
        "    parser = argparse.ArgumentParser(description=\"Evaluate an RL policy\")\n",
        "    # rlscope will add custom arguments to the argparse argument parser \n",
        "    # that allow you to customize (e.g., \"--rlscope-directory <dir>\" \n",
        "    # for where to store results).\n",
        "    rlscope.add_rlscope_arguments(parser)\n",
        "    args = parser.parse_args()\n",
        "    \n",
        "    # Using the parsed arguments, rlscope will instantiate a singleton \n",
        "    # profiler instance (rlscope.prof).\n",
        "    rlscope.handle_rlscope_args(\n",
        "        parser=parser,\n",
        "        args=args,\n",
        "    )\n",
        "    # Provide a name for the algorithm and simulator (env) used so we can \n",
        "    # generate meaningful plot labels. \n",
        "    # The \"process_name\" and \"phase_name\" are useful identifiers for \n",
        "    # multi-process workloads.\n",
        "    rlscope.prof.set_metadata({\n",
        "        'algo': 'PPO',\n",
        "        'env': 'CartPole-v1',\n",
        "    })\n",
        "    process_name = 'PPO_CartPole'\n",
        "    phase_name = process_name\n",
        "    \n",
        "    env = gym.make('CartPole-v1')\n",
        "    # Random Agent, before training\n",
        "    model = PPO(MlpPolicy, env, verbose=0)\n",
        "    \n",
        "    # \"with rlscope.prof.profile(...)\" encapsulates the code you wish to profile. \n",
        "    # You can put \"setup code\" you don't wish to measure before this block.\n",
        "    with rlscope.prof.profile(process_name=process_name, phase_name=phase_name):\n",
        "        mean_reward_before_train = evaluate_rlscope(model, \n",
        "                                                    # num_episodes=10000,\n",
        "                                                    # num_episodes=1000,\n",
        "                                                    num_episodes=100,\n",
        "                                                   )\n",
        "\n",
        "\n",
        "def evaluate_rlscope(model, num_episodes=100):\n",
        "    \"\"\"\n",
        "    Evaluate a RL agent\n",
        "    :param model: (BaseRLModel object) the RL Agent\n",
        "    :param num_episodes: (int) number of episodes to evaluate it\n",
        "    :return: (float) Mean reward for the last num_episodes\n",
        "    \"\"\"\n",
        "    # This function will only work for a single Environment\n",
        "    env = model.get_env()\n",
        "    all_episode_rewards = []\n",
        "\n",
        "    # 'training_loop' will capture any time spent in the training loop below \n",
        "    # that isn't captured by a nested annotation (e.g., 'inference')\n",
        "    with rlscope.prof.operation('training_loop'):\n",
        "        for i in range(num_episodes):\n",
        "            \n",
        "            # rlscope.prof.report_progress(\n",
        "            #     percent_complete=i/float(num_episodes),\n",
        "            #     num_timesteps=i,\n",
        "            #     total_timesteps=num_episodes)\n",
        "            \n",
        "            episode_rewards = []\n",
        "            done = False\n",
        "            obs = env.reset()\n",
        "            while not done:\n",
        "                # 'inference' is the time spent determining the next action to take.\n",
        "                with rlscope.prof.operation('inference'):\n",
        "                    # _states are only useful when using LSTM policies\n",
        "                    action, _states = model.predict(obs)\n",
        "                # 'step' is the time spent running the simulator on the given action.\n",
        "                with rlscope.prof.operation('step'):\n",
        "                    # here, action, rewards and dones are arrays\n",
        "                    # because we are using vectorized env\n",
        "                    obs, reward, done, info = env.step(action)\n",
        "                    episode_rewards.append(reward)\n",
        "\n",
        "            all_episode_rewards.append(sum(episode_rewards))\n",
        "\n",
        "    mean_episode_reward = np.mean(all_episode_rewards)\n",
        "    print(\"Mean reward:\", mean_episode_reward, \"Num episodes:\", num_episodes)\n",
        "\n",
        "    return mean_episode_reward\n",
        "\n",
        "if __name__ == '__main__':\n",
        "    main()"
      ],
      "execution_count": 4,
      "outputs": [
        {
          "output_type": "stream",
          "text": [
            "Overwriting rlscope_tutorial.py\n"
          ],
          "name": "stdout"
        }
      ]
    },
    {
      "cell_type": "markdown",
      "metadata": {
        "id": "L_FAb_xbcWQk"
      },
      "source": [
        "Next, we delete any trace files from a previous run of this notebook:"
      ]
    },
    {
      "cell_type": "code",
      "metadata": {
        "id": "uGtIXusm51PC"
      },
      "source": [
        "!rm -rf ./rlscope_tutorial"
      ],
      "execution_count": 5,
      "outputs": []
    },
    {
      "cell_type": "markdown",
      "metadata": {
        "id": "oIdhNlDUcceN"
      },
      "source": [
        "Next, we use `rls-prof` to run our training script with profiling enabled.\n",
        "`--rlscope-directory ./rlscope_tutorial` tells rlscope to all of its profiling traces and graphs in `./rlscope_tutorial`.\n",
        "\n",
        "> **NOTE:** if you run your training script without `rls-prof`, then no profiling will be performed. This makes it easy to switch between profiling and debugging.\n",
        "\n",
        "Your training script will be run multiple times to calibrate for overhead correction, so trace collection takes longer than just running your code as usual.\n",
        "If you have multiple GPUs, experiments will be run across available GPUs.\n",
        "\n",
        "After all the configurations are run, `rls-prof` will analyze the collected trace files and generate time breakdown graphs; so lets run the command and check them out:"
      ]
    },
    {
      "cell_type": "code",
      "metadata": {
        "colab": {
          "base_uri": "https://localhost:8080/"
        },
        "id": "dnph6enooRgu",
        "outputId": "74b417cc-e8d8-4feb-a0fe-91ab1cbf7b42"
      },
      "source": [
        "# Run RL-Scope: collect traces, analyze results, and generate plots in ./rlscope_tutorial\n",
        "!rls-prof python rlscope_tutorial.py --rlscope-directory ./rlscope_tutorial"
      ],
      "execution_count": 6,
      "outputs": [
        {
          "output_type": "stream",
          "text": [
            "> CMD:\n",
            "  $ rls-calibrate run --verbosity progress --parallel-runs python rlscope_tutorial.py --rlscope-directory ./rlscope_tutorial\n",
            "  PWD=/content\n",
            "\u001b[32mINFO   \u001b[0m | \u001b[32mRun configurations:\n",
            "  ./rlscope_tutorial/config_time_breakdown_repetition_*\n",
            "  ./rlscope_tutorial/config_calibration_uninstrumented_repetition_*\n",
            "  ./rlscope_tutorial/config_calibration_interception_repetition_*\n",
            "  ./rlscope_tutorial/config_calibration_gpu_activities_repetition_*\n",
            "  ./rlscope_tutorial/config_calibration_no_gpu_activities_repetition_*\n",
            "  ./rlscope_tutorial/config_calibration_gpu_activities_api_time_repetition_*\n",
            "  ./rlscope_tutorial/config_calibration_just_pyprof_annotations_repetition_*\n",
            "  ./rlscope_tutorial/config_calibration_just_pyprof_interceptions_repetition_*\u001b[0m\n",
            "\u001b[32mINFO   \u001b[0m | \u001b[32mRunning configurations...\u001b[0m\n",
            "> CMD:\n",
            "  $ rls-run-expr --verbosity progress --skip-final-error-message --run-sh --sh ./rlscope_tutorial/run_expr.sh\n",
            "  PWD=/content\n",
            "100% (8 of 8) |###########################| Elapsed Time: 0:02:10 Time:  0:02:10\n",
            "\u001b[32mINFO   \u001b[0m | \u001b[32mTrace files have been recorded @ ./rlscope_tutorial/*\u001b[0m\n",
            "\u001b[32mINFO   \u001b[0m | \u001b[32mComputing profiling overhead calibration...\u001b[0m\n",
            "100% (4 of 4) |###########################| Elapsed Time: 0:00:06 Time:  0:00:06\n",
            "\u001b[32mINFO   \u001b[0m | \u001b[32mCalibration files have been generated @ ./rlscope_tutorial/*_overhead\u001b[0m\n",
            "\u001b[32mINFO   \u001b[0m | \u001b[32mAnalyzing trace files...\u001b[0m\n",
            "100% (2 of 2) |###########################| Elapsed Time: 0:00:00 Time:  0:00:00\n",
            "\u001b[32mINFO   \u001b[0m | \u001b[32mGenerating plots...\u001b[0m\n",
            "100% (4 of 4) |###########################| Elapsed Time: 0:00:03 Time:  0:00:03\n",
            "\u001b[32mINFO   \u001b[0m | \u001b[32mPlots have been generated @ ./rlscope_tutorial/*.{pdf,png}\u001b[0m\n"
          ],
          "name": "stdout"
        }
      ]
    },
    {
      "cell_type": "markdown",
      "metadata": {
        "id": "AuVDBIgreGDN"
      },
      "source": [
        "If `rls-prof` completes without errors, it will generate time breakdown plots.  RL-Scope will output `pdf` and `png` versions of the plots for convenience."
      ]
    },
    {
      "cell_type": "code",
      "metadata": {
        "colab": {
          "base_uri": "https://localhost:8080/"
        },
        "id": "LY-JSYIR211g",
        "outputId": "7dc31836-66ff-4f9f-84d3-68e114df3325"
      },
      "source": [
        "# Look at the plot files generated by RL-Scope\n",
        "!ls -l ./rlscope_tutorial/*.png"
      ],
      "execution_count": 7,
      "outputs": [
        {
          "output_type": "stream",
          "text": [
            "-rw-r--r-- 1 root root 26186 Feb  4 05:13 ./rlscope_tutorial/CategoryTransitionPlot.category_cuda_api_cpu.png\n",
            "-rw-r--r-- 1 root root 37125 Feb  4 05:13 ./rlscope_tutorial/CategoryTransitionPlot.category_framework_api_c.png\n",
            "-rw-r--r-- 1 root root 28697 Feb  4 05:13 ./rlscope_tutorial/CategoryTransitionPlot.combined.png\n",
            "-rw-r--r-- 1 root root 62588 Feb  4 05:13 ./rlscope_tutorial/OverlapStackedBarPlot.overlap_type_CategoryOverlap.operation_training_time.png\n",
            "-rw-r--r-- 1 root root 62588 Feb  4 05:13 ./rlscope_tutorial/OverlapStackedBarPlot.overlap_type_CategoryOverlap.operation_training_time.yerr.png\n",
            "-rw-r--r-- 1 root root 62180 Feb  4 05:13 ./rlscope_tutorial/OverlapStackedBarPlot.overlap_type_CategoryOverlap.percent.png\n",
            "-rw-r--r-- 1 root root 62180 Feb  4 05:13 ./rlscope_tutorial/OverlapStackedBarPlot.overlap_type_CategoryOverlap.percent.yerr.png\n"
          ],
          "name": "stdout"
        }
      ]
    },
    {
      "cell_type": "markdown",
      "metadata": {
        "id": "XGXqZuA8e7az"
      },
      "source": [
        "##RL-Scope plots\n",
        "\n",
        "Lets look at two of the plots RL-Scope generated, namely the time breakdown plot, and the transition plot.\n",
        "\n",
        "\n"
      ]
    },
    {
      "cell_type": "markdown",
      "metadata": {
        "id": "GarRqNMZfUxb"
      },
      "source": [
        "First, lets define some helper functions for displaying our plots."
      ]
    },
    {
      "cell_type": "code",
      "metadata": {
        "scrolled": false,
        "id": "MuJFQQ-P211g"
      },
      "source": [
        "# Define helper functions for plotting PNG files.\n",
        "from IPython.core.display import display\n",
        "from IPython.display import IFrame\n",
        "from IPython.display import Image\n",
        "\n",
        "from glob import glob\n",
        "\n",
        "def display_pdfs(glob_expr):\n",
        "    \"\"\"\n",
        "    Display all PDFs found in file glob expansion.\n",
        "    e.g. \n",
        "    \"\"\"\n",
        "    paths = glob(glob_expr)\n",
        "    pdfs = []\n",
        "    for path in paths:\n",
        "        # pdfs.append(WImage(path))\n",
        "        pdfs.append(IFrame(path, width=\"100%\", height=\"500\"))\n",
        "    for path, pdf in zip(paths, pdfs):\n",
        "        display(path)\n",
        "        display(pdf)\n",
        "\n",
        "# NOTE: using width=\"100%\" doesn't work in collab...instead hardcode width.\n",
        "IMAGE_WIDTH_PIXELS = 600\n",
        "def display_imgs(glob_expr):\n",
        "    \"\"\"\n",
        "    Display all PDFs found in file glob expansion.\n",
        "    e.g. \n",
        "    \"\"\"\n",
        "    paths = glob(glob_expr)\n",
        "    imgs = []\n",
        "    for path in paths:\n",
        "        imgs.append(Image(path, width=IMAGE_WIDTH_PIXELS))\n",
        "    for path, img in zip(paths, imgs):\n",
        "        display(path)\n",
        "        display(img)"
      ],
      "execution_count": 8,
      "outputs": []
    },
    {
      "cell_type": "markdown",
      "metadata": {
        "id": "C175BkHOlBvW"
      },
      "source": [
        "1. **Time breakdown plot:**\n",
        "\n"
      ]
    },
    {
      "cell_type": "code",
      "metadata": {
        "colab": {
          "base_uri": "https://localhost:8080/",
          "height": 399
        },
        "id": "uJ0KJZNfk8wT",
        "outputId": "96f546d9-4a5a-4d73-efbb-3f251ddae18d"
      },
      "source": [
        "display_imgs('./rlscope_tutorial/*.operation_training_time.png')"
      ],
      "execution_count": 9,
      "outputs": [
        {
          "output_type": "display_data",
          "data": {
            "application/vnd.google.colaboratory.intrinsic+json": {
              "type": "string"
            },
            "text/plain": [
              "'./rlscope_tutorial/OverlapStackedBarPlot.overlap_type_CategoryOverlap.operation_training_time.png'"
            ]
          },
          "metadata": {
            "tags": []
          }
        },
        {
          "output_type": "display_data",
          "data": {
            "image/png": "[encoded data removed]",
            "text/plain": [
              "<IPython.core.display.Image object>"
            ]
          },
          "metadata": {
            "tags": [],
            "image/png": {
              "width": 600
            }
          }
        }
      ]
    },
    {
      "cell_type": "markdown",
      "metadata": {
        "id": "-fSEarN1lF7e"
      },
      "source": [
        "This plot shows us the total training time broken down by operation, resource type (`CPU`, `GPU`), and fine-grained category (e.g., `CUDA`, `Backend`).  The vertical bars show us the operation names we added to our program (`training_loop`, `inference`, `step`).  Within each operation, stacked bars further break down the time into resource type, which are colour coded as \n",
        "$\\color{lightgreen}{\\text{GPU}}$,\n",
        "$\\color{lightblue}{\\text{CPU + GPU}}$,\n",
        "$\\color{red}{\\text{CPU}}$.\n",
        "\n",
        "Within each resource type (colour), time is further divided into fine-grained categories (hatch pattern):\n",
        "- **Backend** is CPU time spent in the C++ backend of the DL framework (PyTorch here).\n",
        "- **CUDA** is CPU time spent executing CUDA API calls (e.g., `cudaLaunchKernel`, `cudaMemcpy`).\n",
        "- **Python** is CPU time spent executing python code in the python interpretter."
      ]
    },
    {
      "cell_type": "markdown",
      "metadata": {
        "id": "MzN4SWfVlvVk"
      },
      "source": [
        "2. **Transition plot:**"
      ]
    },
    {
      "cell_type": "code",
      "metadata": {
        "colab": {
          "base_uri": "https://localhost:8080/",
          "height": 380
        },
        "id": "5L--9gnelA6C",
        "outputId": "4385c7b8-1f73-43c4-9b56-2fbdf59ad256"
      },
      "source": [
        "display_imgs('./rlscope_tutorial/CategoryTransitionPlot.combined.png')"
      ],
      "execution_count": 10,
      "outputs": [
        {
          "output_type": "display_data",
          "data": {
            "application/vnd.google.colaboratory.intrinsic+json": {
              "type": "string"
            },
            "text/plain": [
              "'./rlscope_tutorial/CategoryTransitionPlot.combined.png'"
            ]
          },
          "metadata": {
            "tags": []
          }
        },
        {
          "output_type": "display_data",
          "data": {
            "image/png": "[encoded data removed]",
            "text/plain": [
              "<IPython.core.display.Image object>"
            ]
          },
          "metadata": {
            "tags": [],
            "image/png": {
              "width": 600
            }
          }
        }
      ]
    },
    {
      "cell_type": "markdown",
      "metadata": {
        "id": "9b6TUI9xlHOX"
      },
      "source": [
        "This plot show the number of language transitions.  \n",
        "\n",
        "- *Backend*: Python$\\rightarrow$*Backend*\n",
        "\n",
        "  Calls from Python into the C++ backend of the DL framework.\n",
        "\n",
        "- *CUDA*: Backend$\\rightarrow$*CUDA*\n",
        "\n",
        "  CUDA API calls made by the framework.\n",
        "\n",
        "A large number of language transitions can result in large times spent CPU-bound.  Eager execution suffers more from this compared to more optimized execution models (e.g., AutoGraph in TensorFlow, TorchScript in PyTorch, Graph in TensorFlow v1)."
      ]
    },
    {
      "cell_type": "markdown",
      "metadata": {
        "id": "FrI6f5fWnzp-"
      },
      "source": [
        "# Conclusion and next steps\n",
        "\n",
        "In this notebook, we covered:\n",
        "- How to install RL-Scope\n",
        "- Basic RL-Scope API usage\n",
        "- How to collect traces and generate plots using RL-Scope\n",
        "- How to use the PyTorch based `stable-baselines3` RL framework to train a model\n",
        "- How to write an evaluation inference loop in `stable-baselines3`\n",
        "\n",
        "### Next steps\n",
        "\n",
        "For simplicity, we only profiled the evaluation inference loop.  However, to profile RL algorithm training time, we will need to add RL-Scope annotations to the underlying RL framework.  This typically requires modifying the underlying RL framework so can profile portions of the training loop.\n",
        "\n",
        "In a future tutorial (TODO) we will show how to modify the `stable-baselines3` framework to profile an RL training time."
      ]
    },
    {
      "cell_type": "markdown",
      "metadata": {
        "id": "LbVUKuqf3MyA"
      },
      "source": [
        "# Resources / Links\n",
        "\n",
        "For more information on the RL-Scope profiling tool:\n",
        "- Installing RL-Scope: https://rl-scope.readthedocs.io/en/latest/installation.html\n",
        "- Reproducing RL-Scope paper figures: https://rl-scope.readthedocs.io/en/latest/artifacts.html\n",
        "- Developing/buildilng RL-Scope in a docker development environment: https://rl-scope.readthedocs.io/en/latest/host_config.html\n",
        "\n",
        "For more information on the PyTorch based RL framework `stable-baselines3`:\n",
        "- Jupyter notebook github: https://github.com/araffin/rl-tutorial-jnrr19/tree/sb3/\n",
        "- `stable-baselines3` github: https://github.com/DLR-RM/stable-baselines3\n",
        "- `stable-baselines3` documentation: https://stable-baselines3.readthedocs.io/en/master/\n",
        "- RL Baselines3 zoo: https://github.com/DLR-RM/rl-baselines3-zoo\n",
        "  \n",
        "  RL Baselines3 Zoo is a collection of pre-tuned and pre-trained Reinforcement Learning agents using `stable-Baselines3`."
      ]
    }
  ]
}